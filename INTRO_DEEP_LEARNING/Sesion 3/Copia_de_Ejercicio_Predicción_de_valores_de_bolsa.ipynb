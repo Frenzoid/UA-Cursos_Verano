{
  "cells": [
    {
      "cell_type": "markdown",
      "metadata": {
        "id": "Dzf5ZuzTn2HA"
      },
      "source": [
        "# Sesión 3.2. Redes recurrentes - Predicción de valores de bolsa\n",
        "Curso 2022-23\n",
        "\n",
        "Profesor: Jorge Calvo Zaragoza (<jcalvo@dlsi.ua.es>)\n",
        "\n",
        "\n",
        "## Descripción\n",
        "\n",
        "---\n",
        "La predicción de valores de bolsa es un de los problemas más conocidos y aplicados. La predicción depende de muchos factores externos que por simplicidad no analizaremos y únicamente nos centraremos en las cotizaciones durante un periodo temporal.\n",
        "\n",
        "---\n"
      ]
    },
    {
      "cell_type": "markdown",
      "metadata": {
        "id": "rDD0bMFNn2J2"
      },
      "source": [
        "# Introducción\n",
        "\n",
        "El análisis de series temporales se refiere al análisis del cambio en la tendencia de los datos a lo largo de un período de tiempo. Este análisis tiene una gran variedad de aplicaciones. Una de estas aplicaciones es la predicción de valores futuros basadas en sus valores pasados. La predicción del precio futuro de las acciones es probablemente el mejor ejemplo de una aplicación de este tipo. En este ejercicio, plantearemos cómo podemos realizar el análisis temporal con la ayuda de una red neuronal recurrente. Predeciremos los precios futuros de las acciones de la Apple Company (AAPL) basándonos en los precios de las acciones de los últimos 5 años."
      ]
    },
    {
      "cell_type": "markdown",
      "metadata": {
        "id": "Jdoqn2pLkNqh"
      },
      "source": [
        "# Conjunto de datos"
      ]
    },
    {
      "cell_type": "markdown",
      "metadata": {
        "id": "vj2M4BafWV2D"
      },
      "source": [
        "Los datos que vamos a utilizar para esta actividad se pueden descargar de [Yahoo Finance](https://finance.yahoo.com/quote/AAPL/history?p=AAPL&.tsrc=fin-srch&guccounter=1&guce_referrer=aHR0cHM6Ly9zdGFja2FidXNlLmNvbS8&guce_referrer_sig=AQAAAKTyTaVfjMrISuvNNeO-Br47RyosTAY1GVIYQh4vPKo8QwHX3xX-7UyMQIH8VEg-yHFQVR1UtJ7fWxgw8BabaCmpPEM5uSzlqLYx9l2c3K46YZgml_9jtnHCc44gzaT8gp9myqnhtq2b-zdqzdwLBIrFG9M5RrgCMu_LWLP6VXwq) aunque también proporcionaremos una copia de estos valores en el fichero `AAPL.csv`. Para el entrenamiento de de nuestro sistema utilizaremos las cotizaciones bursátiles de Apple desde el 1 de enero de 2013 hasta el 31 de diciembre de 2017. Para la predicción, utilizaremos los precios de las acciones de Apple para el mes de enero de 2018.\n",
        "\n",
        "Veamos ahora cómo se ven nuestros datos. Abre el archivo de formación sobre el precio de las acciones de Apple que contiene los datos de los últimos cinco años. Contiene siete columnas: `Date', 'Open', 'High', 'Low', 'Close', 'Adj Close' y 'Volume`. Nos interesa predecir el precio de apertura de la acción (`Open`) , por lo tanto descartaremos el resto de la columnas."
      ]
    },
    {
      "cell_type": "code",
      "execution_count": 33,
      "metadata": {
        "colab": {
          "base_uri": "https://localhost:8080/",
          "height": 345
        },
        "id": "Z7eOMZYmkNql",
        "outputId": "c0e00fdf-c8ca-4b95-ad9b-b2c96b709d3c"
      },
      "outputs": [
        {
          "data": {
            "text/html": [
              "\n",
              "\n",
              "  <div id=\"df-649db25d-b06d-4f63-a41f-0a2ee7850adf\">\n",
              "    <div class=\"colab-df-container\">\n",
              "      <div>\n",
              "<style scoped>\n",
              "    .dataframe tbody tr th:only-of-type {\n",
              "        vertical-align: middle;\n",
              "    }\n",
              "\n",
              "    .dataframe tbody tr th {\n",
              "        vertical-align: top;\n",
              "    }\n",
              "\n",
              "    .dataframe thead th {\n",
              "        text-align: right;\n",
              "    }\n",
              "</style>\n",
              "<table border=\"1\" class=\"dataframe\">\n",
              "  <thead>\n",
              "    <tr style=\"text-align: right;\">\n",
              "      <th></th>\n",
              "      <th>Date</th>\n",
              "      <th>Open</th>\n",
              "      <th>High</th>\n",
              "      <th>Low</th>\n",
              "      <th>Close</th>\n",
              "      <th>Adj Close</th>\n",
              "      <th>Volume</th>\n",
              "    </tr>\n",
              "  </thead>\n",
              "  <tbody>\n",
              "    <tr>\n",
              "      <th>0</th>\n",
              "      <td>2012-12-31</td>\n",
              "      <td>72.932854</td>\n",
              "      <td>76.485718</td>\n",
              "      <td>72.714287</td>\n",
              "      <td>76.024284</td>\n",
              "      <td>67.190933</td>\n",
              "      <td>164873100</td>\n",
              "    </tr>\n",
              "    <tr>\n",
              "      <th>1</th>\n",
              "      <td>2013-01-02</td>\n",
              "      <td>79.117142</td>\n",
              "      <td>79.285713</td>\n",
              "      <td>77.375717</td>\n",
              "      <td>78.432854</td>\n",
              "      <td>69.319641</td>\n",
              "      <td>140129500</td>\n",
              "    </tr>\n",
              "    <tr>\n",
              "      <th>2</th>\n",
              "      <td>2013-01-03</td>\n",
              "      <td>78.268570</td>\n",
              "      <td>78.524284</td>\n",
              "      <td>77.285713</td>\n",
              "      <td>77.442856</td>\n",
              "      <td>68.444672</td>\n",
              "      <td>88241300</td>\n",
              "    </tr>\n",
              "    <tr>\n",
              "      <th>3</th>\n",
              "      <td>2013-01-04</td>\n",
              "      <td>76.709999</td>\n",
              "      <td>76.947144</td>\n",
              "      <td>75.118568</td>\n",
              "      <td>75.285713</td>\n",
              "      <td>66.538162</td>\n",
              "      <td>148583400</td>\n",
              "    </tr>\n",
              "    <tr>\n",
              "      <th>4</th>\n",
              "      <td>2013-01-07</td>\n",
              "      <td>74.571426</td>\n",
              "      <td>75.614288</td>\n",
              "      <td>73.599998</td>\n",
              "      <td>74.842857</td>\n",
              "      <td>66.146751</td>\n",
              "      <td>121039100</td>\n",
              "    </tr>\n",
              "  </tbody>\n",
              "</table>\n",
              "</div>\n",
              "      <button class=\"colab-df-convert\" onclick=\"convertToInteractive('df-649db25d-b06d-4f63-a41f-0a2ee7850adf')\"\n",
              "              title=\"Convert this dataframe to an interactive table.\"\n",
              "              style=\"display:none;\">\n",
              "\n",
              "  <svg xmlns=\"http://www.w3.org/2000/svg\" height=\"24px\"viewBox=\"0 0 24 24\"\n",
              "       width=\"24px\">\n",
              "    <path d=\"M0 0h24v24H0V0z\" fill=\"none\"/>\n",
              "    <path d=\"M18.56 5.44l.94 2.06.94-2.06 2.06-.94-2.06-.94-.94-2.06-.94 2.06-2.06.94zm-11 1L8.5 8.5l.94-2.06 2.06-.94-2.06-.94L8.5 2.5l-.94 2.06-2.06.94zm10 10l.94 2.06.94-2.06 2.06-.94-2.06-.94-.94-2.06-.94 2.06-2.06.94z\"/><path d=\"M17.41 7.96l-1.37-1.37c-.4-.4-.92-.59-1.43-.59-.52 0-1.04.2-1.43.59L10.3 9.45l-7.72 7.72c-.78.78-.78 2.05 0 2.83L4 21.41c.39.39.9.59 1.41.59.51 0 1.02-.2 1.41-.59l7.78-7.78 2.81-2.81c.8-.78.8-2.07 0-2.86zM5.41 20L4 18.59l7.72-7.72 1.47 1.35L5.41 20z\"/>\n",
              "  </svg>\n",
              "      </button>\n",
              "\n",
              "\n",
              "\n",
              "    <div id=\"df-bbfe869e-2b5c-41ff-b710-46131f2ea8ff\">\n",
              "      <button class=\"colab-df-quickchart\" onclick=\"quickchart('df-bbfe869e-2b5c-41ff-b710-46131f2ea8ff')\"\n",
              "              title=\"Suggest charts.\"\n",
              "              style=\"display:none;\">\n",
              "\n",
              "<svg xmlns=\"http://www.w3.org/2000/svg\" height=\"24px\"viewBox=\"0 0 24 24\"\n",
              "     width=\"24px\">\n",
              "    <g>\n",
              "        <path d=\"M19 3H5c-1.1 0-2 .9-2 2v14c0 1.1.9 2 2 2h14c1.1 0 2-.9 2-2V5c0-1.1-.9-2-2-2zM9 17H7v-7h2v7zm4 0h-2V7h2v10zm4 0h-2v-4h2v4z\"/>\n",
              "    </g>\n",
              "</svg>\n",
              "      </button>\n",
              "    </div>\n",
              "\n",
              "<style>\n",
              "  .colab-df-quickchart {\n",
              "    background-color: #E8F0FE;\n",
              "    border: none;\n",
              "    border-radius: 50%;\n",
              "    cursor: pointer;\n",
              "    display: none;\n",
              "    fill: #1967D2;\n",
              "    height: 32px;\n",
              "    padding: 0 0 0 0;\n",
              "    width: 32px;\n",
              "  }\n",
              "\n",
              "  .colab-df-quickchart:hover {\n",
              "    background-color: #E2EBFA;\n",
              "    box-shadow: 0px 1px 2px rgba(60, 64, 67, 0.3), 0px 1px 3px 1px rgba(60, 64, 67, 0.15);\n",
              "    fill: #174EA6;\n",
              "  }\n",
              "\n",
              "  [theme=dark] .colab-df-quickchart {\n",
              "    background-color: #3B4455;\n",
              "    fill: #D2E3FC;\n",
              "  }\n",
              "\n",
              "  [theme=dark] .colab-df-quickchart:hover {\n",
              "    background-color: #434B5C;\n",
              "    box-shadow: 0px 1px 3px 1px rgba(0, 0, 0, 0.15);\n",
              "    filter: drop-shadow(0px 1px 2px rgba(0, 0, 0, 0.3));\n",
              "    fill: #FFFFFF;\n",
              "  }\n",
              "</style>\n",
              "\n",
              "    <script>\n",
              "      async function quickchart(key) {\n",
              "        const containerElement = document.querySelector('#' + key);\n",
              "        const charts = await google.colab.kernel.invokeFunction(\n",
              "            'suggestCharts', [key], {});\n",
              "      }\n",
              "    </script>\n",
              "\n",
              "      <script>\n",
              "\n",
              "function displayQuickchartButton(domScope) {\n",
              "  let quickchartButtonEl =\n",
              "    domScope.querySelector('#df-bbfe869e-2b5c-41ff-b710-46131f2ea8ff button.colab-df-quickchart');\n",
              "  quickchartButtonEl.style.display =\n",
              "    google.colab.kernel.accessAllowed ? 'block' : 'none';\n",
              "}\n",
              "\n",
              "        displayQuickchartButton(document);\n",
              "      </script>\n",
              "      <style>\n",
              "    .colab-df-container {\n",
              "      display:flex;\n",
              "      flex-wrap:wrap;\n",
              "      gap: 12px;\n",
              "    }\n",
              "\n",
              "    .colab-df-convert {\n",
              "      background-color: #E8F0FE;\n",
              "      border: none;\n",
              "      border-radius: 50%;\n",
              "      cursor: pointer;\n",
              "      display: none;\n",
              "      fill: #1967D2;\n",
              "      height: 32px;\n",
              "      padding: 0 0 0 0;\n",
              "      width: 32px;\n",
              "    }\n",
              "\n",
              "    .colab-df-convert:hover {\n",
              "      background-color: #E2EBFA;\n",
              "      box-shadow: 0px 1px 2px rgba(60, 64, 67, 0.3), 0px 1px 3px 1px rgba(60, 64, 67, 0.15);\n",
              "      fill: #174EA6;\n",
              "    }\n",
              "\n",
              "    [theme=dark] .colab-df-convert {\n",
              "      background-color: #3B4455;\n",
              "      fill: #D2E3FC;\n",
              "    }\n",
              "\n",
              "    [theme=dark] .colab-df-convert:hover {\n",
              "      background-color: #434B5C;\n",
              "      box-shadow: 0px 1px 3px 1px rgba(0, 0, 0, 0.15);\n",
              "      filter: drop-shadow(0px 1px 2px rgba(0, 0, 0, 0.3));\n",
              "      fill: #FFFFFF;\n",
              "    }\n",
              "  </style>\n",
              "\n",
              "      <script>\n",
              "        const buttonEl =\n",
              "          document.querySelector('#df-649db25d-b06d-4f63-a41f-0a2ee7850adf button.colab-df-convert');\n",
              "        buttonEl.style.display =\n",
              "          google.colab.kernel.accessAllowed ? 'block' : 'none';\n",
              "\n",
              "        async function convertToInteractive(key) {\n",
              "          const element = document.querySelector('#df-649db25d-b06d-4f63-a41f-0a2ee7850adf');\n",
              "          const dataTable =\n",
              "            await google.colab.kernel.invokeFunction('convertToInteractive',\n",
              "                                                     [key], {});\n",
              "          if (!dataTable) return;\n",
              "\n",
              "          const docLinkHtml = 'Like what you see? Visit the ' +\n",
              "            '<a target=\"_blank\" href=https://colab.research.google.com/notebooks/data_table.ipynb>data table notebook</a>'\n",
              "            + ' to learn more about interactive tables.';\n",
              "          element.innerHTML = '';\n",
              "          dataTable['output_type'] = 'display_data';\n",
              "          await google.colab.output.renderOutput(dataTable, element);\n",
              "          const docLink = document.createElement('div');\n",
              "          docLink.innerHTML = docLinkHtml;\n",
              "          element.appendChild(docLink);\n",
              "        }\n",
              "      </script>\n",
              "    </div>\n",
              "  </div>\n"
            ],
            "text/plain": [
              "        Date       Open       High        Low      Close  Adj Close     Volume\n",
              "0 2012-12-31  72.932854  76.485718  72.714287  76.024284  67.190933  164873100\n",
              "1 2013-01-02  79.117142  79.285713  77.375717  78.432854  69.319641  140129500\n",
              "2 2013-01-03  78.268570  78.524284  77.285713  77.442856  68.444672   88241300\n",
              "3 2013-01-04  76.709999  76.947144  75.118568  75.285713  66.538162  148583400\n",
              "4 2013-01-07  74.571426  75.614288  73.599998  74.842857  66.146751  121039100"
            ]
          },
          "metadata": {},
          "output_type": "display_data"
        },
        {
          "data": {
            "text/plain": [
              "Date         datetime64[ns]\n",
              "Open                float64\n",
              "High                float64\n",
              "Low                 float64\n",
              "Close               float64\n",
              "Adj Close           float64\n",
              "Volume                int64\n",
              "dtype: object"
            ]
          },
          "execution_count": 33,
          "metadata": {},
          "output_type": "execute_result"
        }
      ],
      "source": [
        "import numpy as np\n",
        "import pandas as pd\n",
        "import tensorflow as tf\n",
        "\n",
        "tf.random.set_seed(1)  # Fijamos la semilla de TF\n",
        "np.random.seed(1)  # Fijamos la semilla\n",
        "\n",
        "data = pd.read_csv('https://www.dlsi.ua.es/~jcalvo/curso-deep-learning/AAPL.csv', parse_dates=['Date'])\n",
        "display(data.head())\n",
        "data.dtypes"
      ]
    },
    {
      "cell_type": "markdown",
      "metadata": {
        "id": "ywgKTsgWacyc"
      },
      "source": [
        "# Visualizar los valores de apertura"
      ]
    },
    {
      "cell_type": "code",
      "execution_count": 34,
      "metadata": {
        "colab": {
          "base_uri": "https://localhost:8080/",
          "height": 447
        },
        "id": "3YMczXIBaarS",
        "outputId": "419daa7d-717d-4932-8ba3-87de756dad13"
      },
      "outputs": [
        {
          "data": {
            "text/plain": [
              "<Axes: >"
            ]
          },
          "execution_count": 34,
          "metadata": {},
          "output_type": "execute_result"
        },
        {
          "data": {
            "image/png": "[encoded data removed]",
            "text/plain": [
              "<Figure size 640x480 with 1 Axes>"
            ]
          },
          "metadata": {},
          "output_type": "display_data"
        }
      ],
      "source": [
        "data['Open'].plot() # TODO: Visualiza los datos de la columna \"Open\""
      ]
    },
    {
      "cell_type": "markdown",
      "metadata": {
        "id": "Ac5YKPk_bygg"
      },
      "source": [
        "Se puede ver que la tendencia no es lineal y difícil capturar esta información. Las redes recurrentes como las tipo LSTM nos pueden ayudar ya que son capaces de recordar la información del pasado, al tiempo que predice los valores futuros."
      ]
    },
    {
      "cell_type": "markdown",
      "metadata": {
        "id": "_Uf4tBjPf14h"
      },
      "source": [
        "# Normalizar los datos"
      ]
    },
    {
      "cell_type": "markdown",
      "metadata": {
        "id": "zC9fCJIBckov"
      },
      "source": [
        "Como regla general, cuando se utilicen redes neuronales se deben normalizar o escalar los datos. En nuetro caso vamos a usar la clase `MinMaxScaler` de la biblioteca `sklearn.preprocessing` para transformarlos en valores  entre 0 y 1. El parámetro `feature_range` se utiliza para especificar el rango de los datos escalados."
      ]
    },
    {
      "cell_type": "code",
      "execution_count": 35,
      "metadata": {
        "colab": {
          "base_uri": "https://localhost:8080/",
          "height": 206
        },
        "id": "9ytSabELdRD-",
        "outputId": "8935b917-41ac-4b8c-8998-8699fb044bed"
      },
      "outputs": [
        {
          "data": {
            "text/html": [
              "\n",
              "\n",
              "  <div id=\"df-b75d750b-31ab-479c-aa5e-43d1d958b5dd\">\n",
              "    <div class=\"colab-df-container\">\n",
              "      <div>\n",
              "<style scoped>\n",
              "    .dataframe tbody tr th:only-of-type {\n",
              "        vertical-align: middle;\n",
              "    }\n",
              "\n",
              "    .dataframe tbody tr th {\n",
              "        vertical-align: top;\n",
              "    }\n",
              "\n",
              "    .dataframe thead th {\n",
              "        text-align: right;\n",
              "    }\n",
              "</style>\n",
              "<table border=\"1\" class=\"dataframe\">\n",
              "  <thead>\n",
              "    <tr style=\"text-align: right;\">\n",
              "      <th></th>\n",
              "      <th>Date</th>\n",
              "      <th>Open</th>\n",
              "      <th>High</th>\n",
              "      <th>Low</th>\n",
              "      <th>Close</th>\n",
              "      <th>Adj Close</th>\n",
              "      <th>Volume</th>\n",
              "      <th>Open Scaled</th>\n",
              "    </tr>\n",
              "  </thead>\n",
              "  <tbody>\n",
              "    <tr>\n",
              "      <th>0</th>\n",
              "      <td>2012-12-31</td>\n",
              "      <td>72.932854</td>\n",
              "      <td>76.485718</td>\n",
              "      <td>72.714287</td>\n",
              "      <td>76.024284</td>\n",
              "      <td>67.190933</td>\n",
              "      <td>164873100</td>\n",
              "      <td>0.141260</td>\n",
              "    </tr>\n",
              "    <tr>\n",
              "      <th>1</th>\n",
              "      <td>2013-01-02</td>\n",
              "      <td>79.117142</td>\n",
              "      <td>79.285713</td>\n",
              "      <td>77.375717</td>\n",
              "      <td>78.432854</td>\n",
              "      <td>69.319641</td>\n",
              "      <td>140129500</td>\n",
              "      <td>0.191155</td>\n",
              "    </tr>\n",
              "    <tr>\n",
              "      <th>2</th>\n",
              "      <td>2013-01-03</td>\n",
              "      <td>78.268570</td>\n",
              "      <td>78.524284</td>\n",
              "      <td>77.285713</td>\n",
              "      <td>77.442856</td>\n",
              "      <td>68.444672</td>\n",
              "      <td>88241300</td>\n",
              "      <td>0.184309</td>\n",
              "    </tr>\n",
              "    <tr>\n",
              "      <th>3</th>\n",
              "      <td>2013-01-04</td>\n",
              "      <td>76.709999</td>\n",
              "      <td>76.947144</td>\n",
              "      <td>75.118568</td>\n",
              "      <td>75.285713</td>\n",
              "      <td>66.538162</td>\n",
              "      <td>148583400</td>\n",
              "      <td>0.171734</td>\n",
              "    </tr>\n",
              "    <tr>\n",
              "      <th>4</th>\n",
              "      <td>2013-01-07</td>\n",
              "      <td>74.571426</td>\n",
              "      <td>75.614288</td>\n",
              "      <td>73.599998</td>\n",
              "      <td>74.842857</td>\n",
              "      <td>66.146751</td>\n",
              "      <td>121039100</td>\n",
              "      <td>0.154480</td>\n",
              "    </tr>\n",
              "  </tbody>\n",
              "</table>\n",
              "</div>\n",
              "      <button class=\"colab-df-convert\" onclick=\"convertToInteractive('df-b75d750b-31ab-479c-aa5e-43d1d958b5dd')\"\n",
              "              title=\"Convert this dataframe to an interactive table.\"\n",
              "              style=\"display:none;\">\n",
              "\n",
              "  <svg xmlns=\"http://www.w3.org/2000/svg\" height=\"24px\"viewBox=\"0 0 24 24\"\n",
              "       width=\"24px\">\n",
              "    <path d=\"M0 0h24v24H0V0z\" fill=\"none\"/>\n",
              "    <path d=\"M18.56 5.44l.94 2.06.94-2.06 2.06-.94-2.06-.94-.94-2.06-.94 2.06-2.06.94zm-11 1L8.5 8.5l.94-2.06 2.06-.94-2.06-.94L8.5 2.5l-.94 2.06-2.06.94zm10 10l.94 2.06.94-2.06 2.06-.94-2.06-.94-.94-2.06-.94 2.06-2.06.94z\"/><path d=\"M17.41 7.96l-1.37-1.37c-.4-.4-.92-.59-1.43-.59-.52 0-1.04.2-1.43.59L10.3 9.45l-7.72 7.72c-.78.78-.78 2.05 0 2.83L4 21.41c.39.39.9.59 1.41.59.51 0 1.02-.2 1.41-.59l7.78-7.78 2.81-2.81c.8-.78.8-2.07 0-2.86zM5.41 20L4 18.59l7.72-7.72 1.47 1.35L5.41 20z\"/>\n",
              "  </svg>\n",
              "      </button>\n",
              "\n",
              "\n",
              "\n",
              "    <div id=\"df-e234dfaf-37c8-4425-a2cd-bd58e76f02f1\">\n",
              "      <button class=\"colab-df-quickchart\" onclick=\"quickchart('df-e234dfaf-37c8-4425-a2cd-bd58e76f02f1')\"\n",
              "              title=\"Suggest charts.\"\n",
              "              style=\"display:none;\">\n",
              "\n",
              "<svg xmlns=\"http://www.w3.org/2000/svg\" height=\"24px\"viewBox=\"0 0 24 24\"\n",
              "     width=\"24px\">\n",
              "    <g>\n",
              "        <path d=\"M19 3H5c-1.1 0-2 .9-2 2v14c0 1.1.9 2 2 2h14c1.1 0 2-.9 2-2V5c0-1.1-.9-2-2-2zM9 17H7v-7h2v7zm4 0h-2V7h2v10zm4 0h-2v-4h2v4z\"/>\n",
              "    </g>\n",
              "</svg>\n",
              "      </button>\n",
              "    </div>\n",
              "\n",
              "<style>\n",
              "  .colab-df-quickchart {\n",
              "    background-color: #E8F0FE;\n",
              "    border: none;\n",
              "    border-radius: 50%;\n",
              "    cursor: pointer;\n",
              "    display: none;\n",
              "    fill: #1967D2;\n",
              "    height: 32px;\n",
              "    padding: 0 0 0 0;\n",
              "    width: 32px;\n",
              "  }\n",
              "\n",
              "  .colab-df-quickchart:hover {\n",
              "    background-color: #E2EBFA;\n",
              "    box-shadow: 0px 1px 2px rgba(60, 64, 67, 0.3), 0px 1px 3px 1px rgba(60, 64, 67, 0.15);\n",
              "    fill: #174EA6;\n",
              "  }\n",
              "\n",
              "  [theme=dark] .colab-df-quickchart {\n",
              "    background-color: #3B4455;\n",
              "    fill: #D2E3FC;\n",
              "  }\n",
              "\n",
              "  [theme=dark] .colab-df-quickchart:hover {\n",
              "    background-color: #434B5C;\n",
              "    box-shadow: 0px 1px 3px 1px rgba(0, 0, 0, 0.15);\n",
              "    filter: drop-shadow(0px 1px 2px rgba(0, 0, 0, 0.3));\n",
              "    fill: #FFFFFF;\n",
              "  }\n",
              "</style>\n",
              "\n",
              "    <script>\n",
              "      async function quickchart(key) {\n",
              "        const containerElement = document.querySelector('#' + key);\n",
              "        const charts = await google.colab.kernel.invokeFunction(\n",
              "            'suggestCharts', [key], {});\n",
              "      }\n",
              "    </script>\n",
              "\n",
              "      <script>\n",
              "\n",
              "function displayQuickchartButton(domScope) {\n",
              "  let quickchartButtonEl =\n",
              "    domScope.querySelector('#df-e234dfaf-37c8-4425-a2cd-bd58e76f02f1 button.colab-df-quickchart');\n",
              "  quickchartButtonEl.style.display =\n",
              "    google.colab.kernel.accessAllowed ? 'block' : 'none';\n",
              "}\n",
              "\n",
              "        displayQuickchartButton(document);\n",
              "      </script>\n",
              "      <style>\n",
              "    .colab-df-container {\n",
              "      display:flex;\n",
              "      flex-wrap:wrap;\n",
              "      gap: 12px;\n",
              "    }\n",
              "\n",
              "    .colab-df-convert {\n",
              "      background-color: #E8F0FE;\n",
              "      border: none;\n",
              "      border-radius: 50%;\n",
              "      cursor: pointer;\n",
              "      display: none;\n",
              "      fill: #1967D2;\n",
              "      height: 32px;\n",
              "      padding: 0 0 0 0;\n",
              "      width: 32px;\n",
              "    }\n",
              "\n",
              "    .colab-df-convert:hover {\n",
              "      background-color: #E2EBFA;\n",
              "      box-shadow: 0px 1px 2px rgba(60, 64, 67, 0.3), 0px 1px 3px 1px rgba(60, 64, 67, 0.15);\n",
              "      fill: #174EA6;\n",
              "    }\n",
              "\n",
              "    [theme=dark] .colab-df-convert {\n",
              "      background-color: #3B4455;\n",
              "      fill: #D2E3FC;\n",
              "    }\n",
              "\n",
              "    [theme=dark] .colab-df-convert:hover {\n",
              "      background-color: #434B5C;\n",
              "      box-shadow: 0px 1px 3px 1px rgba(0, 0, 0, 0.15);\n",
              "      filter: drop-shadow(0px 1px 2px rgba(0, 0, 0, 0.3));\n",
              "      fill: #FFFFFF;\n",
              "    }\n",
              "  </style>\n",
              "\n",
              "      <script>\n",
              "        const buttonEl =\n",
              "          document.querySelector('#df-b75d750b-31ab-479c-aa5e-43d1d958b5dd button.colab-df-convert');\n",
              "        buttonEl.style.display =\n",
              "          google.colab.kernel.accessAllowed ? 'block' : 'none';\n",
              "\n",
              "        async function convertToInteractive(key) {\n",
              "          const element = document.querySelector('#df-b75d750b-31ab-479c-aa5e-43d1d958b5dd');\n",
              "          const dataTable =\n",
              "            await google.colab.kernel.invokeFunction('convertToInteractive',\n",
              "                                                     [key], {});\n",
              "          if (!dataTable) return;\n",
              "\n",
              "          const docLinkHtml = 'Like what you see? Visit the ' +\n",
              "            '<a target=\"_blank\" href=https://colab.research.google.com/notebooks/data_table.ipynb>data table notebook</a>'\n",
              "            + ' to learn more about interactive tables.';\n",
              "          element.innerHTML = '';\n",
              "          dataTable['output_type'] = 'display_data';\n",
              "          await google.colab.output.renderOutput(dataTable, element);\n",
              "          const docLink = document.createElement('div');\n",
              "          docLink.innerHTML = docLinkHtml;\n",
              "          element.appendChild(docLink);\n",
              "        }\n",
              "      </script>\n",
              "    </div>\n",
              "  </div>\n"
            ],
            "text/plain": [
              "        Date       Open       High        Low      Close  Adj Close  \\\n",
              "0 2012-12-31  72.932854  76.485718  72.714287  76.024284  67.190933   \n",
              "1 2013-01-02  79.117142  79.285713  77.375717  78.432854  69.319641   \n",
              "2 2013-01-03  78.268570  78.524284  77.285713  77.442856  68.444672   \n",
              "3 2013-01-04  76.709999  76.947144  75.118568  75.285713  66.538162   \n",
              "4 2013-01-07  74.571426  75.614288  73.599998  74.842857  66.146751   \n",
              "\n",
              "      Volume  Open Scaled  \n",
              "0  164873100     0.141260  \n",
              "1  140129500     0.191155  \n",
              "2   88241300     0.184309  \n",
              "3  148583400     0.171734  \n",
              "4  121039100     0.154480  "
            ]
          },
          "execution_count": 35,
          "metadata": {},
          "output_type": "execute_result"
        }
      ],
      "source": [
        "from sklearn import preprocessing\n",
        "\n",
        "scaler = preprocessing.MinMaxScaler(feature_range = (0, 1) ) # TODO: Especifica que el rango de la caracteristica debe estar entre 0 y 1\n",
        "\n",
        "data['Open Scaled'] = scaler.fit_transform(data['Open'].values.reshape(-1, 1))\n",
        "data.head()"
      ]
    },
    {
      "cell_type": "markdown",
      "metadata": {
        "id": "qpCDPdgQd1Hx"
      },
      "source": [
        "# Convertir datos de entrenamiento a la forma correcta"
      ]
    },
    {
      "cell_type": "markdown",
      "metadata": {
        "id": "IHGjheO3d-qk"
      },
      "source": [
        "Como vamos a predecir el seguiente valor teniendo en cuenta los valores pasados vamos a transformar el único vector de entrada en una matriz que contenga N valores anteriores y como predicción el valor siguiente. Según el artículo referenciado, se recomienda un valor de N=60 pero se pueden probar alternativas y comprobar su comportamiento en la predicción.\n"
      ]
    },
    {
      "cell_type": "code",
      "execution_count": 36,
      "metadata": {
        "colab": {
          "base_uri": "https://localhost:8080/"
        },
        "id": "RFu8tZOOevgO",
        "outputId": "c4f47fd7-dd6a-4d17-a172-b42377912478"
      },
      "outputs": [
        {
          "name": "stdout",
          "output_type": "stream",
          "text": [
            "X.shape (1220, 60)\n",
            "X[:5] [[0.14125998 0.19115511 0.18430879 0.17173417 0.15448006 0.16279014\n",
            "  0.15505639 0.16202945 0.15332752 0.13221229 0.12716397 0.12294553\n",
            "  0.14100643 0.12741751 0.13437913 0.13927755 0.08302023 0.07344231\n",
            "  0.05746755 0.08129135 0.07956247 0.07953945 0.08199442 0.076001\n",
            "  0.0646366  0.07895161 0.08676612 0.09915632 0.10203774 0.10550701\n",
            "  0.09133031 0.08822988 0.09322052 0.08428806 0.08035776 0.06688413\n",
            "  0.07063002 0.07593187 0.06437151 0.06968491 0.0646366  0.0576635\n",
            "  0.04590719 0.03862291 0.05364099 0.04210368 0.04821237 0.04815472\n",
            "  0.05489732 0.04665636 0.05170468 0.05758281 0.06163988 0.08244395\n",
            "  0.08004654 0.07174803 0.07677326 0.0884258  0.08929027 0.07894009]\n",
            " [0.19115511 0.18430879 0.17173417 0.15448006 0.16279014 0.15505639\n",
            "  0.16202945 0.15332752 0.13221229 0.12716397 0.12294553 0.14100643\n",
            "  0.12741751 0.13437913 0.13927755 0.08302023 0.07344231 0.05746755\n",
            "  0.08129135 0.07956247 0.07953945 0.08199442 0.076001   0.0646366\n",
            "  0.07895161 0.08676612 0.09915632 0.10203774 0.10550701 0.09133031\n",
            "  0.08822988 0.09322052 0.08428806 0.08035776 0.06688413 0.07063002\n",
            "  0.07593187 0.06437151 0.06968491 0.0646366  0.0576635  0.04590719\n",
            "  0.03862291 0.05364099 0.04210368 0.04821237 0.04815472 0.05489732\n",
            "  0.04665636 0.05170468 0.05758281 0.06163988 0.08244395 0.08004654\n",
            "  0.07174803 0.07677326 0.0884258  0.08929027 0.07894009 0.07128699]\n",
            " [0.18430879 0.17173417 0.15448006 0.16279014 0.15505639 0.16202945\n",
            "  0.15332752 0.13221229 0.12716397 0.12294553 0.14100643 0.12741751\n",
            "  0.13437913 0.13927755 0.08302023 0.07344231 0.05746755 0.08129135\n",
            "  0.07956247 0.07953945 0.08199442 0.076001   0.0646366  0.07895161\n",
            "  0.08676612 0.09915632 0.10203774 0.10550701 0.09133031 0.08822988\n",
            "  0.09322052 0.08428806 0.08035776 0.06688413 0.07063002 0.07593187\n",
            "  0.06437151 0.06968491 0.0646366  0.0576635  0.04590719 0.03862291\n",
            "  0.05364099 0.04210368 0.04821237 0.04815472 0.05489732 0.04665636\n",
            "  0.05170468 0.05758281 0.06163988 0.08244395 0.08004654 0.07174803\n",
            "  0.07677326 0.0884258  0.08929027 0.07894009 0.07128699 0.06215855]\n",
            " [0.17173417 0.15448006 0.16279014 0.15505639 0.16202945 0.15332752\n",
            "  0.13221229 0.12716397 0.12294553 0.14100643 0.12741751 0.13437913\n",
            "  0.13927755 0.08302023 0.07344231 0.05746755 0.08129135 0.07956247\n",
            "  0.07953945 0.08199442 0.076001   0.0646366  0.07895161 0.08676612\n",
            "  0.09915632 0.10203774 0.10550701 0.09133031 0.08822988 0.09322052\n",
            "  0.08428806 0.08035776 0.06688413 0.07063002 0.07593187 0.06437151\n",
            "  0.06968491 0.0646366  0.0576635  0.04590719 0.03862291 0.05364099\n",
            "  0.04210368 0.04821237 0.04815472 0.05489732 0.04665636 0.05170468\n",
            "  0.05758281 0.06163988 0.08244395 0.08004654 0.07174803 0.07677326\n",
            "  0.0884258  0.08929027 0.07894009 0.07128699 0.06215855 0.04567666]\n",
            " [0.15448006 0.16279014 0.15505639 0.16202945 0.15332752 0.13221229\n",
            "  0.12716397 0.12294553 0.14100643 0.12741751 0.13437913 0.13927755\n",
            "  0.08302023 0.07344231 0.05746755 0.08129135 0.07956247 0.07953945\n",
            "  0.08199442 0.076001   0.0646366  0.07895161 0.08676612 0.09915632\n",
            "  0.10203774 0.10550701 0.09133031 0.08822988 0.09322052 0.08428806\n",
            "  0.08035776 0.06688413 0.07063002 0.07593187 0.06437151 0.06968491\n",
            "  0.0646366  0.0576635  0.04590719 0.03862291 0.05364099 0.04210368\n",
            "  0.04821237 0.04815472 0.05489732 0.04665636 0.05170468 0.05758281\n",
            "  0.06163988 0.08244395 0.08004654 0.07174803 0.07677326 0.0884258\n",
            "  0.08929027 0.07894009 0.07128699 0.06215855 0.04567666 0.05002191]]\n",
            "y.shape (1220,)\n",
            "y[:5] [0.07128699 0.06215855 0.04567666 0.05002191 0.05277656]\n"
          ]
        }
      ],
      "source": [
        "N=60\n",
        "\n",
        "#Valores de apertura en un vector\n",
        "scaled_values = data['Open Scaled'].values\n",
        "\n",
        "X = [] # Matriz base para predecir\n",
        "y = [] # Vector con la predicciones\n",
        "for i in range(N, len(scaled_values)):\n",
        "  X.append(scaled_values[i-N:i])\n",
        "  y.append(scaled_values[i])\n",
        "\n",
        "X = np.array(X)\n",
        "y = np.array(y)\n",
        "\n",
        "\n",
        "print('X.shape', X.shape ) # TODO: Imprime la forma del vector X\n",
        "print('X[:5]',  X[:5] )    # TODO: Imprime los 5 primeros valores del vector X\n",
        "print('y.shape', y.shape ) # TODO: Imprime la forma del vector y\n",
        "print('y[:5]', y[:5] )     # TODO: Imprime los 5 primeros valores del vector y"
      ]
    },
    {
      "cell_type": "markdown",
      "metadata": {
        "id": "HDX2vRKQsPKu"
      },
      "source": [
        "# Creando la red recurrente tipo LSTM"
      ]
    },
    {
      "cell_type": "markdown",
      "metadata": {
        "id": "Nud6Z57opGZv"
      },
      "source": [
        "Se han preprocesado los datos y los hemos convertido al formato correcto. Ahora tenemos que diseñar nuestra red para entrenarla y realizar las predicciones.\n",
        "\n",
        "En el caso de las redes recurrentes necesitamos una dimensión de entrada extra ya que necesitamos `(batch_size, time_steps, feature_size)` y nos faltaría la dimensión del `feature_size`."
      ]
    },
    {
      "cell_type": "code",
      "execution_count": 37,
      "metadata": {
        "colab": {
          "base_uri": "https://localhost:8080/"
        },
        "id": "23K-S7Kuqefy",
        "outputId": "6f6a7ccf-1f9d-49dd-849b-56dede7c6a53"
      },
      "outputs": [
        {
          "name": "stdout",
          "output_type": "stream",
          "text": [
            "(1220, 60, 1)\n"
          ]
        }
      ],
      "source": [
        "# Adaptación de la matriz de datos a redes recurrentes\n",
        "X = np.expand_dims(X, axis=-1) #\n",
        "print(X.shape)"
      ]
    },
    {
      "cell_type": "code",
      "execution_count": 40,
      "metadata": {
        "colab": {
          "base_uri": "https://localhost:8080/"
        },
        "id": "LwQXjGYqgN4P",
        "outputId": "210c0bff-3dc8-4c82-a0a1-7c3c1b287138"
      },
      "outputs": [
        {
          "name": "stdout",
          "output_type": "stream",
          "text": [
            "(60, 1)\n",
            "Model: \"sequential_17\"\n",
            "_________________________________________________________________\n",
            " Layer (type)                Output Shape              Param #   \n",
            "=================================================================\n",
            " lstm_14 (LSTM)              (None, 128)               66560     \n",
            "                                                                 \n",
            " dropout_6 (Dropout)         (None, 128)               0         \n",
            "                                                                 \n",
            " dense_6 (Dense)             (None, 1)                 129       \n",
            "                                                                 \n",
            "=================================================================\n",
            "Total params: 66,689\n",
            "Trainable params: 66,689\n",
            "Non-trainable params: 0\n",
            "_________________________________________________________________\n"
          ]
        }
      ],
      "source": [
        "from tensorflow.keras.models import Sequential\n",
        "from tensorflow.keras.layers import LSTM, Dropout, Dense\n",
        "\n",
        "input_shape = X.shape[1:]\n",
        "\n",
        "model =  Sequential()    # TODO: Define un modelo secuencial\n",
        "model.add(LSTM(128, input_shape=input_shape)) # TODO: Añade una LSTM de 128 unidades (junto con las dimensiones de entrada)\n",
        "model.add(Dropout(0.2)) # TODO: Añade una capa de Dropout del 20 %\n",
        "model.add(Dense(1)) # TODO: Añade una capa densa de una neurona\n",
        "\n",
        "model.compile(optimizer='adam', loss='mean_squared_error')  # TODO: Compila el model con el optimizador Adam y una pérdida de error cuadrático medio\n",
        "\n",
        "model.summary()"
      ]
    },
    {
      "cell_type": "markdown",
      "metadata": {
        "id": "8pMsuWZgpBMf"
      },
      "source": [
        "# Entrenamiento del modelo"
      ]
    },
    {
      "cell_type": "markdown",
      "metadata": {
        "id": "owWYXA8nsWfA"
      },
      "source": [
        "Vamos a dividir el conjunto en entrenamiento y test para comprobar nuestro modelo. Para ello vamos a reservar los últimos 30 días para realizar las predicciones."
      ]
    },
    {
      "cell_type": "code",
      "execution_count": 41,
      "metadata": {
        "id": "XSww5d8Nsdwo"
      },
      "outputs": [],
      "source": [
        "X_train = X[:-30]\n",
        "X_test = X[-29:len(X)]        # TODO: Crea la particiones de test para el vector X\n",
        "\n",
        "y_train = y[:-30]\n",
        "y_test =  y[-29:len(y)]       # TODO: Crea las particiones de train y test para el vector y"
      ]
    },
    {
      "cell_type": "code",
      "execution_count": 42,
      "metadata": {
        "colab": {
          "base_uri": "https://localhost:8080/"
        },
        "id": "Fsxd-B3sszCn",
        "outputId": "7896a2d2-24bd-44f7-8bf0-b14ec8b35728"
      },
      "outputs": [
        {
          "name": "stdout",
          "output_type": "stream",
          "text": [
            "Epoch 1/50\n",
            "38/38 [==============================] - 3s 7ms/step - loss: 0.0201\n",
            "Epoch 2/50\n",
            "38/38 [==============================] - 0s 6ms/step - loss: 0.0021\n",
            "Epoch 3/50\n",
            "38/38 [==============================] - 0s 6ms/step - loss: 0.0016\n",
            "Epoch 4/50\n",
            "38/38 [==============================] - 0s 5ms/step - loss: 0.0016\n",
            "Epoch 5/50\n",
            "38/38 [==============================] - 0s 6ms/step - loss: 0.0016\n",
            "Epoch 6/50\n",
            "38/38 [==============================] - 0s 5ms/step - loss: 0.0013\n",
            "Epoch 7/50\n",
            "38/38 [==============================] - 0s 5ms/step - loss: 0.0013\n",
            "Epoch 8/50\n",
            "38/38 [==============================] - 0s 5ms/step - loss: 0.0013\n",
            "Epoch 9/50\n",
            "38/38 [==============================] - 0s 5ms/step - loss: 0.0012\n",
            "Epoch 10/50\n",
            "38/38 [==============================] - 0s 5ms/step - loss: 0.0012\n",
            "Epoch 11/50\n",
            "38/38 [==============================] - 0s 5ms/step - loss: 0.0012\n",
            "Epoch 12/50\n",
            "38/38 [==============================] - 0s 5ms/step - loss: 0.0012\n",
            "Epoch 13/50\n",
            "38/38 [==============================] - 0s 5ms/step - loss: 0.0013\n",
            "Epoch 14/50\n",
            "38/38 [==============================] - 0s 5ms/step - loss: 0.0012\n",
            "Epoch 15/50\n",
            "38/38 [==============================] - 0s 6ms/step - loss: 0.0013\n",
            "Epoch 16/50\n",
            "38/38 [==============================] - 0s 6ms/step - loss: 0.0011\n",
            "Epoch 17/50\n",
            "38/38 [==============================] - 0s 5ms/step - loss: 0.0012\n",
            "Epoch 18/50\n",
            "38/38 [==============================] - 0s 6ms/step - loss: 0.0010\n",
            "Epoch 19/50\n",
            "38/38 [==============================] - 0s 5ms/step - loss: 0.0011\n",
            "Epoch 20/50\n",
            "38/38 [==============================] - 0s 5ms/step - loss: 0.0010\n",
            "Epoch 21/50\n",
            "38/38 [==============================] - 0s 5ms/step - loss: 0.0010\n",
            "Epoch 22/50\n",
            "38/38 [==============================] - 0s 5ms/step - loss: 0.0011\n",
            "Epoch 23/50\n",
            "38/38 [==============================] - 0s 5ms/step - loss: 0.0010\n",
            "Epoch 24/50\n",
            "38/38 [==============================] - 0s 5ms/step - loss: 9.0027e-04\n",
            "Epoch 25/50\n",
            "38/38 [==============================] - 0s 5ms/step - loss: 8.9543e-04\n",
            "Epoch 26/50\n",
            "38/38 [==============================] - 0s 6ms/step - loss: 9.9297e-04\n",
            "Epoch 27/50\n",
            "38/38 [==============================] - 0s 5ms/step - loss: 9.6770e-04\n",
            "Epoch 28/50\n",
            "38/38 [==============================] - 0s 5ms/step - loss: 9.1180e-04\n",
            "Epoch 29/50\n",
            "38/38 [==============================] - 0s 5ms/step - loss: 9.9965e-04\n",
            "Epoch 30/50\n",
            "38/38 [==============================] - 0s 5ms/step - loss: 9.6697e-04\n",
            "Epoch 31/50\n",
            "38/38 [==============================] - 0s 5ms/step - loss: 0.0011\n",
            "Epoch 32/50\n",
            "38/38 [==============================] - 0s 5ms/step - loss: 9.2340e-04\n",
            "Epoch 33/50\n",
            "38/38 [==============================] - 0s 5ms/step - loss: 9.9707e-04\n",
            "Epoch 34/50\n",
            "38/38 [==============================] - 0s 5ms/step - loss: 8.9158e-04\n",
            "Epoch 35/50\n",
            "38/38 [==============================] - 0s 6ms/step - loss: 7.8778e-04\n",
            "Epoch 36/50\n",
            "38/38 [==============================] - 0s 5ms/step - loss: 8.0164e-04\n",
            "Epoch 37/50\n",
            "38/38 [==============================] - 0s 5ms/step - loss: 8.7736e-04\n",
            "Epoch 38/50\n",
            "38/38 [==============================] - 0s 5ms/step - loss: 8.8094e-04\n",
            "Epoch 39/50\n",
            "38/38 [==============================] - 0s 6ms/step - loss: 8.9906e-04\n",
            "Epoch 40/50\n",
            "38/38 [==============================] - 0s 6ms/step - loss: 7.9150e-04\n",
            "Epoch 41/50\n",
            "38/38 [==============================] - 0s 7ms/step - loss: 9.0635e-04\n",
            "Epoch 42/50\n",
            "38/38 [==============================] - 0s 7ms/step - loss: 8.3930e-04\n",
            "Epoch 43/50\n",
            "38/38 [==============================] - 0s 7ms/step - loss: 7.5119e-04\n",
            "Epoch 44/50\n",
            "38/38 [==============================] - 0s 7ms/step - loss: 8.8727e-04\n",
            "Epoch 45/50\n",
            "38/38 [==============================] - 0s 7ms/step - loss: 8.3742e-04\n",
            "Epoch 46/50\n",
            "38/38 [==============================] - 0s 7ms/step - loss: 7.7605e-04\n",
            "Epoch 47/50\n",
            "38/38 [==============================] - 0s 8ms/step - loss: 8.7041e-04\n",
            "Epoch 48/50\n",
            "38/38 [==============================] - 0s 8ms/step - loss: 7.2935e-04\n",
            "Epoch 49/50\n",
            "38/38 [==============================] - 0s 7ms/step - loss: 7.0460e-04\n",
            "Epoch 50/50\n",
            "38/38 [==============================] - 0s 5ms/step - loss: 7.5584e-04\n"
          ]
        },
        {
          "data": {
            "text/plain": [
              "<keras.callbacks.History at 0x7f3f80346d10>"
            ]
          },
          "execution_count": 42,
          "metadata": {},
          "output_type": "execute_result"
        }
      ],
      "source": [
        "model.fit(X_train, y_train, 32, 50 )        # TODO: Entrena el modelo durante 50 épocas, con un tamaño de batch de 32"
      ]
    },
    {
      "cell_type": "markdown",
      "metadata": {
        "id": "WY2Zzr6qn2KI"
      },
      "source": [
        "# Predicciones con el test"
      ]
    },
    {
      "cell_type": "code",
      "execution_count": 43,
      "metadata": {
        "colab": {
          "base_uri": "https://localhost:8080/"
        },
        "id": "jPxsKYJgQzeM",
        "outputId": "129728a1-8a73-4443-9fdf-d4004bb6c3da"
      },
      "outputs": [
        {
          "name": "stdout",
          "output_type": "stream",
          "text": [
            "1/1 [==============================] - 0s 331ms/step\n"
          ]
        }
      ],
      "source": [
        "y_pred =   model.predict(X_test)            # TODO: Obtén las predicciones sobre el conjunto de test"
      ]
    },
    {
      "cell_type": "markdown",
      "metadata": {
        "id": "PmRlI3IIn2Kw"
      },
      "source": [
        "# Visualización de resultados"
      ]
    },
    {
      "cell_type": "markdown",
      "metadata": {
        "id": "CH6QCfm8Qf_y"
      },
      "source": [
        "Visualización de los últimos días reales (60) junto a los 30 días de predicción."
      ]
    },
    {
      "cell_type": "code",
      "execution_count": 44,
      "metadata": {
        "colab": {
          "base_uri": "https://localhost:8080/",
          "height": 447
        },
        "id": "JihnH5hrn2Ky",
        "outputId": "c0c43f66-0126-4a80-855b-6e7ce422b12a"
      },
      "outputs": [
        {
          "data": {
            "text/plain": [
              "<Axes: >"
            ]
          },
          "execution_count": 44,
          "metadata": {},
          "output_type": "execute_result"
        },
        {
          "data": {
            "image/png": "[encoded data removed]",
            "text/plain": [
              "<Figure size 640x480 with 1 Axes>"
            ]
          },
          "metadata": {},
          "output_type": "display_data"
        }
      ],
      "source": [
        "y_pred_last = np.concatenate((y_train,y_pred.ravel()))[-60:]\n",
        "y_last = y[-60:]\n",
        "pd.DataFrame({'y_pred':y_pred_last, 'y':y_last}).plot()"
      ]
    }
  ],
  "metadata": {
    "accelerator": "GPU",
    "colab": {
      "provenance": [],
      "toc_visible": true
    },
    "kernelspec": {
      "display_name": "Python 3",
      "name": "python3"
    }
  },
  "nbformat": 4,
  "nbformat_minor": 0
}
