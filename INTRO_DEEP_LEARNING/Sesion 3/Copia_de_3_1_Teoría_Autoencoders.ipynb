{
  "nbformat": 4,
  "nbformat_minor": 0,
  "metadata": {
    "colab": {
      "provenance": [],
      "toc_visible": true
    },
    "kernelspec": {
      "name": "python3",
      "display_name": "Python 3"
    },
    "accelerator": "GPU"
  },
  "cells": [
    {
      "cell_type": "markdown",
      "metadata": {
        "id": "Bsier9TP6Xe_"
      },
      "source": [
        "# 3.1. Autoencoders\n",
        "\n",
        "* Los autoencoders son un tipo específico de red neuronal en el que **la entrada es la misma que la salida**.\n",
        "\n",
        "<br>\n",
        "\n",
        "![Esquema autoencoder](http://www.dlsi.ua.es/~jgallego/deepraltamira/autoencoders/autoencoder0.png)\n",
        "\n",
        "<br>\n",
        "\n",
        "* Se entrenan de forma **no supervisada** para reconstruir a la salida lo mismo que reciben como entrada.\n",
        "\n",
        "* Esta tarea (replicar la entrada) por sí misma no tendría ninguna utilidad.\n",
        "\n",
        "* Sin embargo, en este tipo de redes, el tamaño de la capa intermedia suele tener un tamaño inferior al de la entrada.\n",
        "\n",
        "* Esto fuerza a que se tenga que aprender una **representación reducida** que permita reconstruir la entrada con la menor pérdida posible.\n",
        "\n",
        "* Estas redes están compuestas de tres partes:\n",
        "\n",
        " * Una parte inicial llamada **encoder** que codifica los datos.\n",
        " * Una parte intermedia con la representación codificada de los datos.\n",
        " * Una parte final llamada **decoder** que descodifica los datos.\n",
        "\n",
        "\n",
        "<br>\n",
        "\n",
        "![Esquema autoencoder](http://www.dlsi.ua.es/~jgallego/deepraltamira/autoencoders/autoencoder1.jpg)\n",
        "\n",
        "<br>\n",
        "\n",
        "\n",
        "* La representación intermedia codificada debe de contener las características esenciales de los datos para que al realizar la reconstrucción se pueda recuperar la entrada original.\n",
        "\n",
        "* Por lo tanto, la red, de forma **no supervisada**, aprende a:\n",
        " * Extraer las características importantes que representan una información.\n",
        " * Comprimir los datos con la menor pérdida posible.\n"
      ]
    },
    {
      "cell_type": "markdown",
      "metadata": {
        "id": "yF6K9py1otZW"
      },
      "source": [
        "## Utilidades\n",
        "\n",
        "* Como hemos dicho, los autoencoders nos permiten aprender una **representación comprimida** de los datos.\n",
        "\n",
        "* Sin embargo, esta es solo una de las muchas aplicaciones para las que se utilizan.\n",
        "\n",
        "* Inicialmente se crearon para **inicializar los pesos de las redes**:\n",
        " * Se entrena de forma no supermisada un autoencoder (por lo que no hacía falta etiquetar los datos), y posteriormente se reutiliza solo la parte del encoder.\n",
        "\n",
        "* La representación intermedia permite:\n",
        " * Agrupar o crear **clusters** de datos similares.\n",
        " * Realizar **búsquedas** de datos similares.\n",
        "\n",
        "* Además también es posible entrenar al autoencoder de forma **supervisada** o **auto-supervisada** para que realice otro tipo de tareas, como por ejemplo:\n",
        "\n",
        " - Aumentar la resolución (*super-resolution*)\n",
        " - Eliminar ruido (*denoising*)\n",
        " - Colorear imágenes\n",
        " - Binarización\n",
        " - Detección de anomalías\n",
        " - Segmentación\n",
        " - Segmentación semántica\n",
        "\n",
        "\n",
        "* A continuación se muestra algunos ejemplos:\n",
        "\n",
        "<br>\n",
        "\n",
        "![Ejemplos aplicaciones](http://www.dlsi.ua.es/~jgallego/deepraltamira/autoencoders/applications_examples.png)\n",
        "\n",
        "<br>\n"
      ]
    },
    {
      "cell_type": "markdown",
      "metadata": {
        "id": "gk7BndncP-Rl"
      },
      "source": [
        "## Arquitectura\n",
        "\n",
        "\n",
        "* Este tipo de red consta de dos partes:\n",
        "\n",
        " * **Encoder**: la parte de la red que comprime la entrada en un espacio de variables latentes y que puede representarse mediante la función de codificación `e(x)`.\n",
        "\n",
        " * **Decoder**: la parte que trata de reconstruir la entrada en base a la información recolectada previamente. Se representa mediante la función de decodificación `d(x)`.\n",
        "\n",
        "* Por tanto, el autoencoder se puede escribir como la función `d(e(x)) = x'` donde `x'` representa a la reconstrucción, la cual debe ser lo más similar posible a la entrada original `x`.\n",
        "\n",
        "* Para crear un autoencoder tipo perceptrón multicapa (formado por neuronas artificiales) tendríamos que añadir:\n",
        "\n",
        " * Una **capa de entrada** con tantas neuronas como necesitemos.\n",
        " * Una **capa intermedia** con un número inferior de neuronas al de la capa de entrada.\n",
        " * Una **capa de salida** con el mismo número de neuronas que la capa de entrada.  \n",
        "\n",
        "* A continuación se muestra un ejemplo:\n",
        "\n",
        "<br>\n",
        "\n",
        "![Esquema autoencoder](http://www.dlsi.ua.es/~jgallego/deepraltamira/autoencoders/autoencoder2.png)\n",
        "\n",
        "<br>\n",
        "\n",
        "\n",
        "\n",
        "* Utilizando la librería **tf.Keras** podríamos definir un Autoencoder de la siguiente forma:\n",
        "\n",
        "\n",
        "```\n",
        "# Entrada con 784 neuronas\n",
        "input_img = Input(shape=(784,))   \n",
        "\n",
        "# Capa intermedia con 32 neuronas\n",
        "encoded = Dense(32, activation='relu')(input_img)\n",
        "\n",
        "# Capa de salida con 784 neuronas\n",
        "decoded = Dense(784, activation='sigmoid')(encoded)\n",
        "\n",
        "autoencoder = Model(inputs=input_img, outputs=decoded)\n",
        "```\n",
        "\n",
        "\n",
        "* Idealmente es posible diseñar un autoencoder que reconstruya con éxito cualquier entrada. Para esto hay que definir de forma adecuada la arquitectura de la red en función de la complejidad de los datos a modelar."
      ]
    },
    {
      "cell_type": "markdown",
      "metadata": {
        "id": "Txy6MFTLf7wc"
      },
      "source": [
        "\n",
        "### Funciones de activación\n",
        "\n",
        "* Para las funciones de activación internas (todas las capas excepto la de salida) se recomienta el uso de la función de activación **ReLU**.\n",
        "\n",
        "* Para la función de activación de la capa de salida tenemos distintas opciones:\n",
        " * Lineal\n",
        " * Sigmoidea\n",
        " * Softmax\n",
        "\n",
        "* El uso de una u otra dependerá de la aplicación en concreto a implementar.\n",
        "\n",
        " * Si la salida representa un valor continuo tendremos que usar activación lineal.\n",
        "\n",
        " * Si la salida tiene que estar acotada en un rango usaremos activación sigmoide.\n",
        "\n",
        " * Si la salida representa dos clases (imágenes en blanco y negro o tareas de binarización o segmentación) tendremos que usar la función sigmoidea.\n",
        "\n",
        " * Si pretendemos clasificar en más de dos clases: softmax  "
      ]
    },
    {
      "cell_type": "markdown",
      "metadata": {
        "id": "vK140cBzf_CM"
      },
      "source": [
        "### Función de pérdida\n",
        "\n",
        "* Para entrenar un autoencoder podemos encontrar soluciones usando las siguientes tres funciones de pérdida:\n",
        "\n",
        " * mse - Mean squared error\n",
        " * mae - Mean absolute error\n",
        " * binary crossentropy\n",
        "\n",
        "* De entre estas tres las más comunes o más recomendadas son *mse* y *binary crossentropy*.\n",
        "\n",
        "* *Binary crossentropy* se recomienda especialmente cuando la función de activación de salida de la red es la función sigmoidea, lo que puede producir una saturación de loss (llamado efecto \"*plateau*\").\n",
        "\n"
      ]
    },
    {
      "cell_type": "markdown",
      "metadata": {
        "id": "vt8Vq34GgADO"
      },
      "source": [
        "### Entrenamiento\n",
        "\n",
        "* Para el entrenamiento de este tipo de redes usaremos el algoritmo estándar de **backpropagation**.\n",
        "\n",
        "* Podremos utilizar cualquier **optimizador**, aunque uno de los más utilizados actualmente y recomendables es Adam.\n",
        "\n",
        "* Por lo tanto, para compilar con tf.Keras el autoencoder del ejemplo anterior tendríamos que escribir:\n",
        "\n",
        "```\n",
        "autoencoder.compile(optimizer='adam', loss='binary_crossentropy')\n",
        "```\n",
        "\n",
        "* Para entrenar este modelo tenemos que llamar a `fit` de forma normal, pero teniendo cuidado de pasar los **mismos datos a la entrada y a la salida**:\n",
        "\n",
        "```\n",
        "model.fit(train_images, train_images,\n",
        "          epochs=15,\n",
        "          batch_size=64)\n",
        "```\n",
        "\n"
      ]
    },
    {
      "cell_type": "markdown",
      "metadata": {
        "id": "7tMjEsccvkgG"
      },
      "source": [
        "# Ejemplo básico\n",
        "\n",
        "* Vamos a hacer un ejemplo para codificar la base de datos *Fashion MNIST*.\n",
        "\n",
        "* Para esto crearemos una red muy sencilla con 3 capas densas.\n",
        "\n",
        "* En primer lugar vamos a cargar el dataset a utilizar...\n"
      ]
    },
    {
      "cell_type": "code",
      "metadata": {
        "id": "rmzY0FQ26QSV",
        "colab": {
          "base_uri": "https://localhost:8080/",
          "height": 291
        },
        "outputId": "4bab38c8-11ba-4946-b0a2-8ecb34e19e1e"
      },
      "source": [
        "import random\n",
        "import numpy as np\n",
        "import matplotlib.pyplot as plt\n",
        "import tensorflow as tf\n",
        "\n",
        "tf.random.set_seed(1)  # Fijamos la semilla de TF\n",
        "np.random.seed(1)  # Fijamos la semilla\n",
        "\n",
        "# Cargamos los datos\n",
        "(train_images, _), (test_images, _) = tf.keras.datasets.fashion_mnist.load_data()\n",
        "\n",
        "\n",
        "# Mostramos 15 imágenes aleatorias de este dataset\n",
        "n = 15\n",
        "index = np.random.randint(len(train_images), size=n)\n",
        "plt.figure(figsize=(n*1.5, 1.5))\n",
        "for i in np.arange(n):\n",
        "    ax = plt.subplot(1,n,i+1)\n",
        "    ax.get_xaxis().set_visible(False)\n",
        "    ax.get_yaxis().set_visible(False)\n",
        "    plt.imshow(train_images[index[i]], cmap='gray')\n",
        "plt.show()\n",
        "\n",
        "\n",
        "print('Train_images shape:', train_images.shape)\n",
        "print('Test_images shape:', test_images.shape)\n"
      ],
      "execution_count": 1,
      "outputs": [
        {
          "output_type": "stream",
          "name": "stdout",
          "text": [
            "Downloading data from https://storage.googleapis.com/tensorflow/tf-keras-datasets/train-labels-idx1-ubyte.gz\n",
            "29515/29515 [==============================] - 0s 0us/step\n",
            "Downloading data from https://storage.googleapis.com/tensorflow/tf-keras-datasets/train-images-idx3-ubyte.gz\n",
            "26421880/26421880 [==============================] - 0s 0us/step\n",
            "Downloading data from https://storage.googleapis.com/tensorflow/tf-keras-datasets/t10k-labels-idx1-ubyte.gz\n",
            "5148/5148 [==============================] - 0s 0us/step\n",
            "Downloading data from https://storage.googleapis.com/tensorflow/tf-keras-datasets/t10k-images-idx3-ubyte.gz\n",
            "4422102/4422102 [==============================] - 0s 0us/step\n"
          ]
        },
        {
          "output_type": "display_data",
          "data": {
            "text/plain": [
              "<Figure size 2250x150 with 15 Axes>"
            ],
            "image/png": "[encoded data removed]"
          },
          "metadata": {}
        },
        {
          "output_type": "stream",
          "name": "stdout",
          "text": [
            "Train_images shape: (60000, 28, 28)\n",
            "Test_images shape: (10000, 28, 28)\n"
          ]
        }
      ]
    },
    {
      "cell_type": "markdown",
      "metadata": {
        "id": "MqnadDwKwjvp"
      },
      "source": [
        "<br>\n",
        "\n",
        "* A continuación preparamos los datos para entrenar a la red...\n",
        "\n"
      ]
    },
    {
      "cell_type": "code",
      "metadata": {
        "id": "3u4Huo0Vwj8q",
        "colab": {
          "base_uri": "https://localhost:8080/"
        },
        "outputId": "f017aa6b-0c2c-4489-d8dc-927e660e47b3"
      },
      "source": [
        "\n",
        "TRAINING_SIZE = len(train_images)\n",
        "TEST_SIZE = len(test_images)\n",
        "\n",
        "# Convertir de (N, 28, 28) a (N, 784)\n",
        "train_images = np.reshape(train_images, (TRAINING_SIZE, 784))\n",
        "test_images = np.reshape(test_images, (TEST_SIZE, 784))\n",
        "\n",
        "\n",
        "# Convertir un array de unit8 (enteros) en float32 (decimales)\n",
        "train_images = train_images.astype(np.float32)\n",
        "test_images = test_images.astype(np.float32)\n",
        "\n",
        "# Normalizar los datos al rango [0,1]\n",
        "# Como los valores de gris de las imágenes están en el rango [0,255]\n",
        "# simplemente dividimos por 255\n",
        "train_images /= 255\n",
        "test_images /= 255\n",
        "\n",
        "print('Train_images shape:', train_images.shape)\n",
        "print('Test_images shape:', test_images.shape)\n"
      ],
      "execution_count": 2,
      "outputs": [
        {
          "output_type": "stream",
          "name": "stdout",
          "text": [
            "Train_images shape: (60000, 784)\n",
            "Test_images shape: (10000, 784)\n"
          ]
        }
      ]
    },
    {
      "cell_type": "markdown",
      "metadata": {
        "id": "kqkPz1JpvpmO"
      },
      "source": [
        "<br>\n",
        "\n",
        "* El siguiente paso es definir el autoencoder a utilizar.\n",
        "\n",
        "* Dado que la dimensionalidad de los datos es de 784 vamos a definir las capas de entrada y de salida con este tamaño.\n",
        "\n",
        "* La capa intermedia con la codificación tendrá una **dimensión de 32 neuronas**, por lo que se comprimirán los datos en un factor de 24.5.\n",
        "\n",
        "* A continuación se muestra el esquema de la red a implementar:\n",
        "\n",
        "\n",
        "<br>\n",
        "\n",
        "![Esquema autoencoder](http://www.dlsi.ua.es/~jgallego/deepraltamira/autoencoders/autoencoder_ejemplo.png)\n",
        "\n",
        "<br>"
      ]
    },
    {
      "cell_type": "code",
      "metadata": {
        "id": "apcsFZawvr1S",
        "colab": {
          "base_uri": "https://localhost:8080/"
        },
        "outputId": "ce3b1d3c-ec02-42c6-acbb-8a5e9a4224e5"
      },
      "source": [
        "from tensorflow.keras.models import Sequential, Model\n",
        "from tensorflow.keras.layers import Input, Dense\n",
        "\n",
        "\n",
        "# Tamaño de la representación intermedia\n",
        "encoding_dim = 32\n",
        "\n",
        "# Entrada\n",
        "input_img = Input(shape=(784,))\n",
        "\n",
        "# Codificación intermedia con 32 neuronas\n",
        "encoded = Dense(encoding_dim, activation='relu')(input_img)\n",
        "\n",
        "# Capa de salida con 784 neuronas\n",
        "decoded = Dense(784, activation='sigmoid')(encoded)\n",
        "\n",
        "# Creamos el modelo usando la API funcional de Keras\n",
        "model = Model(input_img, decoded)\n",
        "\n",
        "\n",
        "# Mostramos un resumen de la red\n",
        "print(model.summary())\n",
        "\n",
        "\n",
        "# La compilamos\n",
        "model.compile(optimizer='adam', loss='binary_crossentropy')\n",
        "\n",
        "\n",
        "# Iniciamos el entrenamiento\n",
        "model.fit(train_images, train_images, epochs=15, batch_size=64, verbose=1)\n",
        "\n"
      ],
      "execution_count": 3,
      "outputs": [
        {
          "output_type": "stream",
          "name": "stdout",
          "text": [
            "Model: \"model\"\n",
            "_________________________________________________________________\n",
            " Layer (type)                Output Shape              Param #   \n",
            "=================================================================\n",
            " input_1 (InputLayer)        [(None, 784)]             0         \n",
            "                                                                 \n",
            " dense (Dense)               (None, 32)                25120     \n",
            "                                                                 \n",
            " dense_1 (Dense)             (None, 784)               25872     \n",
            "                                                                 \n",
            "=================================================================\n",
            "Total params: 50,992\n",
            "Trainable params: 50,992\n",
            "Non-trainable params: 0\n",
            "_________________________________________________________________\n",
            "None\n",
            "Epoch 1/15\n",
            "938/938 [==============================] - 9s 3ms/step - loss: 0.3462\n",
            "Epoch 2/15\n",
            "938/938 [==============================] - 3s 3ms/step - loss: 0.2979\n",
            "Epoch 3/15\n",
            "938/938 [==============================] - 3s 3ms/step - loss: 0.2889\n",
            "Epoch 4/15\n",
            "938/938 [==============================] - 4s 4ms/step - loss: 0.2860\n",
            "Epoch 5/15\n",
            "938/938 [==============================] - 3s 3ms/step - loss: 0.2847\n",
            "Epoch 6/15\n",
            "938/938 [==============================] - 3s 3ms/step - loss: 0.2840\n",
            "Epoch 7/15\n",
            "938/938 [==============================] - 3s 3ms/step - loss: 0.2835\n",
            "Epoch 8/15\n",
            "938/938 [==============================] - 4s 4ms/step - loss: 0.2832\n",
            "Epoch 9/15\n",
            "938/938 [==============================] - 3s 3ms/step - loss: 0.2830\n",
            "Epoch 10/15\n",
            "938/938 [==============================] - 3s 3ms/step - loss: 0.2828\n",
            "Epoch 11/15\n",
            "938/938 [==============================] - 4s 4ms/step - loss: 0.2826\n",
            "Epoch 12/15\n",
            "938/938 [==============================] - 4s 4ms/step - loss: 0.2825\n",
            "Epoch 13/15\n",
            "938/938 [==============================] - 3s 3ms/step - loss: 0.2824\n",
            "Epoch 14/15\n",
            "938/938 [==============================] - 3s 3ms/step - loss: 0.2823\n",
            "Epoch 15/15\n",
            "938/938 [==============================] - 3s 3ms/step - loss: 0.2822\n"
          ]
        },
        {
          "output_type": "execute_result",
          "data": {
            "text/plain": [
              "<keras.callbacks.History at 0x7f4b238ce410>"
            ]
          },
          "metadata": {},
          "execution_count": 3
        }
      ]
    },
    {
      "cell_type": "code",
      "metadata": {
        "id": "BpZfWbYZ4dSL",
        "colab": {
          "base_uri": "https://localhost:8080/",
          "height": 1000
        },
        "outputId": "a09189ff-e64f-4cda-9062-df1c68bbd195"
      },
      "source": [
        "#----------------------------------------------------\n",
        "def show_autoencoder_result(test_images, prediction):\n",
        "  n = 10  # how many digits we will display\n",
        "  plt.figure(figsize=(20, 4))\n",
        "  for i in range(n):\n",
        "      # display original\n",
        "      ax = plt.subplot(2, n, i + 1)\n",
        "      plt.imshow(test_images[i].reshape(28, 28))\n",
        "      plt.gray()\n",
        "      ax.get_xaxis().set_visible(False)\n",
        "      ax.get_yaxis().set_visible(False)\n",
        "\n",
        "      # display reconstruction\n",
        "      ax = plt.subplot(2, n, i + 1 + n)\n",
        "      plt.imshow(prediction[i].reshape(28, 28))\n",
        "      plt.gray()\n",
        "      ax.get_xaxis().set_visible(False)\n",
        "      ax.get_yaxis().set_visible(False)\n",
        "  plt.show()\n",
        "\n",
        "\n",
        "\n",
        "# Utilizamos el modelo aprendido para predecir el resultado del conjunto de test\n",
        "prediction = model.predict( test_images )\n",
        "\n",
        "show_autoencoder_result( test_images, prediction )\n",
        "\n",
        "\n",
        "print('Vamos a mostrar cómo codifica las imágenes')\n",
        "modelEncoder = Model(input_img, encoded)\n",
        "\n",
        "predictions = modelEncoder.predict(test_images)\n",
        "\n",
        "print('\\nVector de características de la imagen 150:')\n",
        "print(test_images[150])\n",
        "print('\\nVector codificado:')\n",
        "print(predictions[150])\n"
      ],
      "execution_count": 4,
      "outputs": [
        {
          "output_type": "stream",
          "name": "stdout",
          "text": [
            "313/313 [==============================] - 1s 2ms/step\n"
          ]
        },
        {
          "output_type": "display_data",
          "data": {
            "text/plain": [
              "<Figure size 2000x400 with 20 Axes>"
            ],
            "image/png": "[encoded data removed]"
          },
          "metadata": {}
        },
        {
          "output_type": "stream",
          "name": "stdout",
          "text": [
            "Vamos a mostrar cómo codifica las imágenes\n",
            "313/313 [==============================] - 0s 1ms/step\n",
            "\n",
            "Vector de características de la imagen 150:\n",
            "[0.         0.         0.         0.         0.         0.\n",
            " 0.         0.         0.12156863 0.20784314 0.40784314 0.5686275\n",
            " 0.34901962 0.19215687 0.38431373 0.5686275  0.53333336 0.22745098\n",
            " 0.21960784 0.08627451 0.         0.         0.         0.\n",
            " 0.         0.         0.         0.         0.         0.\n",
            " 0.         0.         0.         0.         0.         0.41960785\n",
            " 0.4        0.32941177 0.21960784 0.5882353  0.85490197 0.96862745\n",
            " 1.         0.74509805 0.2901961  0.2784314  0.36862746 0.44705883\n",
            " 0.25490198 0.         0.         0.         0.         0.\n",
            " 0.         0.         0.         0.         0.         0.\n",
            " 0.         0.         0.13725491 0.39215687 0.27058825 0.27450982\n",
            " 0.2784314  0.1254902  0.11764706 0.14509805 0.20784314 0.12156863\n",
            " 0.20784314 0.3019608  0.2784314  0.33333334 0.4        0.06666667\n",
            " 0.         0.         0.         0.         0.         0.\n",
            " 0.         0.         0.         0.         0.         0.\n",
            " 0.27450982 0.40784314 0.34117648 0.30980393 0.2901961  0.28627452\n",
            " 0.2901961  0.27450982 0.3137255  0.3019608  0.28627452 0.2784314\n",
            " 0.30588236 0.36078432 0.40784314 0.23921569 0.         0.\n",
            " 0.         0.         0.         0.         0.         0.\n",
            " 0.         0.         0.         0.         0.34509805 0.4\n",
            " 0.34509805 0.30588236 0.28627452 0.25490198 0.27450982 0.2784314\n",
            " 0.3254902  0.27450982 0.27450982 0.28627452 0.3529412  0.40392157\n",
            " 0.40784314 0.41568628 0.         0.         0.         0.\n",
            " 0.         0.         0.         0.         0.         0.\n",
            " 0.         0.         0.38431373 0.36078432 0.36862746 0.34509805\n",
            " 0.26666668 0.2509804  0.26666668 0.2784314  0.30980393 0.25490198\n",
            " 0.25882354 0.2901961  0.33333334 0.41960785 0.4        0.45882353\n",
            " 0.00392157 0.         0.         0.         0.         0.\n",
            " 0.         0.         0.         0.         0.         0.\n",
            " 0.43529412 0.30588236 0.49803922 0.34901962 0.28627452 0.30588236\n",
            " 0.32156864 0.32941177 0.3647059  0.3137255  0.34509805 0.2784314\n",
            " 0.6431373  0.60784316 0.38431373 0.4745098  0.02745098 0.\n",
            " 0.         0.         0.         0.         0.         0.\n",
            " 0.         0.         0.         0.00392157 0.4627451  0.34509805\n",
            " 0.8352941  0.62352943 0.29411766 0.38039216 0.36078432 0.32941177\n",
            " 0.38039216 0.37254903 0.41960785 0.3019608  0.6509804  0.74509805\n",
            " 0.3882353  0.4862745  0.13725491 0.         0.         0.\n",
            " 0.         0.         0.         0.         0.         0.\n",
            " 0.         0.07843138 0.44705883 0.43529412 0.8784314  0.5294118\n",
            " 0.32941177 0.38039216 0.3647059  0.34901962 0.40784314 0.37254903\n",
            " 0.3882353  0.34117648 0.43529412 0.7372549  0.3137255  0.4745098\n",
            " 0.22745098 0.         0.         0.         0.         0.\n",
            " 0.         0.         0.         0.         0.         0.15686275\n",
            " 0.43529412 0.5372549  0.8784314  0.37254903 0.4        0.40392157\n",
            " 0.39215687 0.38039216 0.41960785 0.39215687 0.4        0.37254903\n",
            " 0.41568628 0.78039217 0.47843137 0.4862745  0.27058825 0.\n",
            " 0.         0.         0.         0.         0.         0.\n",
            " 0.         0.         0.         0.20784314 0.42745098 0.60784316\n",
            " 0.7294118  0.2901961  0.44313726 0.39215687 0.3882353  0.38431373\n",
            " 0.42352942 0.3882353  0.42352942 0.40784314 0.32156864 0.76862746\n",
            " 0.5294118  0.4627451  0.34509805 0.         0.         0.\n",
            " 0.         0.         0.         0.         0.         0.\n",
            " 0.         0.27450982 0.42352942 0.627451   0.59607846 0.32156864\n",
            " 0.44313726 0.38431373 0.38039216 0.36078432 0.45490196 0.42352942\n",
            " 0.43529412 0.42352942 0.30588236 0.654902   0.60784316 0.42352942\n",
            " 0.3529412  0.         0.         0.         0.         0.\n",
            " 0.         0.         0.         0.         0.         0.34509805\n",
            " 0.4        0.6627451  0.5764706  0.36078432 0.45882353 0.41568628\n",
            " 0.42352942 0.40392157 0.50980395 0.42745098 0.41960785 0.48235294\n",
            " 0.29411766 0.6117647  0.6745098  0.45490196 0.3647059  0.\n",
            " 0.         0.         0.         0.         0.         0.\n",
            " 0.         0.         0.         0.38431373 0.41568628 0.654902\n",
            " 0.44705883 0.36078432 0.42352942 0.41960785 0.40392157 0.40784314\n",
            " 0.49803922 0.44705883 0.41568628 0.44313726 0.37254903 0.46666667\n",
            " 0.68235296 0.5019608  0.40392157 0.         0.         0.\n",
            " 0.         0.         0.         0.         0.         0.\n",
            " 0.         0.39215687 0.45490196 0.7490196  0.40392157 0.38039216\n",
            " 0.42352942 0.42352942 0.42352942 0.41568628 0.49803922 0.4745098\n",
            " 0.42745098 0.42745098 0.41568628 0.3137255  0.72156864 0.50980395\n",
            " 0.40392157 0.         0.         0.         0.         0.\n",
            " 0.         0.         0.         0.         0.         0.40784314\n",
            " 0.46666667 0.69411767 0.39215687 0.43529412 0.42352942 0.42745098\n",
            " 0.44705883 0.40784314 0.5137255  0.48235294 0.41568628 0.44313726\n",
            " 0.42352942 0.32941177 0.7607843  0.52156866 0.41568628 0.\n",
            " 0.         0.         0.         0.         0.         0.\n",
            " 0.         0.         0.         0.41568628 0.48235294 0.627451\n",
            " 0.36078432 0.42745098 0.41568628 0.46666667 0.4392157  0.41568628\n",
            " 0.5176471  0.50980395 0.42352942 0.45490196 0.42745098 0.3529412\n",
            " 0.79607844 0.52156866 0.41960785 0.         0.         0.\n",
            " 0.         0.         0.         0.         0.         0.\n",
            " 0.         0.42352942 0.47843137 0.6666667  0.38431373 0.4392157\n",
            " 0.49411765 0.45490196 0.42352942 0.41960785 0.52156866 0.5372549\n",
            " 0.4392157  0.4745098  0.45490196 0.38431373 0.78431374 0.5176471\n",
            " 0.44313726 0.         0.         0.         0.         0.\n",
            " 0.         0.         0.         0.         0.         0.42745098\n",
            " 0.45490196 0.6745098  0.4        0.46666667 0.46666667 0.41568628\n",
            " 0.45882353 0.4392157  0.5294118  0.54901963 0.44705883 0.48235294\n",
            " 0.4745098  0.39215687 0.7058824  0.49803922 0.45882353 0.\n",
            " 0.         0.         0.         0.         0.         0.\n",
            " 0.         0.         0.         0.41960785 0.43529412 0.68235296\n",
            " 0.4        0.42745098 0.42745098 0.44705883 0.4862745  0.43529412\n",
            " 0.52156866 0.5372549  0.45490196 0.48235294 0.4745098  0.38039216\n",
            " 0.8117647  0.5568628  0.42352942 0.         0.         0.\n",
            " 0.         0.         0.         0.         0.         0.\n",
            " 0.         0.41960785 0.4392157  0.7058824  0.39215687 0.4392157\n",
            " 0.4627451  0.4745098  0.47843137 0.44313726 0.53333336 0.5411765\n",
            " 0.46666667 0.4862745  0.46666667 0.3529412  0.6627451  0.62352943\n",
            " 0.4392157  0.         0.         0.         0.         0.\n",
            " 0.         0.         0.         0.         0.         0.4\n",
            " 0.45882353 0.627451   0.3882353  0.45882353 0.4745098  0.47843137\n",
            " 0.49411765 0.46666667 0.5568628  0.5764706  0.4745098  0.50980395\n",
            " 0.47843137 0.3647059  0.5686275  0.57254905 0.41568628 0.\n",
            " 0.         0.         0.         0.         0.         0.\n",
            " 0.         0.         0.         0.48235294 0.6039216  0.75686276\n",
            " 0.38431373 0.45882353 0.48235294 0.4862745  0.50980395 0.44313726\n",
            " 0.57254905 0.654902   0.4392157  0.49411765 0.48235294 0.3882353\n",
            " 0.6156863  0.7607843  0.50980395 0.         0.         0.\n",
            " 0.         0.         0.         0.         0.         0.\n",
            " 0.         0.11372549 0.04313726 0.23137255 0.4862745  0.46666667\n",
            " 0.5019608  0.47843137 0.5019608  0.49411765 0.53333336 0.6039216\n",
            " 0.44313726 0.5019608  0.46666667 0.4862745  0.3647059  0.05882353\n",
            " 0.02352941 0.         0.         0.         0.         0.\n",
            " 0.         0.         0.         0.         0.         0.\n",
            " 0.         0.15294118 0.54901963 0.4392157  0.49411765 0.5019608\n",
            " 0.50980395 0.47843137 0.54901963 0.5803922  0.48235294 0.53333336\n",
            " 0.47843137 0.4862745  0.4        0.         0.         0.\n",
            " 0.         0.         0.         0.         0.         0.\n",
            " 0.         0.         0.         0.00784314 0.         0.23921569\n",
            " 0.53333336 0.44705883 0.48235294 0.5137255  0.49803922 0.47843137\n",
            " 0.5803922  0.6156863  0.49803922 0.5137255  0.46666667 0.4627451\n",
            " 0.48235294 0.         0.         0.         0.         0.\n",
            " 0.         0.         0.         0.         0.         0.\n",
            " 0.         0.00392157 0.         0.32156864 0.50980395 0.4745098\n",
            " 0.5176471  0.4862745  0.5176471  0.49411765 0.5803922  0.627451\n",
            " 0.48235294 0.5294118  0.52156866 0.4862745  0.6156863  0.02352941\n",
            " 0.         0.         0.         0.         0.         0.\n",
            " 0.         0.         0.         0.         0.         0.00784314\n",
            " 0.         0.16470589 0.37254903 0.3647059  0.4        0.41568628\n",
            " 0.46666667 0.42352942 0.57254905 0.5764706  0.48235294 0.49803922\n",
            " 0.42352942 0.32156864 0.23137255 0.         0.         0.\n",
            " 0.         0.         0.         0.        ]\n",
            "\n",
            "Vector codificado:\n",
            "[3.1343956  5.311398   2.963811   0.         3.1059532  4.18872\n",
            " 3.6725082  0.64817864 1.3246639  4.401567   3.3763046  6.3354783\n",
            " 3.6069844  4.396878   2.7445245  1.7897621  3.7252038  1.0615888\n",
            " 3.357113   0.         5.316926   4.4743967  4.629355   0.\n",
            " 3.994996   4.8380423  5.572231   3.1838303  7.610974   6.6127234\n",
            " 1.959082   1.6219281 ]\n"
          ]
        }
      ]
    },
    {
      "cell_type": "markdown",
      "metadata": {
        "id": "8ZIneSKA549G"
      },
      "source": [
        "# Deep autoencoder\n",
        "\n",
        "* A la hora de crear la arquitectura del autoencoder no es necesario limitarse a una única capa oculta.\n",
        "\n",
        "* Podemos añadir tantas capas como queramos siempre que creemos la estructura de encoder-decoder:\n",
        " * Para esto en la parte del encoder tendremos que ir reduciendo el tamaño de la entrada.\n",
        " * Y en la parte del decoder crearemos una estructura espejo, en la que iremos aumentando el tamaño hasta recuperar la dimensionalidad original.\n",
        "\n",
        "* A continuación se muestra un ejemplo:\n",
        "\n",
        "```\n",
        "input_img = Input(shape=(784,))\n",
        "\n",
        "encoded = Dense(128, activation='relu')(input_img)\n",
        "encoded = Dense(64, activation='relu')(encoded)\n",
        "\n",
        "encoded = Dense(32, activation='relu')(encoded)\n",
        "\n",
        "decoded = Dense(64, activation='relu')(encoded)\n",
        "decoded = Dense(128, activation='relu')(decoded)\n",
        "\n",
        "decoded = Dense(784, activation='sigmoid')(decoded)\n",
        "```\n",
        "\n"
      ]
    },
    {
      "cell_type": "markdown",
      "metadata": {
        "id": "85_Za-lB6M7g"
      },
      "source": [
        "# Convolutional autoencoder\n",
        "\n",
        "* También podemos crear autoencoders con convoluciones, los cuales serán más adecuados para trabajar con imágenes.\n",
        "\n",
        "* En este caso para reducir el tamaño usaremos operaciones de **pooling** y para aumentar el tamaño haremos \"***up sampling***\".\n",
        "\n",
        "* Por tanto, en la parte del **Encoder** iremos alternando:\n",
        "\n",
        " * Convolution + Pooling\n",
        "\n",
        "* Y en la parte del **Decoder**:\n",
        "\n",
        " * Convolution + Up sampling\n",
        "\n",
        "\n",
        "\n",
        "<br>\n",
        "\n",
        "![Esquema autoencoder](http://www.dlsi.ua.es/~jgallego/deepraltamira/autoencoders/autoencoder_conv.png)\n",
        "\n",
        "<br>\n",
        "\n",
        "* A este tipo de arquitecturas también se las conoce como **Fully Convolutional Network (FCN)**, o red completamente convolucional, dado que no hay capas densas, solo convoluciones."
      ]
    },
    {
      "cell_type": "markdown",
      "metadata": {
        "id": "WZ08sCU9rWut"
      },
      "source": [
        "## Ejemplo\n",
        "\n",
        "* Vamos a hacer otro ejemplo en el que crearemos un *Convolutional autoencoder*.\n",
        "\n",
        "* Para esto usaremos también el dataset *Fashion MNIST*.\n",
        "\n",
        "* Por lo que empezaremos cargando de nuevo este dataset y preparando los datos para el entrenamiento:\n"
      ]
    },
    {
      "cell_type": "code",
      "metadata": {
        "id": "9h7rz1t58dM1",
        "colab": {
          "base_uri": "https://localhost:8080/"
        },
        "outputId": "d31e86af-90c4-4408-9a15-82137580b991"
      },
      "source": [
        "(train_images, _), (test_images, _) = tf.keras.datasets.fashion_mnist.load_data()\n",
        "\n",
        "train_images = train_images.astype('float32') / 255.\n",
        "test_images = test_images.astype('float32') / 255.\n",
        "\n",
        "train_images = np.reshape(train_images, (len(train_images), 28, 28, 1))\n",
        "test_images = np.reshape(test_images, (len(test_images), 28, 28, 1))\n",
        "\n",
        "print('Train_images shape:', train_images.shape)\n",
        "print('Test_images shape:', test_images.shape)"
      ],
      "execution_count": 5,
      "outputs": [
        {
          "output_type": "stream",
          "name": "stdout",
          "text": [
            "Train_images shape: (60000, 28, 28, 1)\n",
            "Test_images shape: (10000, 28, 28, 1)\n"
          ]
        }
      ]
    },
    {
      "cell_type": "markdown",
      "metadata": {
        "id": "W-q3dHiHr1uq"
      },
      "source": [
        "<br>\n",
        "\n",
        "* A continuación vamos a definir el autoencoder, el cual consistirá en:\n",
        "\n",
        " * 2 capas de convolución + pooling para el encoder.\n",
        "\n",
        " * 2 capas de convolución + up sampling para el decoder.\n",
        "\n",
        "* Es importante fijarse en que **la capa de salida está formada por una única convolución**."
      ]
    },
    {
      "cell_type": "code",
      "metadata": {
        "id": "dqmsXWq66Uvv",
        "colab": {
          "base_uri": "https://localhost:8080/"
        },
        "outputId": "613e9fe9-5d42-42aa-8653-1026c679293f"
      },
      "source": [
        "from tensorflow.keras.layers import Input, Dense, Conv2D, MaxPooling2D, UpSampling2D\n",
        "from tensorflow.keras.models import Model\n",
        "\n",
        "\n",
        "# Entrada\n",
        "input_img = Input(shape=(28, 28, 1))\n",
        "\n",
        "\n",
        "# Encoder...\n",
        "x = Conv2D(8, (3, 3), activation='relu', padding='same')(input_img)\n",
        "x = MaxPooling2D((2, 2), padding='same')(x)\n",
        "\n",
        "x = Conv2D(4, (3, 3), activation='relu', padding='same')(x)\n",
        "encoded = MaxPooling2D((2, 2), padding='same')(x)\n",
        "\n",
        "# En este punto tenemos la representación intermedia\n",
        "\n",
        "# Decoder...\n",
        "x = Conv2D(4, (3, 3), activation='relu', padding='same')(encoded)\n",
        "x = UpSampling2D((2, 2))(x)\n",
        "\n",
        "x = Conv2D(8, (3, 3), activation='relu', padding='same')(x)\n",
        "x = UpSampling2D((2, 2))(x)\n",
        "\n",
        "\n",
        "# Capa de salida con 1 convolución\n",
        "decoded = Conv2D(1, (3, 3), activation='sigmoid', padding='same')(x)\n",
        "\n",
        "\n",
        "# Creamos el autoencoder y lo compilamos\n",
        "autoencoder = Model(input_img, decoded)\n",
        "\n",
        "autoencoder.compile(optimizer='adam', loss='binary_crossentropy')\n",
        "\n",
        "\n",
        "# Mostramos un resumen de la red\n",
        "print(autoencoder.summary())\n",
        "\n",
        "\n",
        "# Entrenamos la red\n",
        "history = autoencoder.fit(train_images, train_images,\n",
        "                          validation_data=(test_images, test_images),\n",
        "                          epochs=15, batch_size=64, verbose=1)\n",
        "\n"
      ],
      "execution_count": 6,
      "outputs": [
        {
          "output_type": "stream",
          "name": "stdout",
          "text": [
            "Model: \"model_2\"\n",
            "_________________________________________________________________\n",
            " Layer (type)                Output Shape              Param #   \n",
            "=================================================================\n",
            " input_2 (InputLayer)        [(None, 28, 28, 1)]       0         \n",
            "                                                                 \n",
            " conv2d (Conv2D)             (None, 28, 28, 8)         80        \n",
            "                                                                 \n",
            " max_pooling2d (MaxPooling2D  (None, 14, 14, 8)        0         \n",
            " )                                                               \n",
            "                                                                 \n",
            " conv2d_1 (Conv2D)           (None, 14, 14, 4)         292       \n",
            "                                                                 \n",
            " max_pooling2d_1 (MaxPooling  (None, 7, 7, 4)          0         \n",
            " 2D)                                                             \n",
            "                                                                 \n",
            " conv2d_2 (Conv2D)           (None, 7, 7, 4)           148       \n",
            "                                                                 \n",
            " up_sampling2d (UpSampling2D  (None, 14, 14, 4)        0         \n",
            " )                                                               \n",
            "                                                                 \n",
            " conv2d_3 (Conv2D)           (None, 14, 14, 8)         296       \n",
            "                                                                 \n",
            " up_sampling2d_1 (UpSampling  (None, 28, 28, 8)        0         \n",
            " 2D)                                                             \n",
            "                                                                 \n",
            " conv2d_4 (Conv2D)           (None, 28, 28, 1)         73        \n",
            "                                                                 \n",
            "=================================================================\n",
            "Total params: 889\n",
            "Trainable params: 889\n",
            "Non-trainable params: 0\n",
            "_________________________________________________________________\n",
            "None\n",
            "Epoch 1/15\n",
            "938/938 [==============================] - 13s 6ms/step - loss: 0.3250 - val_loss: 0.2900\n",
            "Epoch 2/15\n",
            "938/938 [==============================] - 6s 6ms/step - loss: 0.2840 - val_loss: 0.2834\n",
            "Epoch 3/15\n",
            "938/938 [==============================] - 5s 5ms/step - loss: 0.2800 - val_loss: 0.2810\n",
            "Epoch 4/15\n",
            "938/938 [==============================] - 6s 6ms/step - loss: 0.2782 - val_loss: 0.2798\n",
            "Epoch 5/15\n",
            "938/938 [==============================] - 5s 5ms/step - loss: 0.2772 - val_loss: 0.2791\n",
            "Epoch 6/15\n",
            "938/938 [==============================] - 5s 6ms/step - loss: 0.2765 - val_loss: 0.2782\n",
            "Epoch 7/15\n",
            "938/938 [==============================] - 5s 5ms/step - loss: 0.2759 - val_loss: 0.2778\n",
            "Epoch 8/15\n",
            "938/938 [==============================] - 5s 5ms/step - loss: 0.2755 - val_loss: 0.2775\n",
            "Epoch 9/15\n",
            "938/938 [==============================] - 6s 6ms/step - loss: 0.2752 - val_loss: 0.2771\n",
            "Epoch 10/15\n",
            "938/938 [==============================] - 5s 5ms/step - loss: 0.2748 - val_loss: 0.2768\n",
            "Epoch 11/15\n",
            "938/938 [==============================] - 6s 6ms/step - loss: 0.2746 - val_loss: 0.2766\n",
            "Epoch 12/15\n",
            "938/938 [==============================] - 5s 6ms/step - loss: 0.2744 - val_loss: 0.2765\n",
            "Epoch 13/15\n",
            "938/938 [==============================] - 6s 6ms/step - loss: 0.2742 - val_loss: 0.2761\n",
            "Epoch 14/15\n",
            "938/938 [==============================] - 5s 5ms/step - loss: 0.2740 - val_loss: 0.2759\n",
            "Epoch 15/15\n",
            "938/938 [==============================] - 6s 6ms/step - loss: 0.2738 - val_loss: 0.2758\n"
          ]
        }
      ]
    },
    {
      "cell_type": "code",
      "metadata": {
        "id": "bOiTSVeg8pMz",
        "colab": {
          "base_uri": "https://localhost:8080/",
          "height": 796
        },
        "outputId": "259d9822-fe9a-4faa-ce92-1d3b737412ef"
      },
      "source": [
        "# -----------------------------\n",
        "def plot_learning_curves(hist):\n",
        "  plt.plot(hist.history['loss'])\n",
        "  plt.plot(hist.history['val_loss'])\n",
        "  plt.title('Curvas de aprendizaje')\n",
        "  plt.ylabel('Loss')\n",
        "  plt.xlabel('Epoch')\n",
        "  plt.legend(['Conjunto de entrenamiento', 'Conjunto de validación'], loc='upper right')\n",
        "  plt.show()\n",
        "\n",
        "plot_learning_curves(history)\n",
        "\n",
        "prediction = autoencoder.predict( test_images )\n",
        "\n",
        "show_autoencoder_result( test_images, prediction )\n",
        "\n"
      ],
      "execution_count": 7,
      "outputs": [
        {
          "output_type": "display_data",
          "data": {
            "text/plain": [
              "<Figure size 640x480 with 1 Axes>"
            ],
            "image/png": "[encoded data removed]"
          },
          "metadata": {}
        },
        {
          "output_type": "stream",
          "name": "stdout",
          "text": [
            "313/313 [==============================] - 1s 2ms/step\n"
          ]
        },
        {
          "output_type": "display_data",
          "data": {
            "text/plain": [
              "<Figure size 2000x400 with 20 Axes>"
            ],
            "image/png": "[encoded data removed]"
          },
          "metadata": {}
        }
      ]
    },
    {
      "cell_type": "markdown",
      "metadata": {
        "id": "rzZegR4QwOSO"
      },
      "source": [
        "* A continuación vamos a ver la representación intermedia para uno de los filtros."
      ]
    },
    {
      "cell_type": "code",
      "metadata": {
        "id": "zBflli6kia7b",
        "colab": {
          "base_uri": "https://localhost:8080/",
          "height": 341
        },
        "outputId": "a470f45b-d909-46f6-9057-19603fe6f310"
      },
      "source": [
        "#----------------------------------------------------\n",
        "def show_autoencoder_result(test_images, prediction):\n",
        "  n = 10  # how many digits we will display\n",
        "  plt.figure(figsize=(20, 4))\n",
        "  for i in range(n):\n",
        "      # display original\n",
        "      ax = plt.subplot(2, n, i + 1)\n",
        "      plt.imshow(test_images[i].reshape(28, 28))\n",
        "      plt.gray()\n",
        "      ax.get_xaxis().set_visible(False)\n",
        "      ax.get_yaxis().set_visible(False)\n",
        "\n",
        "      # display reconstruction\n",
        "      ax = plt.subplot(2, n, i + 1 + n)\n",
        "      plt.imshow(np.array(prediction[i,:,:,1] * 255., dtype=np.uint8), cmap='gray')\n",
        "      plt.gray()\n",
        "      ax.get_xaxis().set_visible(False)\n",
        "      ax.get_yaxis().set_visible(False)\n",
        "  plt.show()\n",
        "\n",
        "modelEncoder = Model(input_img, encoded)\n",
        "\n",
        "predictions = modelEncoder.predict(test_images)\n",
        "\n",
        "show_autoencoder_result(test_images, predictions)"
      ],
      "execution_count": 8,
      "outputs": [
        {
          "output_type": "stream",
          "name": "stdout",
          "text": [
            "313/313 [==============================] - 0s 1ms/step\n"
          ]
        },
        {
          "output_type": "display_data",
          "data": {
            "text/plain": [
              "<Figure size 2000x400 with 20 Axes>"
            ],
            "image/png": "[encoded data removed]"
          },
          "metadata": {}
        }
      ]
    },
    {
      "cell_type": "markdown",
      "metadata": {
        "id": "RVj1k_nz--lp"
      },
      "source": [
        "# Más aplicaciones\n",
        "\n",
        "* Como se ha indicado en la introducción, además de reconstruir y codificar datos, los autoencoders se pueden utilizar para muchas más cosas.\n",
        "\n",
        " * Inicialización de redes.\n",
        " * Clustering.\n",
        " * Búsquedas.\n",
        "\n",
        "* Hay que tener en cuenta que todos los ejemplos que hemos visto los hemos entrenado de forma **no supervisada**. No hay ningún dato etiquetado, solo damos a la red la misma imagen a la entrada y a la salida.\n",
        "\n",
        "* Sin embargo, estos modelos también se pueden entrenar de forma **supervisada** o **auto-supervisada** para que *reconstruyan* una salida distinta a la entrada.\n",
        "\n",
        "* Por ejemplo, podríamos:\n",
        "\n",
        " * Entrenar la red dándole como entrada imágenes con ruido y como salida la misma imagen pero sin ruido. De esta forma la red aprendería a **eliminar el ruido**.\n",
        "\n",
        " * O entrenar la red dándole como entrada imágenes en escala de gris y como salida la misma imagen pero en color, por lo que haríamos que la red aprenda a **colorear**.\n",
        "\n",
        " * O entrenar la red dándole como entrada una imagen normal (en color o en escala de grises) y como salida una imagen binaria en la que se marque (en negro) una parte concreta de la imagen para que la red aprenda a detectarla. De esta forma podemos crear un **binarizador**.\n",
        "\n",
        "\n",
        "\n",
        "<br>\n",
        "\n",
        "![Ejemplo aplicaciones](http://www.dlsi.ua.es/~jgallego/deepraltamira/autoencoders/applications_examples.png)\n",
        "\n",
        "<br>"
      ]
    },
    {
      "cell_type": "markdown",
      "metadata": {
        "id": "sFzeo4EoDZw4"
      },
      "source": [
        "<br>\n",
        "<br>\n",
        "\n",
        "\n",
        "---\n",
        "\n",
        "**[&#10158;  Vamos a practicar &#10158; ](https://colab.research.google.com/drive/1TIoikDFy9S3PeyvB0MF6-HsqpuRPtqUR?usp=sharing)**\n",
        "\n",
        "---\n",
        "\n"
      ]
    }
  ]
}