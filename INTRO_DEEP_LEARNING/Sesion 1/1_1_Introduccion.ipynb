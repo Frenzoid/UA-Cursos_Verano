{
  "nbformat": 4,
  "nbformat_minor": 0,
  "metadata": {
    "colab": {
      "provenance": [],
      "toc_visible": true
    },
    "kernelspec": {
      "display_name": "Python 3",
      "language": "python",
      "name": "python3"
    }
  },
  "cells": [
    {
      "cell_type": "markdown",
      "metadata": {
        "id": "Dzf5ZuzTn2HA"
      },
      "source": [
        "# 1.1 Introducción\n",
        "\n",
        "Profesor: Juan Ramón Rico (<juanramonrico@ua.es>)\n"
      ]
    },
    {
      "cell_type": "markdown",
      "metadata": {
        "id": "rYLQROQqpfk5"
      },
      "source": [
        "---\n",
        "# Importante: antes de comenzar\n",
        "\n",
        "Para seguir este tutorial hay que acceder al menú `Archivo / Guadar una copia en Drive...`. Una vez guardada la copia en vuestro Drive ya se puede editar y modificar.\n",
        "\n",
        "---"
      ]
    },
    {
      "cell_type": "markdown",
      "metadata": {
        "id": "zP3Td5Cnetkv"
      },
      "source": [
        "# Conceptos básicos"
      ]
    },
    {
      "cell_type": "markdown",
      "metadata": {
        "id": "g66xQ1Vxn2HI"
      },
      "source": [
        "## De la Artificial Intelligence al Deep Learning\n",
        "\n",
        "Comenzaremos por el término más general y terminaremos con el más concreto.\n",
        "\n",
        "- [Artificial ingelligence](https://en.wikipedia.org/wiki/Artificial_intelligence) (AI): Es la inteligencia que se le asocia a las máquinas en contraste con la que puede desarrollar un ser vivo. Coloquialmente se les asocia funciones como aprender o resolver problemas.\n",
        "\n",
        "- [Machine Learning](https://en.wikipedia.org/wiki/Machine_learning) (ML): Es la rama de la AI que estudia algoritmos que permiten aprender a los ordenadores. Concreamente, se trata de crear programas capaces de generalizar comportamientos mediante ejemplos. Por lo tanto es un proceso de inducción del conocimiento.\n",
        "\n",
        "- [Deep Learning](https://en.wikipedia.org/wiki/Deep_learning) (DL): Es una evolución de técnicas de\n",
        "ML basadas en redes neuronales que han supuesto un avances en campos como el análisis de imágen, robótica, reconocimiento del habla, traducción automática, etc.\n",
        "\n",
        "<center><img src=\"https://www.dlsi.ua.es/~juanra/UA/curso_verano_DL/images/AI-ML-DL.svg\" width=\"60%\"></center>\n"
      ]
    },
    {
      "cell_type": "markdown",
      "metadata": {
        "id": "VTN2jFakN8qk"
      },
      "source": [
        "## Crecimiento de proyectos basados en Deep Learning en Google\n",
        "\n",
        "Para presentar de un forma gráfica el impacto de las técnicas basadas en Deep Learning presentamos se siguiente gráfico.\n",
        "\n",
        "<center><img src=\"https://www.dlsi.ua.es/~juanra/UA/curso_verano_DL/images/DL-Google.jpg\"></center>\n",
        "\n",
        "- Se puede observar el gran incremento de estas técnicas a partir de mediados del 2015;\n",
        "- El uso de estas técnicas se han extendido a otras grandes empresas y estamos en un periodo donde se comienzan a usar en pequeñas y medianas."
      ]
    },
    {
      "cell_type": "markdown",
      "metadata": {
        "id": "PM8YpfwO5tKf"
      },
      "source": [
        "## Diferencias básicas entre la programación tradicional y el aprendizaje automático.\n",
        "\n",
        "<center><img src=\"https://www.dlsi.ua.es/~juanra/UA/curso_verano_DL/images/programming_ML.svg\"></center>"
      ]
    },
    {
      "cell_type": "markdown",
      "metadata": {
        "id": "292fXbUt_yUd"
      },
      "source": [
        "## Aplicaciones del Machine Learning en la industria\n",
        "\n",
        "<center><img src=\"https://www.dlsi.ua.es/~juanra/UA/curso_verano_DL/images/ML-applications.svg\"></center>"
      ]
    },
    {
      "cell_type": "markdown",
      "metadata": {
        "id": "j0bgQEkrVSbm"
      },
      "source": [
        "## Sistemas predictivos, presente y futuro\n",
        "\n",
        "<center><img src=\"https://www.dlsi.ua.es/~juanra/UA/curso_verano_DL/images/AI-eye.jpg\"></center>\n",
        "\n",
        "- Los sistemas predictivos están cambiando la forma en la que se abordan ciertos problemas y que cambiarán nuestro entorno. Algunos ejemplos:\n",
        "\n",
        "  - La **conducción autónoma** de una programación por casos (if/else) se hace inabordable mientras que con la imitación de un humano aprendiendo de su comportamiento es viable;\n",
        "\n",
        "  - **Traducción automática** de estar basada en reglas a aprender de textos traducidos por humanos;\n",
        "\n",
        "  - **Búsqueda de empleo** desde emparejar currículum vitae con las demandas de empleo a predecir cuales serán los mejores candidatos para un puesto de trabajo aprendiendo de los emparejamientos previos.\n",
        "  \n",
        "- Ahora se puede decir que los **datos** son un bien muy preciado y se consideran como una **nueva fuente de energía** que alimenta a sistemas basados en AI;\n",
        "\n",
        "- La expansión de la IA provoca dudas éticas sobre su uso y como consecuencia en Europa existe una regulación ([Nuevas normas sobre la inteligencia artificial: preguntas y respuestas](https://ec.europa.eu/commission/presscorner/detail/es/QANDA_21_1683))\n",
        "\n",
        "\n",
        "### Charlas relacionadadas:\n",
        "\n",
        "- Encontramos más información en [**Prediction Machines: The Simple Economics of Artificial Intelligence**](https://www.youtube.com/watch?v=Q4o56nufXTw) que es una charla del profesor [Ajay Agrawal](https://agrawal.ca/) (fundador de [Creative Destruction Lab](https://www.creativedestructionlab.com/people/ajay-agrawal/) and co-fundador de AI/robotics company Kindred).\n",
        "\n",
        "- Por otro lado, el conocido [Andrew Ng](http://www.andrewng.org/) que trabaja en [Baidu](https://en.wikipedia.org/wiki/Baidu), [Universidad de Stanford](https://es.wikipedia.org/wiki/Universidad_Stanford) y co-fundador de [Coursera](https://www.coursera.org/) impartió esta charla, [**The State of Artificial Intelligence**](https://www.youtube.com/watch?v=NKpuX_yzdYs), para [The Artificial Intelligence Channel](https://www.youtube.com/channel/UC5g-f-g4EVRkqL8Xs888BLA) sobre el **impacto** de la  **inteligencia artificial** en la sociedad.\n",
        "\n",
        "- Daniel Kahneman, premio nobel en economía que explicó que la [inteligencia artificial derrotará al inversor minorista](https://www.eleconomista.es/mercados-cotizaciones/noticias/11861967/07/22/Daniel-Kahneman-el-Nobel-que-explico-que-la-inteligencia-artificial-derrotara-al-inversor-minorista.html).\n",
        "\n",
        "- También como avance destacado en procesamiento de lenguaje natural (PLN) en famoso [**ChatGPT**](https://openai.com/blog/chatgpt) de la empresa OpenAI que se caracteriza para ser un chatbot con capacidades de \"entender\" las conversaciones y capaz de generar textos (en varios idiomas, descripciones de conceptos, contratos de compra/venta, orientación médica según síntomas, programas de ordenador, etc.) o resumirlos. Actualmente tiene restricciones de uso y acceso a información en Internet. En el futuro cercano se espera que también pueda analizar o generar imágenes o audio."
      ]
    },
    {
      "cell_type": "markdown",
      "metadata": {
        "id": "YxG9bRlY39YL"
      },
      "source": [
        "---\n",
        "\n",
        "# Resumen"
      ]
    },
    {
      "cell_type": "markdown",
      "metadata": {
        "id": "H5ESNcU23_e-"
      },
      "source": [
        "* Diferencias entre los conceptos de **Artificial Intelligence**, **Machine Learning** y **Deep Learning**.\n",
        "* Ejemplos de aplicaciones de **Machine Learning** en ámbitos **empresariales**.\n"
      ]
    }
  ]
}