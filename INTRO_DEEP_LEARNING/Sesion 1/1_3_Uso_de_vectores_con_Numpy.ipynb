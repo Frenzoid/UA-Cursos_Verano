{
  "nbformat": 4,
  "nbformat_minor": 0,
  "metadata": {
    "colab": {
      "provenance": [],
      "toc_visible": true
    },
    "kernelspec": {
      "display_name": "Python 3",
      "language": "python",
      "name": "python3"
    }
  },
  "cells": [
    {
      "cell_type": "markdown",
      "metadata": {
        "id": "Dzf5ZuzTn2HA"
      },
      "source": [
        "<center><img src=\"https://www.dlsi.ua.es/~juanra/UA/curso_verano_DL/images/numpy-logo.jpg\" height=\"100\"></center>\n",
        "\n",
        "# 1.3 Uso de vectores con Numpy\n",
        "\n",
        "Profesor: Juan Ramón Rico (<juanramonrico@ua.es>)\n",
        "\n",
        "## Resumen\n",
        "---\n",
        "**NumPy** permite el manejo de vectores de un forma fácil y eficiente, además muchos otros paquetes están construidos sobre éste.\n",
        "- Documentación <https://docs.scipy.org/doc/numpy/user/>\n",
        "- Tutorial de inicio rápido <https://docs.scipy.org/doc/numpy/user/quickstart.html>\n",
        "\n",
        "---\n"
      ]
    },
    {
      "cell_type": "markdown",
      "metadata": {
        "id": "rDD0bMFNn2J2"
      },
      "source": [
        "# Vectores con Numpy\n",
        "\n",
        "Para utilizar vectores y operaciones entre ellos es conveniente usar el paquete `NumPy`. Es muy rápido y eficiente usando la memoria.\n",
        "\n",
        "`pip install numpy`\n",
        "\n",
        "- Los vectores estarán compuestos por números o cadenas de caracteres para realizar operaciones"
      ]
    },
    {
      "cell_type": "markdown",
      "metadata": {
        "id": "Jdoqn2pLkNqh"
      },
      "source": [
        "## Vectores (1D)"
      ]
    },
    {
      "cell_type": "code",
      "metadata": {
        "id": "Z7eOMZYmkNql"
      },
      "source": [
        "import numpy as np\n",
        "\n",
        "a = np.array([1,2,3])\n",
        "print(f'Vector de enteros a: {a}')\n",
        "\n",
        "b = np.array(['buenos','días'])\n",
        "print(f'Vector de cadenas b: {b}')"
      ],
      "execution_count": null,
      "outputs": []
    },
    {
      "cell_type": "markdown",
      "metadata": {
        "id": "_Uf4tBjPf14h"
      },
      "source": [
        "### Acceso con de índices (Numpy)"
      ]
    },
    {
      "cell_type": "code",
      "metadata": {
        "id": "LwQXjGYqgN4P"
      },
      "source": [
        "print(f'Vector completo a={a}')\n",
        "print(f'Acceso a una posición a[0]={a[0]}')\n",
        "print(f'Acceso desde el inicio hasta una posición a[:2]={a[:2]}')\n",
        "print(f'Acceso desde una posición hasta el final a[2:]={a[2:]}')\n",
        "print(f'Acceso desde una posición hasta otra a[1:2]={a[1:2]}')\n",
        "print(f'Acceso al último elemento a[-1]={a[-1]}')"
      ],
      "execution_count": null,
      "outputs": []
    },
    {
      "cell_type": "markdown",
      "metadata": {
        "id": "WY2Zzr6qn2KI"
      },
      "source": [
        "### Vectores numéricos"
      ]
    },
    {
      "cell_type": "code",
      "metadata": {
        "id": "zCSFCZ_qn2KK"
      },
      "source": [
        "a = np.array([1,2,3])\n",
        "print(f'a+a: {a+a}')\n",
        "print(f'a*a: {a+a}')\n",
        "print(f'a/a: {a/a}')\n"
      ],
      "execution_count": null,
      "outputs": []
    },
    {
      "cell_type": "markdown",
      "metadata": {
        "id": "PmRlI3IIn2Kw"
      },
      "source": [
        "### Funciones sobre vectores numéricos"
      ]
    },
    {
      "cell_type": "code",
      "metadata": {
        "id": "JihnH5hrn2Ky"
      },
      "source": [
        "a = np.array([1,2,3,4])\n",
        "print(f'a.sum: {a.sum()}')\n",
        "print(f'a.mean: {a.mean()}')\n",
        "print(f'a.std: {a.std():.2f}')"
      ],
      "execution_count": null,
      "outputs": []
    },
    {
      "cell_type": "markdown",
      "metadata": {
        "id": "reOl4Gnnn2K-"
      },
      "source": [
        "Ayuda sobre las funciones:\n",
        "\n",
        "- `np.sum?`\n",
        "- `np.mean?`\n",
        "- `np.std?`"
      ]
    },
    {
      "cell_type": "code",
      "metadata": {
        "id": "5NT56le4n2LG"
      },
      "source": [
        "# Probemos las siguientes instrucciones:\n",
        "\n",
        "np.random.seed(1000)\n",
        "\n",
        "vn100 = np.random.normal(size=100)\n",
        "vn100"
      ],
      "execution_count": null,
      "outputs": []
    },
    {
      "cell_type": "markdown",
      "metadata": {
        "id": "0IWXygl6n2LY"
      },
      "source": [
        "> **Nota:** La funcion `np.random.seed` se usa cuando queremos que los experimentos sean fielmente reproducibles sin variación. Se podría usar esta característica para impartir cursos y que los resultados no varíen, o bien, detectar errores en los cálculos. En otro caso se omite para que los números sean aleatorios (pseudo-aleatorios) y los experimentos contengan esta característica."
      ]
    },
    {
      "cell_type": "markdown",
      "metadata": {
        "id": "d3MC7JL-n2La"
      },
      "source": [
        "## Vectores - Ejemplos con valores desconocidos (nan)\n",
        "\n",
        "### Por defecto"
      ]
    },
    {
      "cell_type": "code",
      "metadata": {
        "id": "sA-B2Vkkn2Lc"
      },
      "source": [
        "a = np.array([1,2,float('nan')])\n",
        "print(f'a.sum: {a.sum()}')\n",
        "print(f'a.mean: {a.mean()}')\n",
        "print(f'a.std: {a.std():.2f}')"
      ],
      "execution_count": null,
      "outputs": []
    },
    {
      "cell_type": "markdown",
      "metadata": {
        "id": "xq4335Mdn2Lo"
      },
      "source": [
        "### Teniendo en cuenta los números no definidos o indeterminados"
      ]
    },
    {
      "cell_type": "code",
      "metadata": {
        "id": "sThq8RXJn2Lo"
      },
      "source": [
        "print(f'np.nansum(a): {np.nansum(a)}')\n",
        "print(f'np.nanmean(a): {np.nanmean(a)}')\n",
        "print(f'np.nanstd(a): {np.nanstd(a):.2f}')"
      ],
      "execution_count": null,
      "outputs": []
    },
    {
      "cell_type": "markdown",
      "metadata": {
        "id": "N-2Qjzuxn2Lu"
      },
      "source": [
        "## Vectores - Ejemplos con caracteres"
      ]
    },
    {
      "cell_type": "code",
      "metadata": {
        "id": "mudHU3dGn2L4"
      },
      "source": [
        "b = np.array([\"buenos\",\"días\"])\n",
        "print(f'b+b: {np.core.defchararray.add(b, b)}')\n",
        "print(f'\\'hola\\'*3: {\"hola\"*3}')"
      ],
      "execution_count": null,
      "outputs": []
    },
    {
      "cell_type": "markdown",
      "metadata": {
        "id": "jkoWYmqLn2MQ"
      },
      "source": [
        "## Matrices (2D)\n",
        "\n",
        "Primero vamos a crear matrices de datos y más adelante las importaremos desde un fichero tipo de texto tipo **.csv** o (.xlsx/.xls**(Excel) que es lo más común.\n",
        "\n",
        "Creando y almacenando matrices"
      ]
    },
    {
      "cell_type": "code",
      "metadata": {
        "id": "s7dQRjM-n2MS"
      },
      "source": [
        "mat1 = np.array([[1,2],[3,4],[5,6]])\n",
        "mat1"
      ],
      "execution_count": null,
      "outputs": []
    },
    {
      "cell_type": "code",
      "metadata": {
        "id": "hBbF89YOoiJB"
      },
      "source": [
        "# Tambien se puede realizar con...\n",
        "\n",
        "mat1 = np.arange(1,7).reshape((3,2))\n",
        "mat1"
      ],
      "execution_count": null,
      "outputs": []
    },
    {
      "cell_type": "markdown",
      "metadata": {
        "id": "dbvLJfg-piuB"
      },
      "source": [
        "**Ejercicio**:\n",
        "\n",
        "* Buscamos información sobre las funciones `arange` y `reshape`.\n",
        "* Exponemos en común para que sirve cada una."
      ]
    },
    {
      "cell_type": "code",
      "metadata": {
        "id": "u3aDYSQQn2MY"
      },
      "source": [
        "mat2 = np.array([[1,2,3],[4,5,6]])\n",
        "mat2"
      ],
      "execution_count": null,
      "outputs": []
    },
    {
      "cell_type": "code",
      "metadata": {
        "id": "MTTEz1Rqo6zs"
      },
      "source": [
        "# De la misma forma que antes tambien se puede realizar con...\n",
        "\n",
        "mat2 = np.arange(1,7).reshape((2,3))\n",
        "mat2"
      ],
      "execution_count": null,
      "outputs": []
    },
    {
      "cell_type": "code",
      "metadata": {
        "id": "NHrcl2FDn2Mc"
      },
      "source": [
        "# Producto escalar\n",
        "\n",
        "mat1*mat1"
      ],
      "execution_count": null,
      "outputs": []
    },
    {
      "cell_type": "code",
      "metadata": {
        "id": "UZEr287pn2Mi"
      },
      "source": [
        "# Producto vectorial\n",
        "\n",
        "np.dot(mat1, mat2)"
      ],
      "execution_count": null,
      "outputs": []
    },
    {
      "cell_type": "markdown",
      "metadata": {
        "id": "YxG9bRlY39YL"
      },
      "source": [
        "---\n",
        "\n",
        "# Resumen"
      ]
    },
    {
      "cell_type": "markdown",
      "metadata": {
        "id": "H5ESNcU23_e-"
      },
      "source": [
        "* **NumPy** como paquete básico de manipulación de datos vectoriales.\n",
        "* Estas estructuras nos servirán para cargar los datos en memoria, entrenar y evaluar algoritmos de **Machine Learning** o **Deep Learning**."
      ]
    }
  ]
}