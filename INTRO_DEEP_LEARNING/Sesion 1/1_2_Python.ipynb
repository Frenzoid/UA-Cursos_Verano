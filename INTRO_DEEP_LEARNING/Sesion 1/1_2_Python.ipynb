{
  "nbformat": 4,
  "nbformat_minor": 0,
  "metadata": {
    "colab": {
      "provenance": [],
      "toc_visible": true
    },
    "kernelspec": {
      "display_name": "Python 3",
      "language": "python",
      "name": "python3"
    }
  },
  "cells": [
    {
      "cell_type": "markdown",
      "metadata": {
        "id": "Dzf5ZuzTn2HA"
      },
      "source": [
        "<center><img src=\"https://www.dlsi.ua.es/~juanra/UA/curso_verano_DL/images/python-logo.svg\"></center>\n",
        "\n",
        "# 1.2 Python\n",
        "\n",
        "Profesor: Juan Ramón Rico (<juanramonrico@ua.es>)\n",
        "\n",
        "## Resumen\n",
        "---\n",
        "Lenguaje de código abierto y propósito general. Diseñado a finales de los 80 y ha evolucionado hasta nuestros días\n",
        "- Documentación <https://www.python.org/doc/>\n",
        "- Tutorial de inicio rápido <https://entrenamiento-python-basico.readthedocs.io/es/latest/>\n",
        "\n",
        "---\n"
      ]
    },
    {
      "cell_type": "markdown",
      "metadata": {
        "id": "0IbpEMnPn2HW"
      },
      "source": [
        "# Uso de Python como lenguaje de programación"
      ]
    },
    {
      "cell_type": "markdown",
      "metadata": {
        "id": "tE_Bzup5n2Ha"
      },
      "source": [
        "## ¿Qué es Python?\n",
        "\n",
        "- *Python* es un lenguaje de programación interpretado y multiplataforma cuya sintaxis favorece un código legible.\n",
        "- Creado a finales de los ochenta por Guido van Rossum en el Centro para las Matemáticas y la Informática (CWI, Centrum Wiskunde & Informatica, Paises Bajos).\n",
        "- El nombre del lenguaje proviene de la afición de su creador por los humoristas británicos Monty Python.\n",
        "- Se trata de un lenguaje de programación multiparadigma: orientado a objetos, programación imperativa y programación funcional.\n",
        "- Se pueden crear módulos en C o C++ para acelerar la ejecución de los procesos.\n",
        "- Web principal <https://www.python.org/>\n"
      ]
    },
    {
      "cell_type": "markdown",
      "metadata": {
        "id": "KxXeiUrtn2Hg"
      },
      "source": [
        "## Sus principales ventajas\n",
        "\n",
        "- Python Software Foundation License (software libre y código abierto).\n",
        "- Gracias al uso de paquetes se aplica en cálculo, álgebra líneal y simbólica, mantenimiento sistemas operativos, visualización de datos, estadística, Machine Learning y Deep Learning.\n",
        "- Tiene una comunidad muy activa y cada vez se puede aplicar a más ámbitos.\n",
        "- Se puede ejecutar en programas o en entornos interactivos paso a paso.\n",
        "- Fácil instalación y mantenimiento mediante gestores de paquetes como `pip` (bajo nivel) o `Anaconda` (avanzado y orientado a empresas <https://anaconda.org/>).\n",
        "- En instalaciones locales se recomienda usar un editor sencillo y multiventana para facilitar su uso. Spyder (<https://github.com/spyder-ide/>) sería un ejemplo.\n",
        "- El uso de Python como servicio (Python notebook). Ej.: [Google Colab](https://colab.research.google.com/) o [Kaggle notebooks](https://www.kaggle.com/docs/notebooks)."
      ]
    },
    {
      "cell_type": "markdown",
      "metadata": {
        "id": "wAfslVLZbOBR"
      },
      "source": [
        "## Un poco de historia: Las diferentes eras de Python\n",
        "\n",
        "[Jake VanderPlas](http://vanderplas.com/) ha escrito numerosos libros sobre `Python` y `Data Science` en su charla `Everything you need to know to get\n",
        "started in data science in Python` ([vídeo](https://www.youtube.com/watch?v=DifMYH3iuFw&feature=emb_logo) y [diapositivas](https://speakerdeck.com/jakevdp/pydata-101)) comenta las diferentes eras del lenguaje y lo que se comentaba sobre él.\n",
        "\n",
        "<center><img src=\"https://www.dlsi.ua.es/~juanra/UA/curso_verano_DL/images/Python-eras.svg\"></center>\n",
        "\n",
        "`Python` es en realidad como una extensa navaja multiusos que se usa en una gran diversidad de ámbitos."
      ]
    },
    {
      "cell_type": "markdown",
      "metadata": {
        "id": "ULsgQcxRn2Hi"
      },
      "source": [
        "# Comenzando con Python"
      ]
    },
    {
      "cell_type": "markdown",
      "metadata": {
        "id": "tSDoWsNfn2Hm"
      },
      "source": [
        "## Instalación clásica Python\n",
        "\n",
        "![](https://www.dlsi.ua.es/~juanra/UA/curso_verano_DL/images/Python_web.png)\n",
        "\n",
        "- Acceder a <https://www.python.org/>.\n",
        "- Descargar la última versión."
      ]
    },
    {
      "cell_type": "markdown",
      "metadata": {
        "id": "PGh1ElOqn2Ho"
      },
      "source": [
        "## Preparando la instalación de paquetes. El entorno virtual.\n",
        "\n",
        "Para comenzar abrimos un terminal en el sistema operativo que usemos (Windows, Mac OSX, Linux).\n",
        "\n",
        "Vamos a crear un entorno virtual para facilitar la instalación local de paquetes.\n",
        "\n",
        "`python3.8 -m venv py38`\n",
        "\n",
        "`source ./py38/bin/activate`"
      ]
    },
    {
      "cell_type": "markdown",
      "metadata": {
        "id": "26LmKm8YV9y-"
      },
      "source": [
        "Ahora vamos a instalar los paquetes básicos para seguir este curso:\n",
        "\n",
        "`pip install pip -U`\n",
        "\n",
        "`pip install jupyter`"
      ]
    },
    {
      "cell_type": "markdown",
      "metadata": {
        "id": "lnZLB-IAglRH"
      },
      "source": [
        "## Instaladores alternativos\n",
        "\n",
        "<center><img src=\"https://www.dlsi.ua.es/~juanra/UA/curso_verano_DL/images/conda.png\" height=\"60\"></center>\n",
        "\n",
        "- [Conda](https://docs.conda.io/en/latest/): Instalador de packetes más reciente, con paquetes precompilados y más fácil de usar que `pip`.\n",
        "- [Miniconda](https://docs.conda.io/en/latest/miniconda.html): Es una selección de paquetes de `Conda` pensado para una gran parte de usuarios.\n",
        "\n",
        "Aunque mi preferencia sigue siendo `pip`. Tiene las últimas versiones de los paquetes y para un usuario de nivel medio o avanzado en programación no tiene que plantear ningún problema."
      ]
    },
    {
      "cell_type": "markdown",
      "metadata": {
        "id": "Y7RrbCr8n2Hy"
      },
      "source": [
        "## Google Colab (Drive): Uso de `Python` en la nube [la que usaremos en este curso]\n",
        "\n",
        "<center><img src=\"https://www.dlsi.ua.es/~juanra/UA/curso_verano_DL/images/google_colab1.png\"></center>\n",
        "\n",
        "[Google Colab](https://colab.research.google.com/) es un proyecto de investigación que quiere ayudar a promocionar el aprendizaje automático en ámbito de la educación y la investigación. Es un entorno similar al `Jupyter notebook` que no necesita de la instalación de programas para editar y ejercutar código, ya que se realizar en la nube.\n",
        "\n",
        "Colaboratory notebooks usa [Google Drive](https://drive.google.com) y permite compartir el documento como si fuera de texto (Docs) o de un libro de cálculo (Sheets). Colaboratory es de uso gratuito con restricciones de espacio y tiempo de uso.\n",
        "\n",
        "Para más información, revisar [FAQ](https://research.google.com/colaboratory/faq.html)."
      ]
    },
    {
      "cell_type": "markdown",
      "metadata": {
        "id": "E3-6zF8On2H2"
      },
      "source": [
        "## Cuadernos de Python en acción: listar, actualizar e instalar paquetes adicionales"
      ]
    },
    {
      "cell_type": "markdown",
      "metadata": {
        "id": "9bpwoV1AGjUb"
      },
      "source": [
        "Conocer con qué versión de Python estamos trabajando"
      ]
    },
    {
      "cell_type": "code",
      "metadata": {
        "id": "CEWaXvjJGjUf"
      },
      "source": [
        "!python -V"
      ],
      "execution_count": null,
      "outputs": []
    },
    {
      "cell_type": "markdown",
      "metadata": {
        "id": "6GU80gKfORoX"
      },
      "source": [
        "¿Qué paquetes hay instalados y cuál es su versión?"
      ]
    },
    {
      "cell_type": "code",
      "metadata": {
        "id": "Q7c0hvNcOqvH"
      },
      "source": [
        "!pip list"
      ],
      "execution_count": null,
      "outputs": []
    },
    {
      "cell_type": "markdown",
      "metadata": {
        "id": "tX2nRN1XPx4U"
      },
      "source": [
        "Descripción de un paquete conocido ej. `Pandas`"
      ]
    },
    {
      "cell_type": "code",
      "metadata": {
        "id": "hOHOPSBpO_hM"
      },
      "source": [
        "!pip show pandas"
      ],
      "execution_count": null,
      "outputs": []
    },
    {
      "cell_type": "markdown",
      "metadata": {
        "id": "p6SvQ9m6G06u"
      },
      "source": [
        "Para instalar o actualizar (-U) nuevos paquetes lo haremos con:"
      ]
    },
    {
      "cell_type": "code",
      "metadata": {
        "id": "OVkZ5Yf8n2H4"
      },
      "source": [
        "!pip install keras h5py scikit-learn -U"
      ],
      "execution_count": null,
      "outputs": []
    },
    {
      "cell_type": "markdown",
      "metadata": {
        "id": "BRosXklNQDdw"
      },
      "source": [
        "**Ejercicio:**\n",
        "\n",
        "- ¿Qué versión del paquete de operaciones con vectores `Numpy` está instalada?\n",
        "- ¿Y del paquete de visualización de gráficos `Matplotlib`?"
      ]
    },
    {
      "cell_type": "markdown",
      "metadata": {
        "id": "HVon2cKLf1Gv"
      },
      "source": [
        "# Paquetes básicos y avanzados\n",
        "\n",
        "El `Python` está preparado para extender sus funcionalidades haciendo uso diferentes librerías o paquetes con los que facilitarnos determinadas tareas. A continuación vamos a mostrar una selección de estas librerías con una breve descripción de sus principales características."
      ]
    },
    {
      "cell_type": "markdown",
      "metadata": {
        "id": "2-POuajGn2Ik"
      },
      "source": [
        "## NumPy\n",
        "<center><img src=\"https://www.dlsi.ua.es/~juanra/UA/curso_verano_DL/images/numpy-logo.jpg\" height=\"100\"></center>\n",
        "\n",
        "Numpy permite el uso vectores y operaciones vectoriales de una forma fácil y eficiente, además muchos otros paquetes están construidos haciendo uso de éste.\n",
        "- Documentación <https://docs.scipy.org/doc/numpy/user/>\n",
        "- Tutorial de inicio rápido <https://docs.scipy.org/doc/numpy/user/quickstart.html>\n",
        "\n",
        "\n",
        "\n",
        "\n"
      ]
    },
    {
      "cell_type": "markdown",
      "metadata": {
        "id": "Z1ogVbd0fobu"
      },
      "source": [
        "## Pandas\n",
        "<center><img src=\"https://www.dlsi.ua.es/~juanra/UA/curso_verano_DL/images/pandas-logo.png\" height=\"100\"></center>\n",
        "\n",
        "Pandas es un paquete de alto rendimiento para estructuras de datos tipo tabla, análisis y visualización de datos. Está construido sobre `NumPy` y `MatPlotLib`.\n",
        "- Documentación <https://pandas.pydata.org/pandas-docs/stable/>\n",
        "- Tutorial de inicio rápido <https://pandas.pydata.org/pandas-docs/stable/10min.html>    "
      ]
    },
    {
      "cell_type": "markdown",
      "metadata": {
        "id": "rw-3yv14fohm"
      },
      "source": [
        "## Scikit-Learn\n",
        "\n",
        "<center><img src=\"https://www.dlsi.ua.es/~juanra/UA/curso_verano_DL/images/sklearn-logo.png\" height=\"100\"></center>\n",
        "  \n",
        "Scikit-Learn es el principal paquete de aprendizaje automático (Machine Learning) de propósito general en `Python`. Tiene gran cantidad de algoritmos y módulos para el pre-procesamiento, validación, calibración, ajuste de hiper-parámetros de modelos para usarlos en problemas de clasificación, regresión o agrupamiento.\n",
        "- Documentación <http://scikit-learn.org/stable/documentation.html>\n",
        "- Tutorial de inicio rápido <http://elitedatascience.com/python-machine-learning-tutorial-scikit-learn>"
      ]
    },
    {
      "cell_type": "markdown",
      "metadata": {
        "id": "zZoDTyVSflbq"
      },
      "source": [
        "## Keras + TensorFlow\n",
        " <center><img src=\"https://www.dlsi.ua.es/~juanra/UA/curso_verano_DL/images/keras-tf-logo.png\" height=\"200\"></center>\n",
        "\n",
        "Keras es un paquete que permite la creación y prueba de redes neuronales avanzadas (Deep Learning). Tiene una sintaxis sencilla que permite modelar rápido. Desde 2019 fue integrado complementamente en el desarrollo de [Tensorflow v2.x](https://www.tensorflow.org/) de Google y forma parte de él.\n",
        "- Documentación <https://keras.io/> y <https://www.tensorflow.org/tutorials>\n",
        "- Tutorial de inicio rápido <https://machinelearningmastery.com/tensorflow-tutorial-deep-learning-with-tf-keras/>    "
      ]
    },
    {
      "cell_type": "markdown",
      "metadata": {
        "id": "TqgtOsvxfi6O"
      },
      "source": [
        "## Matplotlib\n",
        "<center><img src=\"https://www.dlsi.ua.es/~juanra/UA/curso_verano_DL/images/matplotlib-logo.svg\" height=\"100\"></center>\n",
        "\n",
        "MatPlotLib es un paquete flexible de visualización de gráficos. Permite multitud de gráficos comunes en 2D o 3D, además permite la programación a medida de combinaciones de gráficos.\n",
        "- Documentación <https://matplotlib.org/contents.html>\n",
        "- Tutorial de inicio rápido <https://matplotlib.org/users/pyplot_tutorial.html>"
      ]
    },
    {
      "cell_type": "markdown",
      "metadata": {
        "id": "Elmm45CTfF1C"
      },
      "source": [
        "## Plotnine\n",
        "<center><img src=\"https://www.dlsi.ua.es/~juanra/UA/curso_verano_DL/images/plotnine-logo.png\" height=\"100\"></center>\n",
        "\n",
        "Aunque `Matplotlib` es la librería de uso más extendido en `Python`, `Plotnine` es de recienbre creación y hace mucho más fácil visualizar los datos más comunes creando combinaciones de gráficos de una manera fácil. Está construido sobre `Matplotlib` y ofrece facilidades de alto nivel (similar al paquete `ggplot2` de `R`).\n",
        "- Documentación <https://plotnine.readthedocs.io/en/stable/index.html>\n",
        "- Tutoriales de inicio rápido <https://plotnine.readthedocs.io/en/stable/tutorials.html>"
      ]
    },
    {
      "cell_type": "markdown",
      "source": [
        "## Plotly\n",
        "<center><img src=\"https://www.dlsi.ua.es/~juanra/UA/curso_verano_DL/images/plotly-logo.png\" height=\"100\"></center>\n",
        "\n",
        "Los paquetes de gráficos anteriores están orientados a gráficos estáticos, en cambio, `Plotly` está orientado a gráficos interactivos.\n",
        "- Documentación <https://plotly.com/python/>"
      ],
      "metadata": {
        "id": "EZv18KEGiFHN"
      }
    },
    {
      "cell_type": "markdown",
      "metadata": {
        "id": "XQD4xTu6n2Io"
      },
      "source": [
        "# Repasando Python"
      ]
    },
    {
      "cell_type": "markdown",
      "metadata": {
        "id": "EOyLy-NupelJ"
      },
      "source": [
        "## Operaciones básicas"
      ]
    },
    {
      "cell_type": "markdown",
      "metadata": {
        "id": "pxJ41yD_S9vt"
      },
      "source": [
        "Conocer con qué versión de Python estamos trabajando"
      ]
    },
    {
      "cell_type": "code",
      "metadata": {
        "id": "22WQ8kJHmcgT"
      },
      "source": [
        "!python -V"
      ],
      "execution_count": null,
      "outputs": []
    },
    {
      "cell_type": "markdown",
      "metadata": {
        "id": "4W_MIlu4aFAR"
      },
      "source": [
        "### Suma y resta\n",
        "\n",
        "Vamos a practicar como si fuera una calculadora:\n",
        "\n",
        "<table>\n",
        "  <tr><td>2+2 </td><td> 2+float('inf') </td><td> float('inf')+float('inf') </td><td> 2-2 </td><td> 2-float('inf') </td><td> float('inf')-float('inf')</td></tr>\n",
        "</table>\n"
      ]
    },
    {
      "cell_type": "code",
      "metadata": {
        "id": "FdMtfDWNn2Iq"
      },
      "source": [
        "float('inf')-float('inf')"
      ],
      "execution_count": null,
      "outputs": []
    },
    {
      "cell_type": "markdown",
      "metadata": {
        "id": "6M8TVi-gn2I-"
      },
      "source": [
        "### Multiplicación y división\n",
        "\n",
        "<table>\n",
        "<tr><td> 2*2 </td><td> 2*0 </td><td> 2*float('inf') </td><td> float('inf')*float('inf') </td><td> float('inf')*0 </td></tr>\n",
        "<tr><td> 0/0 </td><td> 0/2 </td><td> 2/0 </td><td> float('inf')/float('inf') </td><td> float('inf')/0 </td></tr>\n",
        " <table>\n"
      ]
    },
    {
      "cell_type": "code",
      "metadata": {
        "id": "LBsdEYPfn2JG"
      },
      "source": [
        "2*2"
      ],
      "execution_count": null,
      "outputs": []
    },
    {
      "cell_type": "markdown",
      "metadata": {
        "id": "ZTfU0B6Gn2JS"
      },
      "source": [
        "### Otras operaciones básicas como...\n",
        "\n",
        "#### División entera y módulo\n",
        "\n",
        "`5 // 2`\n",
        "\n",
        "`5 % 2`\n",
        "\n",
        "#### Exponentes\n",
        "\n",
        "`2**3`\n"
      ]
    },
    {
      "cell_type": "code",
      "metadata": {
        "id": "P7ZfhyTun2JW"
      },
      "source": [
        "5//2"
      ],
      "execution_count": null,
      "outputs": []
    },
    {
      "cell_type": "markdown",
      "metadata": {
        "id": "BrD_UiUFn2Jm"
      },
      "source": [
        "## Características especiales de Python\n",
        "\n",
        "- *Python* al igual que *R* trabaja con números **nan** (Not a Number) no definidos o valores no disponibles **NA** (Not Available) en la operaciones y en sus **funciones**\n",
        "\n",
        "- La **mayoría** de lenguajes de programación habituales se detendrían y mostrarían un mensaje de **error**.\n",
        "\n",
        "```\n",
        "sum([2,3])\n",
        "sum([2,float('nan')])\n",
        "```\n",
        "\n",
        "- En apartados posteriores veremos como se trata la ausencia de datos.\n"
      ]
    },
    {
      "cell_type": "markdown",
      "metadata": {
        "id": "cDKn1foxn2Jq"
      },
      "source": [
        "## Variables, tipos básicos, condiciones y bucles"
      ]
    },
    {
      "cell_type": "markdown",
      "metadata": {
        "id": "pUqAZWKfoVdY"
      },
      "source": [
        "### Números\n",
        "\n",
        "- Se puede usar directamente como una **calculadora**.\n",
        "- Los **valores** o el **resultado** de las operaciones se puede guardar en **variables**."
      ]
    },
    {
      "cell_type": "code",
      "metadata": {
        "id": "T0nA_uUNn2Js"
      },
      "source": [
        "a = 2*4+7-4\n",
        "print(f'a: {a}')\n",
        "\n",
        "b = 5/2+a\n",
        "print(f'b: {b}')\n",
        "\n",
        "c = 5//2+a\n",
        "print(f'c: {c}')\n"
      ],
      "execution_count": null,
      "outputs": []
    },
    {
      "cell_type": "markdown",
      "metadata": {
        "id": "nteHGMs_lS2e"
      },
      "source": [
        "### Caracteres"
      ]
    },
    {
      "cell_type": "code",
      "metadata": {
        "id": "9wSx5vbilWMI"
      },
      "source": [
        "a = 'Ejemplo 1 con una comilla'\n",
        "print(a)\n",
        "\n",
        "b = \"Ejemplo 2 con doble comilla\"\n",
        "print(b)"
      ],
      "execution_count": null,
      "outputs": []
    },
    {
      "cell_type": "markdown",
      "metadata": {
        "id": "IEf3gANvm5Ay"
      },
      "source": [
        "### Listas"
      ]
    },
    {
      "cell_type": "code",
      "metadata": {
        "id": "AQk4pqX9m66a"
      },
      "source": [
        "list = ['uno','dos','tres']\n",
        "\n",
        "for i in list:\n",
        "  print(i)\n",
        "\n",
        "list.remove('uno')\n",
        "list.append('cuatro')\n",
        "\n",
        "for i in list:\n",
        "  print('new',i)"
      ],
      "execution_count": null,
      "outputs": []
    },
    {
      "cell_type": "markdown",
      "metadata": {
        "id": "iz7t51FFpyH2"
      },
      "source": [
        "### Conjuntos"
      ]
    },
    {
      "cell_type": "code",
      "metadata": {
        "id": "yatkxiVXpz-B"
      },
      "source": [
        "lista = ['uno','dos','tres','tres']\n",
        "conjunto = set(lista)\n",
        "print(conjunto)\n",
        "\n",
        "print(f'\\'uno\\' pertenece al conjunto {\"uno\" in conjunto}')\n",
        "print(f'\\'cuatro\\' pertenece al conjunto {\"cuatro\" in conjunto}')"
      ],
      "execution_count": null,
      "outputs": []
    },
    {
      "cell_type": "markdown",
      "metadata": {
        "id": "O6e0-LSkllxs"
      },
      "source": [
        "### Diccionarios"
      ]
    },
    {
      "cell_type": "code",
      "metadata": {
        "id": "tHvdPzXsloym"
      },
      "source": [
        "str2num = {'uno':1, 'dos':2, 'tres':3}\n",
        "num2str = { 1:'uno', 2:'dos', 3:'tres'}\n",
        "\n",
        "print(f'uno -> {str2num[\"uno\"]}')\n",
        "print(f'1 -> {num2str[1]}')\n",
        "\n",
        "print(f'Todos los items de str2num')\n",
        "for key, value in str2num.items():\n",
        "  print(f'\\t{key} -> {value}')"
      ],
      "execution_count": null,
      "outputs": []
    },
    {
      "cell_type": "code",
      "metadata": {
        "id": "-MDyLw3jmc_V"
      },
      "source": [
        "# Accedemos a una clave que no existe usando el método 'get'\n",
        "\n",
        "print(str2num.get('cuatro'))"
      ],
      "execution_count": null,
      "outputs": []
    },
    {
      "cell_type": "code",
      "metadata": {
        "id": "Dqzan6zrrxxv"
      },
      "source": [
        "# Si accedemos a una clave que no existe usando con [] se produce un error\n",
        "\n",
        "try:\n",
        "  print(str2num['cuatro'])\n",
        "except KeyError:\n",
        "  print('La clave no existe')"
      ],
      "execution_count": null,
      "outputs": []
    },
    {
      "cell_type": "markdown",
      "metadata": {
        "id": "Ks9RI5pGkHpt"
      },
      "source": [
        "### Condiciones"
      ]
    },
    {
      "cell_type": "code",
      "metadata": {
        "id": "2ZMRddW5kKb0"
      },
      "source": [
        "a = 1\n",
        "if a>1:\n",
        "  print('La variable \"a\" mayor que 1')\n",
        "else:\n",
        "  print('La variable \"a\" NO es mayor que 1')"
      ],
      "execution_count": null,
      "outputs": []
    },
    {
      "cell_type": "code",
      "metadata": {
        "id": "DgmTLP-ZklFA"
      },
      "source": [
        "a = 1\n",
        "b = 2\n",
        "if a>1 and b>1:\n",
        "  print(f'{a} y {b} son mayores que 1')\n",
        "else:\n",
        "  print(f'{a} y {b} NO son mayores que 1')"
      ],
      "execution_count": null,
      "outputs": []
    },
    {
      "cell_type": "code",
      "metadata": {
        "id": "p7MVfc11lBCB"
      },
      "source": [
        "a = 1\n",
        "b = 2\n",
        "if a>1 or b>1:\n",
        "  print(f'{a} o {b} es mayor que 1')\n",
        "else:\n",
        "  print(f'Ni {a}, ni {b} son mayores que 1')"
      ],
      "execution_count": null,
      "outputs": []
    },
    {
      "cell_type": "markdown",
      "metadata": {
        "id": "2mA8YT2qtMF0"
      },
      "source": [
        "### Bucles"
      ]
    },
    {
      "cell_type": "markdown",
      "metadata": {
        "id": "zxCxn9m4tQIQ"
      },
      "source": [
        "#### for"
      ]
    },
    {
      "cell_type": "code",
      "metadata": {
        "id": "OvP8-ZPHtRkf"
      },
      "source": [
        "lista = ['uno','dos','tres','tres']\n",
        "for i in lista:\n",
        "  print(i)\n",
        "\n",
        "for i in range(len(lista)):\n",
        "  print(f'{i} {lista[i]}')"
      ],
      "execution_count": null,
      "outputs": []
    },
    {
      "cell_type": "markdown",
      "metadata": {
        "id": "sNkiuXTbt3kQ"
      },
      "source": [
        "#### while"
      ]
    },
    {
      "cell_type": "code",
      "metadata": {
        "id": "zgHR5yW-t9FA"
      },
      "source": [
        "i = 0\n",
        "while i < 5:\n",
        "    print(i)\n",
        "    i += 1"
      ],
      "execution_count": null,
      "outputs": []
    },
    {
      "cell_type": "markdown",
      "metadata": {
        "id": "YxG9bRlY39YL"
      },
      "source": [
        "---\n",
        "\n",
        "# Resumen"
      ]
    },
    {
      "cell_type": "markdown",
      "metadata": {
        "id": "H5ESNcU23_e-"
      },
      "source": [
        "* Uso del lenguaje **Python** para el análisis de datos en general y para **Deep Learning** en particular.\n",
        "* Ejemplos básicos de **código** Python.\n",
        "\n"
      ]
    }
  ]
}