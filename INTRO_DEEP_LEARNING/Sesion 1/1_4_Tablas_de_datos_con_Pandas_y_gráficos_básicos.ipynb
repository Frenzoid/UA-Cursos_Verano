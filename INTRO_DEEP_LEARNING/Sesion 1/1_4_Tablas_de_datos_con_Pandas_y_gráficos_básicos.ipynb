{
  "nbformat": 4,
  "nbformat_minor": 0,
  "metadata": {
    "colab": {
      "provenance": [],
      "toc_visible": true
    },
    "kernelspec": {
      "display_name": "Python 3",
      "language": "python",
      "name": "python3"
    }
  },
  "cells": [
    {
      "cell_type": "markdown",
      "metadata": {
        "id": "Dzf5ZuzTn2HA"
      },
      "source": [
        "<center><img src=\"https://www.dlsi.ua.es/~juanra/UA/curso_verano_DL/images/pandas-logo.png\" height=\"100\"></center>\n",
        "\n",
        "# 1.4 Tablas de datos con Pandas y gráficos básicos\n",
        "\n",
        "Profesor: Juan Ramón Rico (<juanramonrico@ua.es>)\n",
        "\n",
        "## Resumen\n",
        "\n",
        "----\n",
        "**Pandas**: Pandas es un paquete de alto rendimiento para estructuras de datos tipo tabla, análisis y visualización de datos. Está construido sobre `NumPy` y `MatPlotLib`.\n",
        "- Documentación <https://pandas.pydata.org/pandas-docs/stable/>\n",
        "- Tutorial de inicio rápido <https://pandas.pydata.org/pandas-docs/stable/10min.html>    \n",
        "\n",
        "**MatPlotLib**: Es un paquete flexible de visualización de gráficos. Es potente pero algo difícil para usuarios nóveles.\n",
        "- Documentación <https://matplotlib.org/contents.html>\n",
        "- Tutorial de inicio rápido <https://matplotlib.org/users/pyplot_tutorial.html>\n",
        "\n",
        "---"
      ]
    },
    {
      "cell_type": "markdown",
      "metadata": {
        "id": "IF1TmsXAn2Mm"
      },
      "source": [
        "# Tablas de datos (data frame)\n"
      ]
    },
    {
      "cell_type": "markdown",
      "metadata": {
        "id": "KgteOiNyzbxG"
      },
      "source": [
        "También existe un tipo similar a una tabla de datos (data frame). Es el equivalente a una tabla bidimensional con nombres en las filas y las columnas.\n",
        "Además, puede contener diferentes tipos de datos con cada columna que el tipo matriz no permite.\n",
        "\n",
        "Lo más habitual para trabajar con data frame es importar tablas desde ficheros (texto, hojas de cálculo).\n",
        "\n",
        "Creando y almacenando data frame\n",
        "\n",
        "Para utilizar este tipo de datos usaremos un paquete llamado `Pandas`\n",
        "\n",
        "`pip install pandas`"
      ]
    },
    {
      "cell_type": "markdown",
      "metadata": {
        "id": "TXbNxT8C-iUM"
      },
      "source": [
        "## Creando tablas"
      ]
    },
    {
      "cell_type": "code",
      "metadata": {
        "id": "Of1ooGPZn2Mo"
      },
      "source": [
        "import numpy as np\n",
        "import pandas as pd\n",
        "\n",
        "Nombre = np.array(['Juan', 'Pedro', 'Ana', 'Isabel'])\n",
        "Grupo  = ['Mañana','Tarde','Mañana','Tarde']\n",
        "Nota = [8, 5, 9, 5.5]\n",
        "\n",
        "cuatrimestre = pd.DataFrame({'Nombre':Nombre, 'Nota':Nota, 'Grupo':Grupo}, columns=['Nombre', 'Nota', 'Grupo'])\n",
        "cuatrimestre"
      ],
      "execution_count": null,
      "outputs": []
    },
    {
      "cell_type": "markdown",
      "metadata": {
        "id": "mPl7OcoFXVA_"
      },
      "source": [
        "También podemos cargar los datos desde un fichero. El mismo `data frame` anterior se podría conserguir con:"
      ]
    },
    {
      "cell_type": "code",
      "metadata": {
        "id": "y63WjVg5gHaq"
      },
      "source": [
        "# Mostrar el archivo CSV\n",
        "\n",
        "!curl 'https://www.dlsi.ua.es/~juanra/UA/curso_verano_DL/data/pandas_example.csv'"
      ],
      "execution_count": null,
      "outputs": []
    },
    {
      "cell_type": "code",
      "metadata": {
        "id": "DTVK9s9oXkto"
      },
      "source": [
        "import pandas as pd\n",
        "\n",
        "cuatrimestre = pd.read_csv('https://www.dlsi.ua.es/~juanra/UA/curso_verano_DL/data/pandas_example.csv')\n",
        "cuatrimestre"
      ],
      "execution_count": null,
      "outputs": []
    },
    {
      "cell_type": "markdown",
      "metadata": {
        "id": "fBatO9pnXohY"
      },
      "source": [
        "Analizando los datos"
      ]
    },
    {
      "cell_type": "code",
      "metadata": {
        "id": "mwOuIlFIn2Mu"
      },
      "source": [
        "cuatrimestre.describe(include='all')"
      ],
      "execution_count": null,
      "outputs": []
    },
    {
      "cell_type": "markdown",
      "metadata": {
        "id": "rTJmW29un2My"
      },
      "source": [
        "## Seleccionando elementos\n",
        "\n",
        "| cuatrimestre\n",
        "|:----\n",
        "| `cuatrimestre[:2]`\n",
        "| `cuatrimestre[2:]`\n",
        "| `cuatrimestre[:2]['Nota']`\n",
        "| `cuatrimestre[2:]['Nota']`\n",
        "| `cuatrimestre[cuatrimestre.Grupo=='Mañana']`\n",
        "| `cuatrimestre[(cuatrimestre.Grupo=='Mañana') & (cuatrimestre.Nota>8)]`\n",
        "| `cuatrimestre[(cuatrimestre.Grupo=='Mañana') & (cuatrimestre.Nota>8)][\"Nombre\"]`\n",
        "| `cuatrimestre[(cuatrimestre.Grupo=='Mañana') & (cuatrimestre.Nota>8)][[\"Nombre\",\"Nota\"]]`"
      ]
    },
    {
      "cell_type": "code",
      "metadata": {
        "id": "UVL0qJPwn2M0"
      },
      "source": [
        "cuatrimestre[cuatrimestre.Grupo=='Mañana']"
      ],
      "execution_count": null,
      "outputs": []
    },
    {
      "cell_type": "markdown",
      "metadata": {
        "id": "AOO5H7-9-xBg"
      },
      "source": [
        "## Preparando un fichero de datos\n",
        "\n",
        "Los datos habitualmente se cargan de un fichero CSV. En esta sección mostraremos cómo se cargan y se verifican los tipos de datos."
      ]
    },
    {
      "cell_type": "markdown",
      "metadata": {
        "id": "Rn1EOKZM_arm"
      },
      "source": [
        "### Copiar los ficheros de prueba en el servidor"
      ]
    },
    {
      "cell_type": "code",
      "metadata": {
        "id": "h9GGEt_8_iGa"
      },
      "source": [
        "# Hay que copiar los archivos de ejemplo\n",
        "!wget https://www.dlsi.ua.es/~juanra/UA/curso_verano_DL/data/basic_data.zip\n",
        "!unzip basic_data"
      ],
      "execution_count": null,
      "outputs": []
    },
    {
      "cell_type": "markdown",
      "metadata": {
        "id": "NVlEYIzWAE71"
      },
      "source": [
        "### Cargar y verificar los tipos de datos"
      ]
    },
    {
      "cell_type": "code",
      "metadata": {
        "id": "X69ninYeADL9"
      },
      "source": [
        "import pandas as pd\n",
        "\n",
        "# Clasificación binaria con el fichero 'diabete_01.csv'\n",
        "data = pd.read_csv('./basic_data/diabetes_01.csv')\n",
        "\n",
        "print('\\nPrimeras filas')\n",
        "display(data.head())\n",
        "\n",
        "print('\\nTipos de datos en las columnas')\n",
        "display(data.dtypes)\n",
        "\n",
        "print('\\nComprobar si existen valores desconocidos en los datos')\n",
        "display(data.isnull().any())"
      ],
      "execution_count": null,
      "outputs": []
    },
    {
      "cell_type": "markdown",
      "metadata": {
        "id": "2WLGQvF8h3v1"
      },
      "source": [
        "Una precisión de `int32` y `float32` es suficiente para representar la información, además, las actuales GPU trabajan con precisiones de 32 bits y NO de 64."
      ]
    },
    {
      "cell_type": "code",
      "metadata": {
        "id": "535ayFEBAX6N"
      },
      "source": [
        "# Convirtiendo los tipos de 64 a 32 bits para usar GPU\n",
        "pares = {'int64':'int32', 'float64':'float32'}\n",
        "for i in data.columns:\n",
        "  pareja = pares.get(str(data[i].dtype))\n",
        "  if pareja != None:\n",
        "    data[i]= data[i].astype(pareja)\n",
        "\n",
        "data.dtypes"
      ],
      "execution_count": null,
      "outputs": []
    },
    {
      "cell_type": "code",
      "metadata": {
        "id": "PhMXrucjBoMz"
      },
      "source": [
        "# En realidad la columna 'class' corresponde a si el diagnóstico a si de diabetes (1) o no (0)\n",
        "# Se puede dejar como número entero, o bien, transformarlo en un categoría que en realidad lo es\n",
        "data['class'] = data['class'].astype('category')\n",
        "data['class'].dtype"
      ],
      "execution_count": null,
      "outputs": []
    },
    {
      "cell_type": "code",
      "metadata": {
        "id": "zSCD8FByAZfE"
      },
      "source": [
        "# Selección de atributos y variable objetivo\n",
        "X = data.iloc[:,:-1]\n",
        "y = data.iloc[:,-1]\n",
        "\n",
        "display(X.head())\n",
        "display(y.head())"
      ],
      "execution_count": null,
      "outputs": []
    },
    {
      "cell_type": "markdown",
      "metadata": {
        "id": "QaixOgNRi1az"
      },
      "source": [
        "### Ejercicio: leer datos de iris.csv"
      ]
    },
    {
      "cell_type": "code",
      "metadata": {
        "id": "m-lueVLkihn1"
      },
      "source": [
        "# Ejercicio adaptar los valores del fichero 'iris.csv'\n",
        "\n",
        "data = pd.read_csv('./basic_data/iris.csv')\n",
        "\n",
        "display(data.head())\n",
        "display(data.dtypes)"
      ],
      "execution_count": null,
      "outputs": []
    },
    {
      "cell_type": "code",
      "metadata": {
        "id": "eenENBdwjIvI"
      },
      "source": [
        "# Convertir características numéricas a 'float32' y 'class' a 'category'\n"
      ],
      "execution_count": null,
      "outputs": []
    },
    {
      "cell_type": "code",
      "metadata": {
        "id": "nx7W9xOUjauL"
      },
      "source": [
        "# Asignar los valores de las características a la variable 'x'\n",
        "\n",
        "# Asignar los valores de la variable objetivo o de clase a la variable 'y'\n"
      ],
      "execution_count": null,
      "outputs": []
    },
    {
      "cell_type": "markdown",
      "metadata": {
        "id": "rR60eLqen2NA"
      },
      "source": [
        "# Gráficos básicos"
      ]
    },
    {
      "cell_type": "markdown",
      "metadata": {
        "id": "pOrty3AYaQPf"
      },
      "source": [
        "El paquete básico para gráficos de `Python` es `MatPlotlib` y se instalaría con\n",
        "\n",
        "`pip install matplotlib`\n",
        "\n",
        "si no lo tenemos ya instalado. También es posible mostrar gráficas con `Pandas`, así que mostraremos los mismos ejemplos con ambos paquetes."
      ]
    },
    {
      "cell_type": "markdown",
      "metadata": {
        "id": "SApD5nLMno5z"
      },
      "source": [
        "## Función mostrar puntos 2D"
      ]
    },
    {
      "cell_type": "code",
      "metadata": {
        "id": "H8BvCM-Jn2NO"
      },
      "source": [
        "import numpy as np\n",
        "import pandas as pd\n",
        "import matplotlib.pyplot as plt\n",
        "import plotly.express as px\n",
        "\n",
        "#\n",
        "# matplotlib\n",
        "#\n",
        "df = pd.DataFrame(np.random.rand(10,2), columns=['x','y'])\n",
        "plt.title('matplotlib')\n",
        "plt.scatter(df.x, df.y)\n",
        "plt.show()\n",
        "\n",
        "# Pandas\n",
        "df.plot.scatter('x','y', title='Pandas')\n",
        "\n",
        "# Plotly\n",
        "px.scatter(df, x='x', y='y', title='Plotly', height = 400, width = 500)"
      ],
      "execution_count": null,
      "outputs": []
    },
    {
      "cell_type": "markdown",
      "metadata": {
        "id": "Yz_Iy1Nsn2NS"
      },
      "source": [
        "## Vector 1D numérico\n",
        "\n",
        "Vamos a generar un vector con 100 números creados al azar siguiendo\n",
        "una distribución $\\mathcal{N}(0,1)$"
      ]
    },
    {
      "cell_type": "code",
      "metadata": {
        "id": "GJbkRxE-lMUb"
      },
      "source": [
        "np.random.seed(1000)\n",
        "\n",
        "df_100 = pd.DataFrame(np.random.normal(size=100), columns=['x'])"
      ],
      "execution_count": null,
      "outputs": []
    },
    {
      "cell_type": "markdown",
      "metadata": {
        "id": "yxU-_ROVn2Na"
      },
      "source": [
        "### Secuencia de valores"
      ]
    },
    {
      "cell_type": "code",
      "metadata": {
        "id": "Ft-rpxYsn2Na"
      },
      "source": [
        "# matplotlib\n",
        "plt.title('matplotlib')\n",
        "plt.plot(df_100.x)\n",
        "\n",
        "# Pandas\n",
        "df_100.plot.line(title='Pandas')\n",
        "\n",
        "# Plotly\n",
        "px.line(df_100, y='x', title='Plotly', height = 400, width = 500)"
      ],
      "execution_count": null,
      "outputs": []
    },
    {
      "cell_type": "markdown",
      "metadata": {
        "id": "m4zyxVWrn2Ni"
      },
      "source": [
        "### Histograma"
      ]
    },
    {
      "cell_type": "code",
      "metadata": {
        "id": "vCDTH6zdn2Nk"
      },
      "source": [
        "# Matplotlib\n",
        "plt.title('matplotlib')\n",
        "plt.hist(df_100.x,20)\n",
        "\n",
        "# Pandas\n",
        "df_100.plot.hist(bins=20, title='Pandas')\n",
        "\n",
        "# Plotly\n",
        "px.histogram(df_100, x='x', title='Plotly', height = 400, width = 500)"
      ],
      "execution_count": null,
      "outputs": []
    },
    {
      "cell_type": "markdown",
      "metadata": {
        "id": "IfRMu5Xxn2No"
      },
      "source": [
        "### Gráfico de cajas (boxplot)"
      ]
    },
    {
      "cell_type": "code",
      "metadata": {
        "id": "Ch8F6O2Gn2No"
      },
      "source": [
        "#Matplotlib\n",
        "plt.title('matplotlib')\n",
        "plt.boxplot(df_100.x)\n",
        "\n",
        "# Pandas\n",
        "df_100.plot.box(title='Pandas')\n",
        "\n",
        "# Plotly\n",
        "px.box(df_100, y='x', title='Plotly', height = 400, width = 500)"
      ],
      "execution_count": null,
      "outputs": []
    },
    {
      "cell_type": "markdown",
      "metadata": {
        "id": "oLJfmx07n2Nu"
      },
      "source": [
        "#### Calculado los casos atípicos (outliers)"
      ]
    },
    {
      "cell_type": "code",
      "metadata": {
        "id": "pzJeEyNhn2Nu"
      },
      "source": [
        "Q1, Q3 = np.percentile(df_100.x, [25,75])\n",
        "IQR = (Q3 - Q1)\n",
        "outlier_low = Q1 - 1.5 * IQR\n",
        "outlier_high= Q3 + 1.5 * IQR\n",
        "print(f'Q1: {Q1:.2f}; Q3: {Q3:.2f}; IQR: {IQR:.2f}')\n",
        "print(f'outlier_low: {outlier_low:.2f} outlier_high: {outlier_high:.2f}')\n",
        "print(f'vn100 outliers: {df_100[(df_100.x<outlier_low) | (df_100.x>outlier_high)]}')"
      ],
      "execution_count": null,
      "outputs": []
    },
    {
      "cell_type": "markdown",
      "metadata": {
        "id": "9V8c1rLWn2Ny"
      },
      "source": [
        "### Resumen de datos"
      ]
    },
    {
      "cell_type": "code",
      "metadata": {
        "id": "99CaUJ_Hn2N0"
      },
      "source": [
        "df_100.describe().T"
      ],
      "execution_count": null,
      "outputs": []
    },
    {
      "cell_type": "markdown",
      "metadata": {
        "id": "YxG9bRlY39YL"
      },
      "source": [
        "---\n",
        "\n",
        "# Resumen"
      ]
    },
    {
      "cell_type": "markdown",
      "metadata": {
        "id": "H5ESNcU23_e-"
      },
      "source": [
        "* **Pandas** como paquete básico de manipulación de datos de diferentes tipos y con estructura de **tabla** también sirve para **representar gráficamente** su contenido, o analizarlo **estadísticamente** de una forma sencilla.\n",
        "\n",
        "* **Matplotlib** es el paquete de representaciones gráficas más importante en Python. Tiene una orientación descriptiva donde se necesita indicar, el cómo, y necesita definir cada parte del gráfico con código. Existe otra orientación de alto nivel llamada **declarativa** como la del paquete **Plotnine** que permite definir, el qué, y no necesita especificar cada parte del gráfico."
      ]
    }
  ]
}