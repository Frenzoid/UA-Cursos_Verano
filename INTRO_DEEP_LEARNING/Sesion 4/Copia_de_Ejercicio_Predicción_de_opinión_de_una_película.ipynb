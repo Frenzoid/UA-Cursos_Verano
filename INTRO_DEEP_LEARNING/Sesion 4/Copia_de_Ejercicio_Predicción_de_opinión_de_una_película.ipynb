{
  "nbformat": 4,
  "nbformat_minor": 0,
  "metadata": {
    "colab": {
      "provenance": [],
      "toc_visible": true
    },
    "kernelspec": {
      "name": "python3",
      "display_name": "Python 3"
    },
    "accelerator": "GPU"
  },
  "cells": [
    {
      "cell_type": "markdown",
      "metadata": {
        "id": "hGrRQvqDT-i-"
      },
      "source": [
        "# Sesión 4.1 - Predecir la opinión de una reseña de una película\n",
        "Curso 2022-23\n",
        "\n",
        "Profesor: [Jorge Calvo Zaragoza](mailto:jcalvo@dlsi.ua.es)\n",
        "\n",
        "## Resumen\n",
        "En esta sesión:\n",
        "  * Practicaremos el uso de redes recurrentes.\n",
        "  * Resolveremos el problema de predecir si una opinión sobre una película es positiva o negativa."
      ]
    },
    {
      "cell_type": "markdown",
      "metadata": {
        "id": "mhW-kzNdBgwm"
      },
      "source": [
        "## Formulación del problema\n",
        "\n",
        "Vamos a plantear el problema de clasificar reseñas de películas utilizando el texto de la propia reseña. Será una formulación de clasificación binaria (de dos clases), ya que el modelo aprenderá simplemente a decir si la reseña es positiva (1) o negativa (0).\n",
        "\n",
        "Usaremos el conjunto de datos **IMDB** que contiene el texto de 50.000 reseñas de películas y que viene incluida en el API de Keras."
      ]
    },
    {
      "cell_type": "markdown",
      "metadata": {
        "id": "Po56Ey53gviK"
      },
      "source": [
        "### Carga de datos\n",
        "\n",
        "\n",
        "El siguiente código realiza la llamada al API de Keras que descarga los datos de imdb. Esta llamada tiene una serie de parámetros para controlar las características de los datos. Más información en [la web de Keras](https://keras.io/datasets/#imdb-movie-reviews-sentiment-classification)."
      ]
    },
    {
      "cell_type": "code",
      "metadata": {
        "id": "Ym7wDNrdUAKz",
        "colab": {
          "base_uri": "https://localhost:8080/"
        },
        "outputId": "0e703bc7-6217-4fb9-d4c4-e461e35e3404"
      },
      "source": [
        "import numpy as np\n",
        "import tensorflow as tf\n",
        "\n",
        "# ----------------------------------------------------\n",
        "# Cargamos los datos de la base de datos imdb\n",
        "# - Podemos seleccionar algunas características como\n",
        "\n",
        "LONGITUD_MAXIMA = 200 # Longitud máx. de la reseña (afecta al no. de muestras)\n",
        "NUM_PALABRAS = 2000  # No. de palabras diferentes (no afecta al no. de muestras)\n",
        "\n",
        "print('Cargando datos...')\n",
        "\n",
        "# Los datos vienen divididos en entrenamiento y test\n",
        "(x_train, y_train), (x_test, y_test) = tf.keras.datasets.imdb.load_data(maxlen=LONGITUD_MAXIMA,\n",
        "                                num_words=NUM_PALABRAS)\n",
        "\n",
        "# Inspeccionemos los datos\n",
        "print()\n",
        "print('Formato datos: X {} - Y {}'.format( x_train.shape, y_train.shape ))\n",
        "print()\n",
        "print('Ejemplo secuencia de entrada: {}'.format(x_train[0]))\n",
        "print('Ejemplo etiqueta: {}'.format(y_train[0]))\n",
        "\n",
        "print()\n",
        "print('Entrenamiento: X {} - Y {}'.format( x_train.shape, y_train.shape ))\n",
        "print('Test: X {} - Y {}'.format( x_test.shape, y_test.shape ))\n",
        "\n"
      ],
      "execution_count": 1,
      "outputs": [
        {
          "output_type": "stream",
          "name": "stdout",
          "text": [
            "Cargando datos...\n",
            "Downloading data from https://storage.googleapis.com/tensorflow/tf-keras-datasets/imdb.npz\n",
            "17464789/17464789 [==============================] - 1s 0us/step\n",
            "\n",
            "Formato datos: X (14244,) - Y (14244,)\n",
            "\n",
            "Ejemplo secuencia de entrada: [1, 194, 1153, 194, 2, 78, 228, 5, 6, 1463, 2, 2, 134, 26, 4, 715, 8, 118, 1634, 14, 394, 20, 13, 119, 954, 189, 102, 5, 207, 110, 2, 21, 14, 69, 188, 8, 30, 23, 7, 4, 249, 126, 93, 4, 114, 9, 2, 1523, 5, 647, 4, 116, 9, 35, 2, 4, 229, 9, 340, 1322, 4, 118, 9, 4, 130, 2, 19, 4, 1002, 5, 89, 29, 952, 46, 37, 4, 455, 9, 45, 43, 38, 1543, 1905, 398, 4, 1649, 26, 2, 5, 163, 11, 2, 2, 4, 1153, 9, 194, 775, 7, 2, 2, 349, 2, 148, 605, 2, 2, 15, 123, 125, 68, 2, 2, 15, 349, 165, 2, 98, 5, 4, 228, 9, 43, 2, 1157, 15, 299, 120, 5, 120, 174, 11, 220, 175, 136, 50, 9, 2, 228, 2, 5, 2, 656, 245, 2, 5, 4, 2, 131, 152, 491, 18, 2, 32, 2, 1212, 14, 9, 6, 371, 78, 22, 625, 64, 1382, 9, 8, 168, 145, 23, 4, 1690, 15, 16, 4, 1355, 5, 28, 6, 52, 154, 462, 33, 89, 78, 285, 16, 145, 95]\n",
            "Ejemplo etiqueta: 0\n",
            "\n",
            "Entrenamiento: X (14244,) - Y (14244,)\n",
            "Test: X (14669,) - Y (14669,)\n"
          ]
        }
      ]
    },
    {
      "cell_type": "markdown",
      "metadata": {
        "id": "pWmzzCMKC9OB"
      },
      "source": [
        "Podemos ver que las secuencias de las reseñas ya están pre-procesadas y aparecen codificadas como una secuencia de números enteros. Cada número, como hemos introducido en la sesión de teoría, identifica una única palabra del vocabulario.\n",
        "\n",
        "Para continuar con el ejercicio, vamos a crear los diccionarios para traducir de números a palabras y viceversa."
      ]
    },
    {
      "cell_type": "code",
      "metadata": {
        "id": "I7ApG37McOdH",
        "colab": {
          "base_uri": "https://localhost:8080/"
        },
        "outputId": "5afd6835-838d-4959-9ae4-e20ec2c097ad"
      },
      "source": [
        "\n",
        "# --------------------------------------------------------------------------\n",
        "# Cargamos el diccionario que mapea palabras a un entero desde el API\n",
        "word_to_int = tf.keras.datasets.imdb.get_word_index()\n",
        "\n",
        "print()\n",
        "print('Número de palabras usadas: {}'.format(NUM_PALABRAS))\n",
        "\n",
        "# Tenemos que reservar las cuatro primeras posiciones para palabras especiales\n",
        "word_to_int = {k:(v+3) for k,v in word_to_int.items()}\n",
        "word_to_int[\"<PAD>\"] = 0\n",
        "word_to_int[\"<START>\"] = 1\n",
        "word_to_int[\"<UNK>\"] = 2\n",
        "word_to_int[\"<UNUSED>\"] = 3\n",
        "\n",
        "# Creamos el codificador reverso\n",
        "int_to_word = dict([(value, key) for (key, value) in word_to_int.items()])\n",
        "\n",
        "# Podemos crear un decodificador de la secuencia numerica a textual\n",
        "def decodificar(secuencia):\n",
        "    return ' '.join([int_to_word.get(palabra) for palabra in secuencia])\n",
        "\n",
        "# Ejemplo decodificacion\n",
        "print()\n",
        "print('Ejemplo secuencia de entrada: {}'.format(decodificar(x_train[0])))\n",
        "print('Ejemplo etiqueta: {}'.format(y_train[0]))\n",
        "print()\n",
        "print('Ejemplo secuencia de entrada: {}'.format(decodificar(x_train[3])))\n",
        "print('Ejemplo etiqueta: {}'.format(y_train[3]))\n"
      ],
      "execution_count": 6,
      "outputs": [
        {
          "output_type": "stream",
          "name": "stdout",
          "text": [
            "\n",
            "Número de palabras usadas: 2000\n",
            "\n",
            "Ejemplo secuencia de entrada: <START> big hair big <UNK> bad music and a giant <UNK> <UNK> these are the words to best describe this terrible movie i love cheesy horror movies and i've seen <UNK> but this had got to be on of the worst ever made the plot is <UNK> thin and ridiculous the acting is an <UNK> the script is completely laughable the best is the end <UNK> with the cop and how he worked out who the killer is it's just so damn terribly written the clothes are <UNK> and funny in <UNK> <UNK> the hair is big lots of <UNK> <UNK> men <UNK> those cut <UNK> <UNK> that show off their <UNK> <UNK> that men actually <UNK> them and the music is just <UNK> trash that plays over and over again in almost every scene there is <UNK> music <UNK> and <UNK> taking away <UNK> and the <UNK> still doesn't close for <UNK> all <UNK> aside this is a truly bad film whose only charm is to look back on the disaster that was the 80's and have a good old laugh at how bad everything was back then\n",
            "Ejemplo etiqueta: 0\n",
            "\n",
            "Ejemplo secuencia de entrada: <START> begins better than it ends funny that the russian <UNK> crew <UNK> all other actors it's like those scenes where documentary shots br br spoiler part the message <UNK> was <UNK> to the whole story it just does not <UNK> br br\n",
            "Ejemplo etiqueta: 0\n"
          ]
        }
      ]
    },
    {
      "cell_type": "code",
      "metadata": {
        "id": "LnGNhrAw8s-X",
        "colab": {
          "base_uri": "https://localhost:8080/"
        },
        "outputId": "ed807a78-edcc-4768-b45b-6e4524240058"
      },
      "source": [
        "print('Ejemplo secuencia de entrada: {}'.format(decodificar(x_train[17])))\n",
        "print('Ejemplo etiqueta: {}'.format(y_train[17]))"
      ],
      "execution_count": 7,
      "outputs": [
        {
          "output_type": "stream",
          "name": "stdout",
          "text": [
            "Ejemplo secuencia de entrada: <START> <UNK> <UNK> appeared in several of these low budget <UNK> for <UNK> <UNK> in the <UNK> and the <UNK> <UNK> is one of the better ones br br <UNK> plays a mad scientist who <UNK> young <UNK> and kills them and then <UNK> <UNK> from their <UNK> so he can keep his <UNK> wife looking young after a <UNK> and a doctor stay the night at his home and discover he is responsible for the <UNK> <UNK> the following morning they <UNK> these murders to the police and the mad scientist is shot and <UNK> dead <UNK> <UNK> br br you have got almost everything in this movie the <UNK> <UNK> <UNK> of an old <UNK> a <UNK> and <UNK> her <UNK> a <UNK> and <UNK> <UNK> in <UNK> house <UNK> and his wife find they sleep better in <UNK> rather than <UNK> in the movie br br the <UNK> <UNK> is worth a look especially for <UNK> <UNK> fans great fun br br rating 3 stars out of 5\n",
            "Ejemplo etiqueta: 1\n"
          ]
        }
      ]
    },
    {
      "cell_type": "markdown",
      "metadata": {
        "id": "PJ-GykT6DYzQ"
      },
      "source": [
        "Siguiendo los principios introducidos en la sesión anterior, vamos a crear la función generadora que sirva los datos.\n",
        "\n",
        "En este caso, los conjuntos X e Y se pasan por parámetro porque no se crean dinámicamente sino que están ya almacenados en variables."
      ]
    },
    {
      "cell_type": "code",
      "metadata": {
        "id": "VaTkIVwRDY-A",
        "colab": {
          "base_uri": "https://localhost:8080/"
        },
        "outputId": "90cc40a2-d034-43d2-d931-7f6b66b5dfd2"
      },
      "source": [
        "# Crear una función generadora que acepte como parámetro:\n",
        "# - X: secuencias que codifican una reseña\n",
        "# - Y: etiqueta de reseña negativa (0) o positiva (1)\n",
        "# - Tamaño de cada lote de datos\n",
        "\n",
        "def generador(X, Y, tam_lote):\n",
        "  idx = 0\n",
        "\n",
        "  # Bucle infinito del generador\n",
        "  while True:\n",
        "\n",
        "    X_next =   X[idx:idx+tam_lote]   # TODO: Coge el siguiente lote de X (desde idx hasta idx+tam_lote)\n",
        "    Y_next =   Y[idx:idx+tam_lote]   # TODO: Coge el siguiente lote de Y (desde idx hasta idx+tam_lote)\n",
        "\n",
        "    max_longitud = max([len(b) for b in X])        # TODO Calcula la longitud de la secuencia más larga de X de este lote\n",
        "\n",
        "    # Creamos el lote\n",
        "    X_lote = np.zeros((tam_lote, max_longitud), dtype=np.int32)\n",
        "    Y_lote = np.zeros((tam_lote, 1), dtype=np.int32)\n",
        "\n",
        "\n",
        "    for idx_s, secuencia in enumerate(X_next):\n",
        "      for idx_p, palabra in enumerate(secuencia):\n",
        "          X_lote[idx_s][idx_p] = palabra\n",
        "\n",
        "    for idx_e, etiqueta in enumerate(Y_next):\n",
        "      Y_lote[idx_e] = etiqueta\n",
        "\n",
        "    yield X_lote, Y_lote           # TODO Devolvemos el lote para el generador\n",
        "\n",
        "\n",
        "    # Actualizamos `idx` para el próximo lote\n",
        "    idx = (idx + tam_lote) % len(X)\n",
        "\n",
        "# ----------------------------------------------------------------------\n",
        "# Prueba de la función generadora\n",
        "\n",
        "g = generador(x_train,y_train, tam_lote = 4)\n",
        "X_lote, Y_lote = next(g)\n",
        "\n",
        "print('Forma del lote X: {}'.format(X_lote.shape))\n",
        "print('Forma del lote Y: {}'.format(Y_lote.shape))\n"
      ],
      "execution_count": 45,
      "outputs": [
        {
          "output_type": "stream",
          "name": "stdout",
          "text": [
            "Forma del lote X: (4, 199)\n",
            "Forma del lote Y: (4, 1)\n"
          ]
        }
      ]
    },
    {
      "cell_type": "code",
      "metadata": {
        "id": "76Wg8njM-dX5",
        "colab": {
          "base_uri": "https://localhost:8080/"
        },
        "outputId": "649f6609-7449-4de5-d7f0-0715cf4be437"
      },
      "source": [
        "X_lote, Y_lote = next(g)\n",
        "\n",
        "print('Forma del lote X: {}'.format(X_lote.shape))\n",
        "print('Forma del lote Y: {}'.format(Y_lote.shape))"
      ],
      "execution_count": 44,
      "outputs": [
        {
          "output_type": "stream",
          "name": "stdout",
          "text": [
            "Forma del lote X: (4, 199)\n",
            "Forma del lote Y: (4, 1)\n"
          ]
        }
      ]
    },
    {
      "cell_type": "markdown",
      "metadata": {
        "id": "r94m3twrDZlx"
      },
      "source": [
        "Ahora podemos a construir el modelo de red. Al igual que en el ejemplo anterior, la entrada vendrá definida por secuencias de longitud variable y el número de características de cada elemento de la secuencia. Utilizaremos una capa *LSTM* y una *Dense* que realizará la clasificación."
      ]
    },
    {
      "cell_type": "code",
      "metadata": {
        "id": "AyfO286yb8Fo",
        "colab": {
          "base_uri": "https://localhost:8080/"
        },
        "outputId": "fffdd581-1cb0-4659-d8aa-63096038c17a"
      },
      "source": [
        "%%capture --no-stdout\n",
        "\n",
        "from tensorflow.keras.models import Sequential\n",
        "from tensorflow.keras.layers import LSTM, Embedding, Dense, Activation\n",
        "\n",
        "# ----------------------------------------\n",
        "# Construimos el modelo\n",
        "\n",
        "print('Construyendo el modelo...')\n",
        "\n",
        "# ===========\n",
        "model =Sequential() # TODO: Define un modelo secuencial\n",
        "model.add(Embedding(input_dim=NUM_PALABRAS, output_dim=128)) # TODO: Añade una capa embedding de 128 dimensiones\n",
        "model.add(tf.keras.layers.LSTM(256)) # TODO: Añade una capa recurrente de 256 neuronas\n",
        "model.add(Dense(1)) # TODO: Añade la capa densa correspondiente (¿qué activación tendrá?)\n",
        "model.add(Activation('sigmoid'))\n",
        "\n",
        "# ===========\n",
        "\n",
        "model.compile(loss=\"mean_squared_error\", # TODO: Define un loss apropiado para este modelo\n",
        "              optimizer='adam',\n",
        "              metrics=['accuracy'])\n",
        "\n",
        "model.summary()\n"
      ],
      "execution_count": 53,
      "outputs": [
        {
          "output_type": "stream",
          "name": "stdout",
          "text": [
            "Construyendo el modelo...\n",
            "Model: \"sequential_6\"\n",
            "_________________________________________________________________\n",
            " Layer (type)                Output Shape              Param #   \n",
            "=================================================================\n",
            " embedding_6 (Embedding)     (None, None, 128)         256000    \n",
            "                                                                 \n",
            " lstm_6 (LSTM)               (None, 256)               394240    \n",
            "                                                                 \n",
            " dense_6 (Dense)             (None, 1)                 257       \n",
            "                                                                 \n",
            " activation_6 (Activation)   (None, 1)                 0         \n",
            "                                                                 \n",
            "=================================================================\n",
            "Total params: 650,497\n",
            "Trainable params: 650,497\n",
            "Non-trainable params: 0\n",
            "_________________________________________________________________\n"
          ]
        }
      ]
    },
    {
      "cell_type": "markdown",
      "metadata": {
        "id": "2M8n2kGzGMrd"
      },
      "source": [
        "Con el modelo construido y la función generadora definida, podemos realizar el entrenamiento. Para ello:\n",
        "* Crearemos un generador para los datos de entrenamiento\n",
        "* Crearemos un generador para los datos de test\n",
        "* Llamaremos a *fit* con ambos generadores para entrenar y monitorizar."
      ]
    },
    {
      "cell_type": "code",
      "metadata": {
        "id": "kgI_N7QlGNWL",
        "colab": {
          "base_uri": "https://localhost:8080/"
        },
        "outputId": "c74e8710-e731-4fcf-83c5-6c1474014320"
      },
      "source": [
        "%%capture --no-stdout\n",
        "\n",
        "# ----------------------------------------\n",
        "# Entrenamiento\n",
        "\n",
        "TAM_LOTE = 32\n",
        "\n",
        "print()\n",
        "print('Entrenando la red...')\n",
        "\n",
        "# Creamos las funciones generadores definitivas\n",
        "gen_train = generador(x_train, y_train, TAM_LOTE)\n",
        "gen_test = generador(x_test, y_test, TAM_LOTE)\n",
        "\n",
        "# Calculamos el numero de pasos por epoca\n",
        "pasos_por_epoca_train =  x_train.shape[0] // TAM_LOTE\n",
        "pasos_por_epoca_val = x_test.shape[0] // TAM_LOTE\n",
        "\n",
        "# TODO: Completa la llamada a fit\n",
        "history = model.fit(gen_train,\n",
        "                    steps_per_epoch=pasos_por_epoca_train,\n",
        "                    validation_data=gen_test,\n",
        "                    validation_steps=pasos_por_epoca_val,\n",
        "                    epochs=15,\n",
        "                    verbose=1)"
      ],
      "execution_count": 54,
      "outputs": [
        {
          "output_type": "stream",
          "name": "stdout",
          "text": [
            "\n",
            "Entrenando la red...\n",
            "Epoch 1/15\n",
            "445/445 [==============================] - 34s 71ms/step - loss: 0.2503 - accuracy: 0.4988 - val_loss: 0.2501 - val_accuracy: 0.4944\n",
            "Epoch 2/15\n",
            "445/445 [==============================] - 12s 26ms/step - loss: 0.2512 - accuracy: 0.5118 - val_loss: 0.2516 - val_accuracy: 0.5375\n",
            "Epoch 3/15\n",
            "445/445 [==============================] - 10s 23ms/step - loss: 0.2490 - accuracy: 0.5326 - val_loss: 0.2587 - val_accuracy: 0.4948\n",
            "Epoch 4/15\n",
            "445/445 [==============================] - 12s 27ms/step - loss: 0.2522 - accuracy: 0.4975 - val_loss: 0.2528 - val_accuracy: 0.4946\n",
            "Epoch 5/15\n",
            "445/445 [==============================] - 12s 27ms/step - loss: 0.2516 - accuracy: 0.4971 - val_loss: 0.2511 - val_accuracy: 0.4954\n",
            "Epoch 6/15\n",
            "445/445 [==============================] - 10s 22ms/step - loss: 0.2514 - accuracy: 0.5009 - val_loss: 0.2508 - val_accuracy: 0.4950\n",
            "Epoch 7/15\n",
            "445/445 [==============================] - 12s 27ms/step - loss: 0.2513 - accuracy: 0.5032 - val_loss: 0.2508 - val_accuracy: 0.4944\n",
            "Epoch 8/15\n",
            "445/445 [==============================] - 12s 28ms/step - loss: 0.2513 - accuracy: 0.5032 - val_loss: 0.2508 - val_accuracy: 0.4952\n",
            "Epoch 9/15\n",
            "445/445 [==============================] - 9s 21ms/step - loss: 0.2513 - accuracy: 0.5027 - val_loss: 0.2506 - val_accuracy: 0.4949\n",
            "Epoch 10/15\n",
            "445/445 [==============================] - 10s 22ms/step - loss: 0.2511 - accuracy: 0.5053 - val_loss: 0.2505 - val_accuracy: 0.4958\n",
            "Epoch 11/15\n",
            "445/445 [==============================] - 11s 25ms/step - loss: 0.2508 - accuracy: 0.5029 - val_loss: 0.2505 - val_accuracy: 0.4955\n",
            "Epoch 12/15\n",
            "445/445 [==============================] - 9s 20ms/step - loss: 0.2506 - accuracy: 0.5043 - val_loss: 0.2506 - val_accuracy: 0.4950\n",
            "Epoch 13/15\n",
            "445/445 [==============================] - 12s 26ms/step - loss: 0.2504 - accuracy: 0.5027 - val_loss: 0.2504 - val_accuracy: 0.4956\n",
            "Epoch 14/15\n",
            "445/445 [==============================] - 9s 21ms/step - loss: 0.2503 - accuracy: 0.5034 - val_loss: 0.2504 - val_accuracy: 0.4951\n",
            "Epoch 15/15\n",
            "445/445 [==============================] - 9s 21ms/step - loss: 0.2502 - accuracy: 0.5039 - val_loss: 0.2506 - val_accuracy: 0.4954\n"
          ]
        }
      ]
    },
    {
      "cell_type": "markdown",
      "metadata": {
        "id": "R1Lfc8O1P9Gc"
      },
      "source": [
        "Parece ser que la red sí aprende a valorar si una reseña es positiva o negativa en base a las palabras utilizadas.\n",
        "\n",
        "Vamos a inspeccionar detalladamente un lote de validación."
      ]
    },
    {
      "cell_type": "code",
      "metadata": {
        "id": "YBlQjJyuP8ZW",
        "colab": {
          "base_uri": "https://localhost:8080/"
        },
        "outputId": "68191a67-79cf-4ca2-f829-8fc628021cea"
      },
      "source": [
        "lote_validacion_x, lote_validacion_y = next(gen_test)\n",
        "\n",
        "prediccion = model.predict(lote_validacion_x) # TODO: Predice sobre el lote de validacion\n",
        "\n",
        "for idx_s, secuencia in enumerate(lote_validacion_x):\n",
        "  print('Secuencia: {}'.format( decodificar(secuencia) ))\n",
        "  print('Critica real: {}'.format( lote_validacion_y[idx_s] ))\n",
        "  print('Prediccion: {}'.format( prediccion[idx_s] ))\n",
        "  print()\n",
        "\n"
      ],
      "execution_count": 56,
      "outputs": [
        {
          "output_type": "stream",
          "name": "stdout",
          "text": [
            "1/1 [==============================] - 0s 19ms/step\n",
            "Secuencia: <START> i began watching this movie on t v some <UNK> ago but gave up after the first 10 minutes or so at the start the person on the <UNK> <UNK> <UNK> <UNK> in an <UNK> <UNK> becomes <UNK> about his <UNK> <UNK> <UNK> and then asks the <UNK> inside the house whether he can make a <UNK> call only to discover the line has been cut br br <UNK> <UNK> <UNK> <UNK> as one of the <UNK> turns up and <UNK> <UNK> the <UNK> and his wife upon which the <UNK> <UNK> character <UNK> <UNK> up the wall <UNK> in the <UNK> a number and then <UNK> it is done that was it for me <PAD> <PAD> <PAD> <PAD> <PAD> <PAD> <PAD> <PAD> <PAD> <PAD> <PAD> <PAD> <PAD> <PAD> <PAD> <PAD> <PAD> <PAD> <PAD> <PAD> <PAD> <PAD> <PAD> <PAD> <PAD> <PAD> <PAD> <PAD> <PAD> <PAD> <PAD> <PAD> <PAD> <PAD> <PAD> <PAD> <PAD> <PAD> <PAD> <PAD> <PAD> <PAD> <PAD> <PAD> <PAD> <PAD> <PAD> <PAD> <PAD> <PAD> <PAD> <PAD> <PAD> <PAD> <PAD> <PAD> <PAD> <PAD> <PAD> <PAD> <PAD> <PAD> <PAD> <PAD> <PAD> <PAD> <PAD> <PAD> <PAD> <PAD> <PAD> <PAD> <PAD> <PAD> <PAD> <PAD> <PAD> <PAD> <PAD> <PAD> <PAD> <PAD> <PAD>\n",
            "Critica real: [0]\n",
            "Prediccion: [0.48417172]\n",
            "\n",
            "Secuencia: <START> mr <UNK> has <UNK> <UNK> his already low standards even more and has now <UNK> himself in making bad movies the <UNK> has no <UNK> what so ever in the script it's director has made an even worse job and the music and score is so <UNK> and <UNK> that you just don't know whether to laugh or cry already 10 minutes into the movie you just want to turn it off however considering <UNK> <UNK> past movies you think <UNK> there might be some cool action sequences at least worth watching ' you are wrong it only gets worse as the movie <UNK> everyone with a few <UNK> seem to kill every person that they talk to good or bad innocent or not the only good thing with the movie is that it that it has an end and that it has a rather short running time <UNK> the movie up in two words stay away <PAD> <PAD> <PAD> <PAD> <PAD> <PAD> <PAD> <PAD> <PAD> <PAD> <PAD> <PAD> <PAD> <PAD> <PAD> <PAD> <PAD> <PAD> <PAD> <PAD> <PAD> <PAD> <PAD> <PAD> <PAD> <PAD> <PAD> <PAD> <PAD> <PAD> <PAD> <PAD> <PAD> <PAD> <PAD> <PAD> <PAD> <PAD> <PAD> <PAD> <PAD>\n",
            "Critica real: [0]\n",
            "Prediccion: [0.48417172]\n",
            "\n",
            "Secuencia: <START> i left the theater and i was only 10 years old that's how bad it <UNK> the plot was <UNK> and the acting was worse <UNK> <UNK> should be <UNK> of himself and so should the person who made this movie i was only 10 years old when i went to see this <UNK> with a friend and even at that young innocent age i did not laugh once at the movie we me and my friend still laugh about how bad the movie was we ended up going into the <UNK> movie my parents were in bottom line this flick was bad mr <UNK> more like mr <UNK> who this movie could have <UNK> me for life had i watched the popular cartoon on television as a child but <UNK> i had never seen it so i was <UNK> the <UNK> but i will never get back those <UNK> minutes of my life that i wasted <PAD> <PAD> <PAD> <PAD> <PAD> <PAD> <PAD> <PAD> <PAD> <PAD> <PAD> <PAD> <PAD> <PAD> <PAD> <PAD> <PAD> <PAD> <PAD> <PAD> <PAD> <PAD> <PAD> <PAD> <PAD> <PAD> <PAD> <PAD> <PAD> <PAD> <PAD> <PAD> <PAD> <PAD> <PAD> <PAD> <PAD> <PAD> <PAD> <PAD> <PAD>\n",
            "Critica real: [0]\n",
            "Prediccion: [0.48417172]\n",
            "\n",
            "Secuencia: <START> end of days starts off pretty well <UNK> plays a down and out cop a very similar character to <UNK> in <UNK> <UNK> and the story looks like a kind of serial killer action thriller that will be good entertainment br br sadly it fails to deliver <UNK> is as good as we we have come to expect but as for <UNK> <UNK> i expect him to <UNK> his roles more <UNK> than this cast as the <UNK> this is probably the <UNK> portrayal of the lord of <UNK> ever br br this movie gets a little too <UNK> for me and the end sequence aside from being very weak is <UNK> one of the worst i've seen in recent years cgi is have been better than this since the early <UNK> br br quite simply not good enough 4 10 watch it if you have too but don't expect too much cause it won't deliver <PAD> <PAD> <PAD> <PAD> <PAD> <PAD> <PAD> <PAD> <PAD> <PAD> <PAD> <PAD> <PAD> <PAD> <PAD> <PAD> <PAD> <PAD> <PAD> <PAD> <PAD> <PAD> <PAD> <PAD> <PAD> <PAD> <PAD> <PAD> <PAD> <PAD> <PAD> <PAD> <PAD> <PAD> <PAD> <PAD> <PAD> <PAD> <PAD> <PAD> <PAD> <PAD>\n",
            "Critica real: [0]\n",
            "Prediccion: [0.48417172]\n",
            "\n",
            "Secuencia: <START> this 8 minute gem is not only <UNK> but it is a cartoon <UNK> it is third cartoon and one of his best ones too it is a cartoon <UNK> because it was the first one with sound and my <UNK> even after <UNK> years it is ever so good and gives real <UNK> <UNK> to the narrative the black and white animation is excellent and the character features are convincing enough the music is wonderful i love the soundtrack it does add to the fun the cartoon has no matter how thin the story sometimes is and the cartoon is funny so many memorable moments like the <UNK> <UNK> being used as an <UNK> and its <UNK> as a <UNK> the characters are also engaging <UNK> and <UNK> two <UNK> disney characters are well <UNK> by <UNK> disney and <UNK> <UNK> well as the villain of the piece all in all <UNK> <UNK> is just a <UNK> gem that everybody should see at least once 10 10 <UNK> <UNK> <PAD> <PAD> <PAD> <PAD> <PAD> <PAD> <PAD> <PAD> <PAD> <PAD> <PAD> <PAD> <PAD> <PAD> <PAD> <PAD> <PAD> <PAD> <PAD> <PAD> <PAD> <PAD> <PAD> <PAD> <PAD> <PAD> <PAD> <PAD>\n",
            "Critica real: [1]\n",
            "Prediccion: [0.48417172]\n",
            "\n",
            "Secuencia: <START> ok who ever <UNK> this film <UNK> humanity and wants to see them all <UNK> their <UNK> this film was absolute and <UNK> <UNK> what the <UNK> was up with the weird old <UNK> eyes seriously was she on some sort of horrible drug and then she like just thought she could control people she was running around with her <UNK> evil eye and it was like what do i have a <UNK> <UNK> out of my <UNK> what are you <UNK> at are you like the <UNK> witch or something all and all though i thought the <UNK> were top <UNK> old <UNK> for that alone i would give it a ten but just cover your <UNK> when you are watching it the pure and complete evil that comes from that film will make your <UNK> <UNK> and your <UNK> fall off who knows you might even get a <UNK> in your small <UNK> you better watch out <UNK> <PAD> <PAD> <PAD> <PAD> <PAD> <PAD> <PAD> <PAD> <PAD> <PAD> <PAD> <PAD> <PAD> <PAD> <PAD> <PAD> <PAD> <PAD> <PAD> <PAD> <PAD> <PAD> <PAD> <PAD> <PAD> <PAD> <PAD> <PAD> <PAD> <PAD> <PAD> <PAD> <PAD> <PAD> <PAD> <PAD> <PAD> <PAD>\n",
            "Critica real: [1]\n",
            "Prediccion: [0.48417172]\n",
            "\n",
            "Secuencia: <START> this review contains a spoiler br br the movie is an american <UNK> <UNK> <UNK> in the martial arts he falls for the <UNK> daughter and turns from the most hated <UNK> on the post to the <UNK> hero at the end of the film this film is extremely cheesy and very poorly <UNK> it is good for folks who do not care about plot development or reality good for kids under <UNK> the military <UNK> in this film is <UNK> i remember during my three years in the military us <UNK> were not <UNK> to <UNK> or call <UNK> <UNK> the film does this in various <UNK> the <UNK> hair is way too long on the <UNK> the master <UNK> was against military <UNK> in length on the post the <UNK> was the only officer around not one other officer was shown walking around the post you had <UNK> <UNK> <UNK> against <UNK> with m rather poorly made br br folks this filmed <UNK> michael <UNK> is not really that bad of an actor he just has <UNK> <UNK> the <UNK> were more hilarious than dangerous avoid this film <PAD> <PAD> <PAD> <PAD> <PAD> <PAD> <PAD> <PAD>\n",
            "Critica real: [0]\n",
            "Prediccion: [0.4841709]\n",
            "\n",
            "Secuencia: <START> a bit too much <UNK> for me the cast was beautiful lovely to watch in all of the romantic scenes the <UNK> was beautiful with <UNK> and water it just was not convincing to me that such an <UNK> <UNK> <UNK> on nothing but his building could <UNK> so many beautiful <UNK> women only in the <UNK> i guess certainly in no world i am familiar with the <UNK> men were really <UNK> and i found it difficult to believe that the female characters could have anything to to with them for so long the screenplay cinematography directing etc was set up to deliver a class b film the central effort being on showing scenes of beautiful <UNK> female <UNK> it was <UNK> nice for a while but it could not <UNK> a very mediocre film <PAD> <PAD> <PAD> <PAD> <PAD> <PAD> <PAD> <PAD> <PAD> <PAD> <PAD> <PAD> <PAD> <PAD> <PAD> <PAD> <PAD> <PAD> <PAD> <PAD> <PAD> <PAD> <PAD> <PAD> <PAD> <PAD> <PAD> <PAD> <PAD> <PAD> <PAD> <PAD> <PAD> <PAD> <PAD> <PAD> <PAD> <PAD> <PAD> <PAD> <PAD> <PAD> <PAD> <PAD> <PAD> <PAD> <PAD> <PAD> <PAD> <PAD> <PAD> <PAD> <PAD> <PAD> <PAD> <PAD> <PAD> <PAD> <PAD> <PAD> <PAD> <PAD>\n",
            "Critica real: [0]\n",
            "Prediccion: [0.48417172]\n",
            "\n",
            "Secuencia: <START> as usual <UNK> <UNK> <UNK> as <UNK> <UNK> and the <UNK> boys are hard <UNK> for <UNK> after <UNK> trying to <UNK> their old <UNK> the <UNK> look for help at the local bank there <UNK> <UNK> <UNK> as has his picture taken by pretty <UNK> <UNK> as <UNK> smith but since the shot was <UNK> during a <UNK> it makes mr <UNK> look like the <UNK> suspect with <UNK> <UNK> <UNK> as <UNK> william billy <UNK> as <UNK> and david <UNK> as <UNK> mr <UNK> wants to clear <UNK> and <UNK> the 1 000 <UNK> money <UNK> <UNK> goes through the <UNK> with ms <UNK> a main <UNK> br br <UNK> <UNK> 7 20 <UNK> <UNK> <UNK> <UNK> <UNK> <UNK> <UNK> <UNK> <UNK> <PAD> <PAD> <PAD> <PAD> <PAD> <PAD> <PAD> <PAD> <PAD> <PAD> <PAD> <PAD> <PAD> <PAD> <PAD> <PAD> <PAD> <PAD> <PAD> <PAD> <PAD> <PAD> <PAD> <PAD> <PAD> <PAD> <PAD> <PAD> <PAD> <PAD> <PAD> <PAD> <PAD> <PAD> <PAD> <PAD> <PAD> <PAD> <PAD> <PAD> <PAD> <PAD> <PAD> <PAD> <PAD> <PAD> <PAD> <PAD> <PAD> <PAD> <PAD> <PAD> <PAD> <PAD> <PAD> <PAD> <PAD> <PAD> <PAD> <PAD> <PAD> <PAD> <PAD> <PAD> <PAD> <PAD> <PAD> <PAD> <PAD> <PAD> <PAD> <PAD> <PAD> <PAD>\n",
            "Critica real: [0]\n",
            "Prediccion: [0.48417172]\n",
            "\n",
            "Secuencia: <START> it is always great to see a movie that <UNK> us about history in <UNK> as they are definitely too few however the movie <UNK> as a political <UNK> who wanted the new independent country to be the same as the old <UNK> one i felt it hard to <UNK> with this kind of <UNK> yet the movie is somewhat like a <UNK> to the man there was too little content <UNK> how the man got to <UNK> in the first place and the whole <UNK> of <UNK> <UNK> them go so it is certainly worth going to see as the acting and photography are excellent especially himself i would just have liked a better political <UNK> <PAD> <PAD> <PAD> <PAD> <PAD> <PAD> <PAD> <PAD> <PAD> <PAD> <PAD> <PAD> <PAD> <PAD> <PAD> <PAD> <PAD> <PAD> <PAD> <PAD> <PAD> <PAD> <PAD> <PAD> <PAD> <PAD> <PAD> <PAD> <PAD> <PAD> <PAD> <PAD> <PAD> <PAD> <PAD> <PAD> <PAD> <PAD> <PAD> <PAD> <PAD> <PAD> <PAD> <PAD> <PAD> <PAD> <PAD> <PAD> <PAD> <PAD> <PAD> <PAD> <PAD> <PAD> <PAD> <PAD> <PAD> <PAD> <PAD> <PAD> <PAD> <PAD> <PAD> <PAD> <PAD> <PAD> <PAD> <PAD> <PAD> <PAD> <PAD> <PAD> <PAD> <PAD> <PAD> <PAD> <PAD> <PAD> <PAD> <PAD> <PAD>\n",
            "Critica real: [1]\n",
            "Prediccion: [0.48417172]\n",
            "\n",
            "Secuencia: <START> watch this movie just to see <UNK> <UNK> say i love you <UNK> <UNK> <UNK> it's both <UNK> and <UNK> at the same time when he says this from the beginning to the end this movie made him famous and i totally recommend it d it's highly entertaining the <UNK> <UNK> and you will laugh right along with <UNK> here you'll <UNK> feel scared for the hero and heroine and <UNK> enough you will <UNK> with at least one of the characters you will feel sad and happy and <UNK> and afraid at the same time go see this classic <UNK> movie with your good <UNK> and some lovely food and have a day in and after you see the movie have the songs and scenery playing in your mind forever <PAD> <PAD> <PAD> <PAD> <PAD> <PAD> <PAD> <PAD> <PAD> <PAD> <PAD> <PAD> <PAD> <PAD> <PAD> <PAD> <PAD> <PAD> <PAD> <PAD> <PAD> <PAD> <PAD> <PAD> <PAD> <PAD> <PAD> <PAD> <PAD> <PAD> <PAD> <PAD> <PAD> <PAD> <PAD> <PAD> <PAD> <PAD> <PAD> <PAD> <PAD> <PAD> <PAD> <PAD> <PAD> <PAD> <PAD> <PAD> <PAD> <PAD> <PAD> <PAD> <PAD> <PAD> <PAD> <PAD> <PAD> <PAD> <PAD> <PAD> <PAD> <PAD> <PAD> <PAD> <PAD> <PAD> <PAD>\n",
            "Critica real: [1]\n",
            "Prediccion: [0.48417172]\n",
            "\n",
            "Secuencia: <START> i just saw the big <UNK> in <UNK> <UNK> for the first time immediately i was <UNK> by both the pictures <UNK> high quality and unusual <UNK> and by its beautifully <UNK> story who has ever seen such a documentary style western with john <UNK> and there is so much time you can actually look around on the screen there is so much to see one is ever <UNK> that the scenes are often <UNK> because every single shot is so well <UNK> and you want to take it it even the acting is good and <UNK> in well the long running time of the picture is wonderful you don't want to miss a minute of it <PAD> <PAD> <PAD> <PAD> <PAD> <PAD> <PAD> <PAD> <PAD> <PAD> <PAD> <PAD> <PAD> <PAD> <PAD> <PAD> <PAD> <PAD> <PAD> <PAD> <PAD> <PAD> <PAD> <PAD> <PAD> <PAD> <PAD> <PAD> <PAD> <PAD> <PAD> <PAD> <PAD> <PAD> <PAD> <PAD> <PAD> <PAD> <PAD> <PAD> <PAD> <PAD> <PAD> <PAD> <PAD> <PAD> <PAD> <PAD> <PAD> <PAD> <PAD> <PAD> <PAD> <PAD> <PAD> <PAD> <PAD> <PAD> <PAD> <PAD> <PAD> <PAD> <PAD> <PAD> <PAD> <PAD> <PAD> <PAD> <PAD> <PAD> <PAD> <PAD> <PAD> <PAD> <PAD> <PAD> <PAD> <PAD> <PAD> <PAD> <PAD>\n",
            "Critica real: [1]\n",
            "Prediccion: [0.48417172]\n",
            "\n",
            "Secuencia: <START> this movie is way too long i lost interest about one hour into the story <UNK> <UNK> tells the story of <UNK> <UNK> who is an the child of a <UNK> new <UNK> man and his <UNK> after her mother dies in paris <UNK> comes back to new <UNK> to her <UNK> <UNK> family and to <UNK> them she meets gary <UNK> who is <UNK> <UNK> revenge against the <UNK> <UNK> who <UNK> his father out of his land in <UNK> she <UNK> him into her <UNK> and the movie <UNK> at a <UNK> <UNK> long and boring but worth watching if you are a <UNK> or <UNK> fan the <UNK> provides the only bright spot in this <UNK> story <PAD> <PAD> <PAD> <PAD> <PAD> <PAD> <PAD> <PAD> <PAD> <PAD> <PAD> <PAD> <PAD> <PAD> <PAD> <PAD> <PAD> <PAD> <PAD> <PAD> <PAD> <PAD> <PAD> <PAD> <PAD> <PAD> <PAD> <PAD> <PAD> <PAD> <PAD> <PAD> <PAD> <PAD> <PAD> <PAD> <PAD> <PAD> <PAD> <PAD> <PAD> <PAD> <PAD> <PAD> <PAD> <PAD> <PAD> <PAD> <PAD> <PAD> <PAD> <PAD> <PAD> <PAD> <PAD> <PAD> <PAD> <PAD> <PAD> <PAD> <PAD> <PAD> <PAD> <PAD> <PAD> <PAD> <PAD> <PAD> <PAD> <PAD> <PAD> <PAD> <PAD> <PAD> <PAD> <PAD> <PAD> <PAD>\n",
            "Critica real: [0]\n",
            "Prediccion: [0.48417172]\n",
            "\n",
            "Secuencia: <START> this movie is a absolute masterpiece and <UNK> has all the <UNK> sex car <UNK> <UNK> and a <UNK> monster that <UNK> always wanted but never got this is <UNK> classic <UNK> <UNK> style <UNK> and <UNK> is about two <UNK> <UNK> named the and the non of the <UNK> ever got along ever since <UNK> <UNK> father <UNK> <UNK> <UNK> father in the <UNK> business two <UNK> <UNK> <UNK> apart until <UNK> and <UNK> find true love together and when each side hear of this blood <UNK> is the least that happens yes <UNK> and <UNK> is the <UNK> classic <UNK> by fans world wide <UNK> harry <UNK> the <UNK> monster first feature film and also has first <UNK> appearance what are you waiting for now go out and rent the movie br br 10 10 br br <PAD> <PAD> <PAD> <PAD> <PAD> <PAD> <PAD> <PAD> <PAD> <PAD> <PAD> <PAD> <PAD> <PAD> <PAD> <PAD> <PAD> <PAD> <PAD> <PAD> <PAD> <PAD> <PAD> <PAD> <PAD> <PAD> <PAD> <PAD> <PAD> <PAD> <PAD> <PAD> <PAD> <PAD> <PAD> <PAD> <PAD> <PAD> <PAD> <PAD> <PAD> <PAD> <PAD> <PAD> <PAD> <PAD> <PAD> <PAD> <PAD> <PAD> <PAD> <PAD> <PAD> <PAD> <PAD> <PAD> <PAD> <PAD> <PAD>\n",
            "Critica real: [1]\n",
            "Prediccion: [0.48417172]\n",
            "\n",
            "Secuencia: <START> i too was <UNK> enough to see <UNK> out with peter <UNK> at the <UNK> film festival this is an extremely sweet character <UNK> film that leaves the audience <UNK> in the <UNK> in life more than funny each character in the family <UNK> <UNK> comic <UNK> that not only <UNK> <UNK> but <UNK> a few <UNK> tears as well peter <UNK> was born to play this role he plays a <UNK> young father of three who brings his adult children together in what could possibly be one of the most important times in his and their lives the 2 day journey that the family takes though the delightful <UNK> of new york with <UNK> <UNK> characters not only leaves the audience wanting more but <UNK> ones own sense of family <UNK> out is a must see film not only for all those who <UNK> family but also all those who don't my thanks to the director who took the chance to bring this <UNK> to its audience <UNK> <UNK> <UNK> <UNK> <PAD> <PAD> <PAD> <PAD> <PAD> <PAD> <PAD> <PAD> <PAD> <PAD> <PAD> <PAD> <PAD> <PAD> <PAD> <PAD> <PAD> <PAD> <PAD> <PAD> <PAD> <PAD> <PAD> <PAD> <PAD> <PAD>\n",
            "Critica real: [1]\n",
            "Prediccion: [0.48417172]\n",
            "\n",
            "Secuencia: <START> the thing which makes fire even more <UNK> to watch apart from its <UNK> <UNK> is its touch of and <UNK> to my mind the very character played by <UNK> <UNK> is a <UNK> of the indian <UNK> <UNK> against the indian society the name of the movie and the scene when <UNK> <UNK> through <UNK> in her <UNK> are of <UNK> lord wife walking through fire for the <UNK> of her as <UNK> the same narrative which appears in the film too the film could be a great <UNK> for women particularly those in the to search for their <UNK> and to <UNK> control of their lives <PAD> <PAD> <PAD> <PAD> <PAD> <PAD> <PAD> <PAD> <PAD> <PAD> <PAD> <PAD> <PAD> <PAD> <PAD> <PAD> <PAD> <PAD> <PAD> <PAD> <PAD> <PAD> <PAD> <PAD> <PAD> <PAD> <PAD> <PAD> <PAD> <PAD> <PAD> <PAD> <PAD> <PAD> <PAD> <PAD> <PAD> <PAD> <PAD> <PAD> <PAD> <PAD> <PAD> <PAD> <PAD> <PAD> <PAD> <PAD> <PAD> <PAD> <PAD> <PAD> <PAD> <PAD> <PAD> <PAD> <PAD> <PAD> <PAD> <PAD> <PAD> <PAD> <PAD> <PAD> <PAD> <PAD> <PAD> <PAD> <PAD> <PAD> <PAD> <PAD> <PAD> <PAD> <PAD> <PAD> <PAD> <PAD> <PAD> <PAD> <PAD> <PAD> <PAD> <PAD> <PAD> <PAD> <PAD> <PAD> <PAD> <PAD>\n",
            "Critica real: [1]\n",
            "Prediccion: [0.48417172]\n",
            "\n",
            "Secuencia: <START> i am a music lover and was <UNK> to see this movie unfortunately i was disappointed i was ready to walk out half way through the movie i didn't <UNK> with any of the characters which meant that i didn't care what happened to them and lost interest in the story completely on the good side ed <UNK> looked exactly like <UNK> and the <UNK> <UNK> is always a pleasure to hear so that made part of the film <UNK> also the parts where they talk about the <UNK> almost <UNK> the entire movie but it couldn't <UNK> me through to the end the actors did what they could with what they had to work with but the screenplay just wasn't <UNK> to make it even <UNK> interesting the bit about <UNK> me was <UNK> rubbish i wonder how many takes the actors had to do on that one i wouldn't be able to say those lines without <UNK> into <UNK> anyway such a shame it could have been so much better <PAD> <PAD> <PAD> <PAD> <PAD> <PAD> <PAD> <PAD> <PAD> <PAD> <PAD> <PAD> <PAD> <PAD> <PAD> <PAD> <PAD> <PAD> <PAD> <PAD> <PAD> <PAD> <PAD> <PAD> <PAD> <PAD>\n",
            "Critica real: [0]\n",
            "Prediccion: [0.48417172]\n",
            "\n",
            "Secuencia: <START> <UNK> takes on the complex question of <UNK> the <UNK> and the victims in <UNK> hands it would have <UNK> into an <UNK> thriller made for direct to video this director however has managed to pull off a <UNK> <UNK> <UNK> <UNK> with a <UNK> different point of view br br given the fact that the director writer is a woman and the main detective and d a are also women this could have turned into a very anti male film it is not to be a sexual <UNK> is <UNK> <UNK> the nudity of this film is not <UNK> the rape is brutal not sexual we are looking at victims and not <UNK> br br the <UNK> cast <UNK> true for a film that is so little known i was surprised at the quality of the performances they are good <UNK> and are incredible br br somehow this film got lost perhaps it is too smart for its own good it is a should see highly recommend a thinking <UNK> sexual thriller <PAD> <PAD> <PAD> <PAD> <PAD> <PAD> <PAD> <PAD> <PAD> <PAD> <PAD> <PAD> <PAD> <PAD> <PAD> <PAD> <PAD> <PAD> <PAD> <PAD> <PAD> <PAD> <PAD> <PAD> <PAD>\n",
            "Critica real: [1]\n",
            "Prediccion: [0.48417178]\n",
            "\n",
            "Secuencia: <START> a <UNK> soldier kills a man for being <UNK> and tries to <UNK> it on a fellow soldier not as good as the novel it was based on the <UNK> <UNK> in which it was a gay man who was killed but hollywood wouldn't touch that in <UNK> that said it's still a very good film the anti <UNK> is <UNK> very well but it's <UNK> into the audience that <UNK> is bad well <UNK> but this was <UNK> the picture is well acted by the entire cast especially robert young and robert <UNK> and the tone is very dark as it should be very <UNK> too a deserved big hit in its day well worth seeing <PAD> <PAD> <PAD> <PAD> <PAD> <PAD> <PAD> <PAD> <PAD> <PAD> <PAD> <PAD> <PAD> <PAD> <PAD> <PAD> <PAD> <PAD> <PAD> <PAD> <PAD> <PAD> <PAD> <PAD> <PAD> <PAD> <PAD> <PAD> <PAD> <PAD> <PAD> <PAD> <PAD> <PAD> <PAD> <PAD> <PAD> <PAD> <PAD> <PAD> <PAD> <PAD> <PAD> <PAD> <PAD> <PAD> <PAD> <PAD> <PAD> <PAD> <PAD> <PAD> <PAD> <PAD> <PAD> <PAD> <PAD> <PAD> <PAD> <PAD> <PAD> <PAD> <PAD> <PAD> <PAD> <PAD> <PAD> <PAD> <PAD> <PAD> <PAD> <PAD> <PAD> <PAD> <PAD> <PAD> <PAD> <PAD> <PAD> <PAD> <PAD>\n",
            "Critica real: [1]\n",
            "Prediccion: [0.48417172]\n",
            "\n",
            "Secuencia: <START> i have been looking for this <UNK> series for a very long time i saw this movie when i was living in back in <UNK> many years ago i'm curious if somebody who has the <UNK> copy of this movie can <UNK> me the copy i'm willing to cover all the <UNK> and pay for the extra <UNK> or <UNK> this is one of the best tv series that i have ever watched i would recommend it to anybody who is somewhat interested in <UNK> history and world history after <UNK> i'm also trying to find a book i have heard that its even better than the movie however the new one <UNK> around 50 on <UNK> and i have never <UNK> a used copy my e <UNK> <UNK> is <UNK> <UNK> thank you very much for you help <PAD> <PAD> <PAD> <PAD> <PAD> <PAD> <PAD> <PAD> <PAD> <PAD> <PAD> <PAD> <PAD> <PAD> <PAD> <PAD> <PAD> <PAD> <PAD> <PAD> <PAD> <PAD> <PAD> <PAD> <PAD> <PAD> <PAD> <PAD> <PAD> <PAD> <PAD> <PAD> <PAD> <PAD> <PAD> <PAD> <PAD> <PAD> <PAD> <PAD> <PAD> <PAD> <PAD> <PAD> <PAD> <PAD> <PAD> <PAD> <PAD> <PAD> <PAD> <PAD> <PAD> <PAD> <PAD> <PAD> <PAD> <PAD> <PAD>\n",
            "Critica real: [1]\n",
            "Prediccion: [0.48417172]\n",
            "\n",
            "Secuencia: <START> sadly this movie did have potential with such a willing cast but everything was so poorly thought out and poorly <UNK> i don't think i've ever seen any film where every scene just falls flat with a loud <UNK> as it did here also i don't think i've ever seen a <UNK> sex comedy that didn't provide at least one laugh but this <UNK> of pain <UNK> nothing but <UNK> and <UNK> the last time i was this <UNK> at how <UNK> funny a comedy can be was with the awful big <UNK> house scene after scene these movies will turn your brain into <UNK> silly and stupid can sometimes be funny but here silly and stupid are used as a torture <UNK> against the viewer an absolute rock bottom <UNK> <PAD> <PAD> <PAD> <PAD> <PAD> <PAD> <PAD> <PAD> <PAD> <PAD> <PAD> <PAD> <PAD> <PAD> <PAD> <PAD> <PAD> <PAD> <PAD> <PAD> <PAD> <PAD> <PAD> <PAD> <PAD> <PAD> <PAD> <PAD> <PAD> <PAD> <PAD> <PAD> <PAD> <PAD> <PAD> <PAD> <PAD> <PAD> <PAD> <PAD> <PAD> <PAD> <PAD> <PAD> <PAD> <PAD> <PAD> <PAD> <PAD> <PAD> <PAD> <PAD> <PAD> <PAD> <PAD> <PAD> <PAD> <PAD> <PAD> <PAD> <PAD> <PAD> <PAD> <PAD> <PAD> <PAD> <PAD>\n",
            "Critica real: [0]\n",
            "Prediccion: [0.48417172]\n",
            "\n",
            "Secuencia: <START> critics and audiences both pretty much <UNK> this movie but i actually didn't think it was too bad even the critics i normally agree with thought it was crap and i normally <UNK> <UNK> <UNK> horror films so this means one of two things either 1 i'm too easily <UNK> and my taste in movies has <UNK> over the years or 2 <UNK> a <UNK> <UNK> isn't nearly as horrible as it's made out to be now to be fair some of the <UNK> of the movie are true there's not much character development and not much happens in the story but man alive folks how much were you expecting from a movie about a <UNK> being <UNK> cut them some <UNK> as a former <UNK> who was watching this flick late at night with the <UNK> out i can <UNK> say the <UNK> <UNK> was one creepy <UNK> who knows i guess stuff like this just gives me the <UNK> br br yes i admit i had fun watching this and i don't care how big of a <UNK> that puts me in <PAD> <PAD> <PAD> <PAD> <PAD> <PAD> <PAD> <PAD> <PAD> <PAD> <PAD> <PAD> <PAD> <PAD>\n",
            "Critica real: [1]\n",
            "Prediccion: [0.4841716]\n",
            "\n",
            "Secuencia: <START> if one wants to have a character in a movie have a disturbing sexual <UNK> that would shame that character in later life the only thing left that an audience would see as <UNK> was <UNK> and now it has been done <UNK> by some of the other comments even that did not <UNK> that well i cannot remember one funny scene though i have to admit i had to turn it off before it was finished i did watch a part of the <UNK> commentary and it appears he was as surprised as anyone that the movie was doing well if you want to get the same feeling you get from this movie but only <UNK> stick your head in a <UNK> of <UNK> and <UNK> deeply <PAD> <PAD> <PAD> <PAD> <PAD> <PAD> <PAD> <PAD> <PAD> <PAD> <PAD> <PAD> <PAD> <PAD> <PAD> <PAD> <PAD> <PAD> <PAD> <PAD> <PAD> <PAD> <PAD> <PAD> <PAD> <PAD> <PAD> <PAD> <PAD> <PAD> <PAD> <PAD> <PAD> <PAD> <PAD> <PAD> <PAD> <PAD> <PAD> <PAD> <PAD> <PAD> <PAD> <PAD> <PAD> <PAD> <PAD> <PAD> <PAD> <PAD> <PAD> <PAD> <PAD> <PAD> <PAD> <PAD> <PAD> <PAD> <PAD> <PAD> <PAD> <PAD> <PAD> <PAD> <PAD> <PAD> <PAD> <PAD> <PAD> <PAD>\n",
            "Critica real: [0]\n",
            "Prediccion: [0.48417172]\n",
            "\n",
            "Secuencia: <START> i wasn't surprised to read a comment by the director to the effect that she made this film as an <UNK> to all those making of dvd <UNK> as that certainly <UNK> me i do <UNK> that i have a <UNK> for <UNK> but i found this film to be very <UNK> and entertaining and not even in a <UNK> self <UNK> clever way which is certainly a bit of what you expect in a film about film making it is very french in that there are a great deal of <UNK> yet <UNK> compelling <UNK> about how film making and even <UNK> works but since the director doesn't quite play herself using an <UNK> instead we're left with a lot of <UNK> since i'm pretty sure she's constantly <UNK> herself apparently <UNK> <UNK> in hard to watch films but i'd definitely say this one doesn't <UNK> i really enjoyed the dialog the <UNK> between the cinematic and the natural the relationships between the director character and her <UNK> and actor and so on highly recommended <PAD> <PAD> <PAD> <PAD> <PAD> <PAD> <PAD> <PAD> <PAD> <PAD> <PAD> <PAD> <PAD> <PAD> <PAD> <PAD> <PAD> <PAD> <PAD> <PAD> <PAD> <PAD>\n",
            "Critica real: [1]\n",
            "Prediccion: [0.48417172]\n",
            "\n",
            "Secuencia: <START> nothing but the <UNK> a <UNK> one for those who have known the <UNK> but well quite boring for those who are not interested in it no screenplay in this film but a hero <UNK> in an <UNK> new york full of and night <UNK> it is <UNK> pointless and <UNK> but not entirely <UNK> <PAD> <PAD> <PAD> <PAD> <PAD> <PAD> <PAD> <PAD> <PAD> <PAD> <PAD> <PAD> <PAD> <PAD> <PAD> <PAD> <PAD> <PAD> <PAD> <PAD> <PAD> <PAD> <PAD> <PAD> <PAD> <PAD> <PAD> <PAD> <PAD> <PAD> <PAD> <PAD> <PAD> <PAD> <PAD> <PAD> <PAD> <PAD> <PAD> <PAD> <PAD> <PAD> <PAD> <PAD> <PAD> <PAD> <PAD> <PAD> <PAD> <PAD> <PAD> <PAD> <PAD> <PAD> <PAD> <PAD> <PAD> <PAD> <PAD> <PAD> <PAD> <PAD> <PAD> <PAD> <PAD> <PAD> <PAD> <PAD> <PAD> <PAD> <PAD> <PAD> <PAD> <PAD> <PAD> <PAD> <PAD> <PAD> <PAD> <PAD> <PAD> <PAD> <PAD> <PAD> <PAD> <PAD> <PAD> <PAD> <PAD> <PAD> <PAD> <PAD> <PAD> <PAD> <PAD> <PAD> <PAD> <PAD> <PAD> <PAD> <PAD> <PAD> <PAD> <PAD> <PAD> <PAD> <PAD> <PAD> <PAD> <PAD> <PAD> <PAD> <PAD> <PAD> <PAD> <PAD> <PAD> <PAD> <PAD> <PAD> <PAD> <PAD> <PAD> <PAD> <PAD> <PAD> <PAD> <PAD> <PAD> <PAD> <PAD> <PAD> <PAD> <PAD> <PAD> <PAD> <PAD> <PAD> <PAD> <PAD> <PAD> <PAD> <PAD>\n",
            "Critica real: [0]\n",
            "Prediccion: [0.48417172]\n",
            "\n",
            "Secuencia: <START> after sitting through the <UNK> that was the first dark <UNK> movie i couldn't leave bad enough alone upon seeing that there was a sequel or rather what i <UNK> to be a sequel i had to <UNK> my pain level seeing that this had nothing to do with dark <UNK> that should have been a good thing we didn't get any killer <UNK> in this one instead we got a <UNK> walking around a <UNK> screaming out little things like girls and can you hear me every so often plus we got two four if you include the two girls that the director wanted the same effect as the <UNK> in the <UNK> <UNK> little girls who couldn't act and the <UNK> on top of this mess would have to be the <UNK> cop i should have known this movie was going to be terrible when the dog got an opening credit how i managed to stay <UNK> through this movie i'll never know <PAD> <PAD> <PAD> <PAD> <PAD> <PAD> <PAD> <PAD> <PAD> <PAD> <PAD> <PAD> <PAD> <PAD> <PAD> <PAD> <PAD> <PAD> <PAD> <PAD> <PAD> <PAD> <PAD> <PAD> <PAD> <PAD> <PAD> <PAD> <PAD> <PAD> <PAD> <PAD> <PAD>\n",
            "Critica real: [0]\n",
            "Prediccion: [0.48417172]\n",
            "\n",
            "Secuencia: <START> as an adventure <UNK> series this is about as good as it gets i <UNK> it when it was originally shown on <UNK> <UNK> is totally believable in her role as <UNK> and the whole production was first rate see all <UNK> minutes of it if you can i highly recommend this <UNK> series amazing that i can't rate it <UNK> but for you <UNK> <UNK> i will let you know it's a solid 10 <PAD> <PAD> <PAD> <PAD> <PAD> <PAD> <PAD> <PAD> <PAD> <PAD> <PAD> <PAD> <PAD> <PAD> <PAD> <PAD> <PAD> <PAD> <PAD> <PAD> <PAD> <PAD> <PAD> <PAD> <PAD> <PAD> <PAD> <PAD> <PAD> <PAD> <PAD> <PAD> <PAD> <PAD> <PAD> <PAD> <PAD> <PAD> <PAD> <PAD> <PAD> <PAD> <PAD> <PAD> <PAD> <PAD> <PAD> <PAD> <PAD> <PAD> <PAD> <PAD> <PAD> <PAD> <PAD> <PAD> <PAD> <PAD> <PAD> <PAD> <PAD> <PAD> <PAD> <PAD> <PAD> <PAD> <PAD> <PAD> <PAD> <PAD> <PAD> <PAD> <PAD> <PAD> <PAD> <PAD> <PAD> <PAD> <PAD> <PAD> <PAD> <PAD> <PAD> <PAD> <PAD> <PAD> <PAD> <PAD> <PAD> <PAD> <PAD> <PAD> <PAD> <PAD> <PAD> <PAD> <PAD> <PAD> <PAD> <PAD> <PAD> <PAD> <PAD> <PAD> <PAD> <PAD> <PAD> <PAD> <PAD> <PAD> <PAD> <PAD> <PAD> <PAD> <PAD> <PAD> <PAD> <PAD> <PAD> <PAD> <PAD> <PAD> <PAD>\n",
            "Critica real: [1]\n",
            "Prediccion: [0.48417172]\n",
            "\n",
            "Secuencia: <START> this movie i've seen many times i read the book which was written by who received the <UNK> book <UNK> for the work the movie does not start on the same place as the book starts it happens in and the main character is young and having a good life with his girlfriend but as she <UNK> up the relationship with him he starts to get some <UNK> which make him <UNK> and angry and soon he starts to have big mental problems and then the movie begins soon he is in the <UNK> mental hospital called and there you get to see some great characters like <UNK> who thinks he is <UNK> and who thinks that he <UNK> all the the <UNK> songs and <UNK> them to them with mind <UNK> e who has the role of the main character does is so work so well that it leaves you <UNK> also the music in this movie is mad by and just for the <UNK> <UNK> you should see the movie overall a great movie meant to be seen <PAD> <PAD> <PAD> <PAD> <PAD> <PAD> <PAD> <PAD> <PAD> <PAD> <PAD> <PAD> <PAD> <PAD> <PAD> <PAD> <PAD> <PAD>\n",
            "Critica real: [1]\n",
            "Prediccion: [0.48417166]\n",
            "\n",
            "Secuencia: <START> i agree with the comments <UNK> the <UNK> <UNK> the last view shows have been a little better but surely the writers need some more direction i think the characters are still interesting although sometimes they <UNK> into the white trash things a little too much <UNK> and <UNK> goes a long way on shows like office i would think the <UNK> audience is somewhat similar being they are both on the same night and <UNK> one would think that <UNK> and the whole <UNK> <UNK> thing is a big enough <UNK> to bring some different and interesting shows but they only <UNK> the <UNK> of the subject in my opinion it shows the <UNK> that many people have in hollywood about the level of intelligence of the <UNK> we can <UNK> more <UNK> content it has been <UNK> before in many other shows <PAD> <PAD> <PAD> <PAD> <PAD> <PAD> <PAD> <PAD> <PAD> <PAD> <PAD> <PAD> <PAD> <PAD> <PAD> <PAD> <PAD> <PAD> <PAD> <PAD> <PAD> <PAD> <PAD> <PAD> <PAD> <PAD> <PAD> <PAD> <PAD> <PAD> <PAD> <PAD> <PAD> <PAD> <PAD> <PAD> <PAD> <PAD> <PAD> <PAD> <PAD> <PAD> <PAD> <PAD> <PAD> <PAD> <PAD> <PAD> <PAD> <PAD> <PAD> <PAD> <PAD> <PAD>\n",
            "Critica real: [0]\n",
            "Prediccion: [0.48417172]\n",
            "\n",
            "Secuencia: <START> an incredible performance this is one of the best films i have seen ever i know this is being said a lot but i <UNK> you will not <UNK> watching this film br br it's great from the very beginning to the last second the acting of especially the mother played by <UNK> light is so convincing there are not many other films i've seen that could compare to it and it seems it's impossible not to feel anything for the people in this drama br br there are lots and lots of movies made every year but if you have to <UNK> just to see a few in your life make this one of them <PAD> <PAD> <PAD> <PAD> <PAD> <PAD> <PAD> <PAD> <PAD> <PAD> <PAD> <PAD> <PAD> <PAD> <PAD> <PAD> <PAD> <PAD> <PAD> <PAD> <PAD> <PAD> <PAD> <PAD> <PAD> <PAD> <PAD> <PAD> <PAD> <PAD> <PAD> <PAD> <PAD> <PAD> <PAD> <PAD> <PAD> <PAD> <PAD> <PAD> <PAD> <PAD> <PAD> <PAD> <PAD> <PAD> <PAD> <PAD> <PAD> <PAD> <PAD> <PAD> <PAD> <PAD> <PAD> <PAD> <PAD> <PAD> <PAD> <PAD> <PAD> <PAD> <PAD> <PAD> <PAD> <PAD> <PAD> <PAD> <PAD> <PAD> <PAD> <PAD> <PAD> <PAD> <PAD> <PAD> <PAD> <PAD> <PAD> <PAD> <PAD> <PAD>\n",
            "Critica real: [1]\n",
            "Prediccion: [0.48417172]\n",
            "\n",
            "Secuencia: <START> terrible absolutely terrible long confusing and <UNK> after about three hours of this painful mess the ending truly is the final <UNK> in the <UNK> not even the <UNK> sexy beautiful <UNK> <UNK> <UNK> can save this poor adaptation of <UNK> <UNK> work the plot <UNK> and <UNK> and time goes by slowly and suddenly you realize that you don't even have any idea of what's going on anymore by the end even with the usual explanation by the villain there's still a lot that's left <UNK> and <UNK> it's over a complete waste of time and without a doubt one of the worst to <UNK> the name of <UNK> <UNK> <PAD> <PAD> <PAD> <PAD> <PAD> <PAD> <PAD> <PAD> <PAD> <PAD> <PAD> <PAD> <PAD> <PAD> <PAD> <PAD> <PAD> <PAD> <PAD> <PAD> <PAD> <PAD> <PAD> <PAD> <PAD> <PAD> <PAD> <PAD> <PAD> <PAD> <PAD> <PAD> <PAD> <PAD> <PAD> <PAD> <PAD> <PAD> <PAD> <PAD> <PAD> <PAD> <PAD> <PAD> <PAD> <PAD> <PAD> <PAD> <PAD> <PAD> <PAD> <PAD> <PAD> <PAD> <PAD> <PAD> <PAD> <PAD> <PAD> <PAD> <PAD> <PAD> <PAD> <PAD> <PAD> <PAD> <PAD> <PAD> <PAD> <PAD> <PAD> <PAD> <PAD> <PAD> <PAD> <PAD> <PAD> <PAD> <PAD> <PAD> <PAD> <PAD> <PAD> <PAD> <PAD> <PAD> <PAD>\n",
            "Critica real: [0]\n",
            "Prediccion: [0.48417172]\n",
            "\n",
            "Secuencia: <START> what a sad surprise br br being a die hard fan of the original series starring don <UNK> i was really looking forward to this poor <UNK> me this is <UNK> and more brain dead than a <UNK> bottom br br to say it was bad would be a <UNK> <UNK> it is was the worst movie well first 30 minutes of one i have seen for a long time i couldn't stand more than the first half hour <UNK> to watch my hard drive de <UNK> br br i can <UNK> bad bad is o <UNK> sometimes even cute but up with <UNK> hollywood crap and this has to be the worst in many years i will not put this movie is a <UNK> <UNK> to the <UNK> intelligence of humanity my five year old daughter could have written better and she is not even i'm really <UNK> to try watching the rest of it but i'm afraid i have better things to do like making <UNK> <UNK> and watching it <UNK> br br what a sad disappointment no i'm off what a <UNK> as <UNK> once said piece of <UNK> <PAD> <PAD> <PAD> <PAD> <PAD> <PAD>\n",
            "Critica real: [0]\n",
            "Prediccion: [0.48417172]\n",
            "\n"
          ]
        }
      ]
    },
    {
      "cell_type": "markdown",
      "metadata": {
        "id": "VC1bZW2WP9li"
      },
      "source": [
        "Por último, vamos a realizar predicciones sobre secuencias creadas *manualmente* por nosotros."
      ]
    },
    {
      "cell_type": "code",
      "metadata": {
        "id": "UARy9K3ae1_u",
        "colab": {
          "base_uri": "https://localhost:8080/"
        },
        "outputId": "0cfc839d-c5b0-4e75-a62b-f1ca6530e859"
      },
      "source": [
        "import numpy as np\n",
        "\n",
        "\n",
        "def predecir(secuencia):\n",
        "  x = np.zeros((1, len(secuencia)), dtype=np.int32)\n",
        "\n",
        "  for idx_p, palabra in enumerate(secuencia):\n",
        "    x[0][idx_p] = word_to_int[palabra]\n",
        "\n",
        "  prediccion = model.predict(x, verbose=0)[0]\n",
        "\n",
        "  print('Crítica: {}'.format(secuencia))\n",
        "  print('Predicción: {}'.format(prediccion))\n",
        "  print()\n",
        "\n",
        "\n",
        "predecir(['the', 'movie', 'is', 'the', 'best', 'ever'])\n",
        "predecir(['the', 'movie', 'is', 'awful'])\n",
        "predecir(['the', 'movie', 'is', '<UNK>'])"
      ],
      "execution_count": 57,
      "outputs": [
        {
          "output_type": "stream",
          "name": "stdout",
          "text": [
            "Crítica: ['the', 'movie', 'is', 'the', 'best', 'ever']\n",
            "Predicción: [0.41724437]\n",
            "\n",
            "Crítica: ['the', 'movie', 'is', 'awful']\n",
            "Predicción: [0.45106542]\n",
            "\n",
            "Crítica: ['the', 'movie', 'is', '<UNK>']\n",
            "Predicción: [0.19196399]\n",
            "\n"
          ]
        }
      ]
    }
  ]
}