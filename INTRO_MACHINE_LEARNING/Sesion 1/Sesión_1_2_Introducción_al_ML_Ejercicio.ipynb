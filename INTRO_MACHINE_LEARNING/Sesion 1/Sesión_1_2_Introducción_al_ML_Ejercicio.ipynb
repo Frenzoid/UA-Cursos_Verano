{
  "cells": [
    {
      "attachments": {},
      "cell_type": "markdown",
      "metadata": {
        "id": "nlb2RUKZ0bsc"
      },
      "source": [
        "# Ejercicio\n",
        "\n",
        "Aplica el algoritmo [k-means de Sklearn](https://scikit-learn.org/stable/modules/generated/sklearn.cluster.KMeans.html) a la siguiente imagen para reducir su número de colores a 2.\n",
        "\n",
        "<br>"
      ]
    },
    {
      "cell_type": "code",
      "execution_count": null,
      "metadata": {
        "id": "x4nvE3fa0V62"
      },
      "outputs": [],
      "source": [
        "from sklearn.datasets import load_sample_image\n",
        "import matplotlib.pyplot as plt\n",
        "\n",
        "imagen = load_sample_image(\"flower.jpg\")\n",
        "\n",
        "plt.imshow(imagen)\n",
        "plt.axis(\"off\")\n",
        "plt.show()\n"
      ]
    },
    {
      "attachments": {},
      "cell_type": "markdown",
      "metadata": {
        "id": "5S9O37Yy1Wnm"
      },
      "source": [
        "\n",
        "<br>\n",
        "\n",
        "Solución:\n",
        "\n",
        "<br>"
      ]
    },
    {
      "cell_type": "code",
      "execution_count": null,
      "metadata": {
        "id": "tLykySeg1ZsI"
      },
      "outputs": [],
      "source": [
        "from sklearn.datasets import load_sample_image\n",
        "from sklearn.cluster import KMeans\n",
        "import numpy as np\n",
        "import matplotlib.pyplot as plt\n",
        "\n",
        "# Cargamos la imagen\n",
        "imagen = load_sample_image(\"flower.jpg\")\n",
        "\n",
        "# Vemos la imagen original\n",
        "plt.figure(figsize=(6,6))\n",
        "plt.imshow(imagen)\n",
        "plt.axis(\"off\")\n",
        "plt.title('Imagen original')\n",
        "plt.show()\n",
        "\n",
        "# Transformamos la imagen en un array 2D para poder aplicar el algoritmo de k-means\n",
        "# Guardamos las dimensiones originales para reconstruir la imagen después\n",
        "ancho, largo, _ = imagen.shape\n",
        "imagen_2d = np.reshape(imagen, (ancho * largo, 3))\n",
        "\n",
        "# Aplicamos k-means para encontrar los 2 colores más representativos\n",
        "kmeans = KMeans(n_clusters=2, random_state=42)\n",
        "kmeans.fit(imagen_2d)\n",
        "\n",
        "# Sustituimos cada pixel por el color del centroide más cercano\n",
        "imagen_procesada = kmeans.cluster_centers_[kmeans.labels_]\n",
        "imagen_procesada = np.clip(imagen_procesada.astype('uint8'), 0, 255)\n",
        "\n",
        "# Volvemos a darle forma a la imagen\n",
        "imagen_procesada = np.reshape(imagen_procesada, (ancho, largo, 3))\n",
        "\n",
        "# Mostramos la imagen procesada\n",
        "plt.figure(figsize=(6,6))\n",
        "plt.imshow(imagen_procesada)\n",
        "plt.axis(\"off\")\n",
        "plt.title('Imagen procesada')\n",
        "plt.show()"
      ]
    }
  ],
  "metadata": {
    "colab": {
      "provenance": []
    },
    "kernelspec": {
      "display_name": "Python 3",
      "name": "python3"
    },
    "language_info": {
      "name": "python"
    }
  },
  "nbformat": 4,
  "nbformat_minor": 0
}
