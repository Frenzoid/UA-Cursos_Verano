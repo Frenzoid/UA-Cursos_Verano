{
  "cells": [
    {
      "attachments": {},
      "cell_type": "markdown",
      "metadata": {
        "id": "locNBXslueSp"
      },
      "source": [
        "# Ejercicio con la base de datos MNIST\n",
        "\n",
        "En este ejercicio se pide que cargues la base de datos [MNIST](https://en.wikipedia.org/wiki/MNIST_database) y que escribas código para realizar las siguientes tareas:\n",
        "\n",
        "1. Muestra:\n",
        "  - la forma de los datos y las etiquetas.\n",
        "  - la primera etiqueta y las características de la primera muestra.\n",
        "\n",
        "2. Usando Numpy crea la partición de entrenamiento con el 80% de los datos y la de test con el resto.\n",
        "   - Muestra la forma de los datos de cada partición.\n",
        "   - Muestra la distribución de los datos (número de muestras por clase) en ambas particiones\n",
        "\n",
        "3. Crea las particiones (80% train, 20% test) usando la función `train_test_split` de Sklearn con la opción de estratificar los datos.\n",
        "   - Muestra la forma de los datos de cada partición.\n",
        "   - Muestra la distribución de los datos (número de muestras por clase) en ambas particiones\n",
        "\n",
        "<br>\n",
        "\n",
        "Empezamos por cargar los datos:"
      ]
    },
    {
      "cell_type": "code",
      "execution_count": null,
      "metadata": {
        "id": "Va96RWY5U_TE"
      },
      "outputs": [],
      "source": [
        "import pandas as pd\n",
        "import numpy as np\n",
        "\n",
        "# Importamos la base de datos MNIST que viene con Colab de ejemplo.\n",
        "# Para esto usamos Pandas:\n",
        "data = pd.read_csv('/content/sample_data/mnist_train_small.csv', header=None)\n",
        "\n",
        "# Separamos entre atributos y clases, y transformamos a Numpy:\n",
        "Y = np.asarray( data.loc[:,0] )\n",
        "p = Y.argsort()\n",
        "Y = Y[p]\n",
        "X = np.asarray( data.loc[:,1:] )[p]\n",
        "\n",
        "\n",
        "print('¡Datos cargados!')\n"
      ]
    },
    {
      "attachments": {},
      "cell_type": "markdown",
      "metadata": {
        "id": "SmfqXVp7uqo2"
      },
      "source": [
        "\n",
        "<br>\n",
        "\n",
        "A partir de los datos anteriores completa las diferentes tareas describas al inicio.\n",
        "\n",
        "<br>\n",
        "\n",
        "## Solución tarea 1:\n",
        "\n",
        "1. Muestra:\n",
        "\n",
        " - la forma de los datos y las etiquetas.\n",
        " - la primera etiqueta y las características de la primera muestra.\n",
        "\n",
        "\n"
      ]
    },
    {
      "cell_type": "code",
      "execution_count": null,
      "metadata": {
        "id": "mH8Q6yqpu1U6"
      },
      "outputs": [],
      "source": [
        "# Tarea 1:\n",
        "print('Forma de los datos: ', X.shape)\n",
        "print('Forma de las etiquetas: ', Y.shape)\n",
        "\n",
        "print('Primera etiqueta: ', Y[0])\n",
        "print('Características de la primera muestra: ', X[0])"
      ]
    },
    {
      "attachments": {},
      "cell_type": "markdown",
      "metadata": {
        "id": "e3PtT4Fi68oF"
      },
      "source": [
        "## Solución tarea 2:\n",
        "\n",
        "2. Usando Numpy crea la partición de entrenamiento con el 80% de los datos y la de test con el resto.\n",
        "   - Muestra la forma de los datos de cada partición.\n",
        "   - Muestra la distribución de los datos (número de muestras por clase) en ambas particiones."
      ]
    },
    {
      "cell_type": "code",
      "execution_count": null,
      "metadata": {
        "id": "Rjj1j255vapU"
      },
      "outputs": [],
      "source": [
        "# Tarea 2:\n",
        "# Partición de los datos\n",
        "num_train_samples = int(0.8 * X.shape[0])  # 80% de los datos para entrenamiento\n",
        "X_train, X_test = X[:num_train_samples], X[num_train_samples:]\n",
        "Y_train, Y_test = Y[:num_train_samples], Y[num_train_samples:]\n",
        "\n",
        "print('Forma de los datos de entrenamiento: ', X_train.shape)\n",
        "print('Forma de los datos de test: ', X_test.shape)\n",
        "\n",
        "# Muestra la distribución de los datos en la partición de entrenamiento y test\n",
        "print('Distribución de las clases en los datos de entrenamiento: ', np.bincount(Y_train))\n",
        "print('Distribución de las clases en los datos de test: ', np.bincount(Y_test))"
      ]
    },
    {
      "attachments": {},
      "cell_type": "markdown",
      "metadata": {
        "id": "ft-y-7Kx7ZsV"
      },
      "source": [
        "## Solución tarea 3:\n",
        "\n",
        "3. Crea las particiones (80% train, 20% test) usando la función `train_test_split` de Sklearn con la opción de estratificar los datos.\n",
        "   - Muestra la forma de los datos de cada partición.\n",
        "   - Muestra la distribución de los datos (número de muestras por clase) en ambas particiones"
      ]
    },
    {
      "cell_type": "code",
      "execution_count": null,
      "metadata": {
        "id": "lnKgq_Fd7kxp"
      },
      "outputs": [],
      "source": [
        "# Tarea 3:\n",
        "# Usando la función train_test_split de sklearn\n",
        "X_train, X_test, Y_train, Y_test = train_test_split(X, Y, test_size=0.2, random_state=42, stratify=Y)\n",
        "\n",
        "print('Forma de los datos de entrenamiento: ', X_train.shape)\n",
        "print('Forma de los datos de test: ', X_test.shape)\n",
        "\n",
        "# Muestra la distribución de los datos en la partición de entrenamiento y test\n",
        "print('Distribución de las clases en los datos de entrenamiento: ', np.bincount(Y_train))\n",
        "print('Distribución de las clases en los datos de test: ', np.bincount(Y_test))"
      ]
    }
  ],
  "metadata": {
    "colab": {
      "provenance": [],
      "toc_visible": true
    },
    "kernelspec": {
      "display_name": "Python 3",
      "name": "python3"
    },
    "language_info": {
      "name": "python"
    }
  },
  "nbformat": 4,
  "nbformat_minor": 0
}
