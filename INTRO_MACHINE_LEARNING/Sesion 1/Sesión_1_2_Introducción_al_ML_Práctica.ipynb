{
  "nbformat": 4,
  "nbformat_minor": 0,
  "metadata": {
    "colab": {
      "provenance": [],
      "toc_visible": true
    },
    "kernelspec": {
      "name": "python3",
      "display_name": "Python 3"
    },
    "language_info": {
      "name": "python"
    }
  },
  "cells": [
    {
      "cell_type": "markdown",
      "source": [
        "# Ejemplo 1 - clustering de colores\n",
        "\n",
        "Vamos a probar el algoritmo [k-means de Sklearn](https://scikit-learn.org/stable/modules/generated/sklearn.cluster.KMeans.html) para agrupar los colores de una imagen.\n",
        "\n",
        "<br>\n",
        "\n",
        "En primer lugar cargamos y mostramos la imagen a procesar:"
      ],
      "metadata": {
        "id": "rn6BccYuq2Ug"
      }
    },
    {
      "cell_type": "code",
      "source": [
        "import matplotlib.pyplot as plt\n",
        "from PIL import Image\n",
        "\n",
        "\n",
        "# Descargamos una imagen de prueba\n",
        "\n",
        "!wget -q http://www.dlsi.ua.es/~jgallego/deepraltamira/sample_lenna.jpg\n",
        "\n",
        "\n",
        "\n",
        "# Abrimos la imagen y la mostramos\n",
        "\n",
        "imagen = Image.open(\"sample_lenna.jpg\")\n",
        "\n",
        "\n",
        "plt.imshow( imagen )\n",
        "plt.axis(\"off\")\n",
        "plt.show()\n"
      ],
      "metadata": {
        "id": "DzZ5nHab3rT3"
      },
      "execution_count": null,
      "outputs": []
    },
    {
      "cell_type": "markdown",
      "source": [
        "<br>\n",
        "\n",
        "A continuación escribimos el código para procesar una imagen mediante el método k-means:\n",
        "\n",
        "<br>"
      ],
      "metadata": {
        "id": "h_NRv4Vm4Drh"
      }
    },
    {
      "cell_type": "code",
      "source": [
        "import numpy as np\n",
        "from sklearn.cluster import KMeans\n",
        "\n",
        "# ---------------------------------------------------------------------\n",
        "def kmeans_image(imagen, num_colors):\n",
        "    # Convertir la imagen a una matriz numpy\n",
        "    image_np = np.array(imagen)\n",
        "\n",
        "    # Obtener las dimensiones de la imagen\n",
        "    height, width, _ = image_np.shape\n",
        "\n",
        "    # Reshape la matriz para que tenga la forma (n_pixels, n_features)\n",
        "    image_np_flat = image_np.reshape(-1, 3)\n",
        "\n",
        "    # Aplicar el algoritmo K-means\n",
        "    kmeans = KMeans(n_clusters=num_colors, init='k-means++', n_init='auto', random_state=42)\n",
        "    kmeans.fit(image_np_flat)\n",
        "\n",
        "    # Obtener los centroides y las etiquetas de los clusters\n",
        "    centroids = kmeans.cluster_centers_\n",
        "    labels = kmeans.labels_\n",
        "\n",
        "    # Crear una imagen vacía para almacenar los colores agrupados\n",
        "    clustered_image = np.zeros_like(image_np_flat)\n",
        "\n",
        "    # Asignar cada píxel al centroide más cercano y asignarle su color\n",
        "    for i in range(len(clustered_image)):\n",
        "        clustered_image[i] = centroids[labels[i]]\n",
        "\n",
        "    # Restaurar la forma original de la imagen\n",
        "    clustered_image = clustered_image.reshape(height, width, 3)\n",
        "\n",
        "    return clustered_image\n",
        "\n",
        "\n",
        "print(\"\\n¡Función 'kmeans_image' definida!\\n\")\n"
      ],
      "metadata": {
        "id": "TarqJvi0Vsyb"
      },
      "execution_count": null,
      "outputs": []
    },
    {
      "cell_type": "markdown",
      "source": [
        "<br>\n",
        "\n",
        "Por último utilizamos la función anterior para procesar la imagen que habíamos cargado al inicio:\n",
        "\n",
        "<br>"
      ],
      "metadata": {
        "id": "nAbNtmQ84fH7"
      }
    },
    {
      "cell_type": "code",
      "source": [
        "# ---------------------------------------------------------------------\n",
        "# Ejemplo de uso\n",
        "\n",
        "num_colors = 4\n",
        "\n",
        "clustered = kmeans_image( imagen, num_colors )\n",
        "\n",
        "\n",
        "# Mostrar la imagen original y la imagen agrupada\n",
        "fig, ax = plt.subplots(1, 2, figsize=(10, 5))\n",
        "ax[0].imshow( imagen )\n",
        "ax[0].set_title(\"Imagen original\")\n",
        "ax[0].axis(\"off\")\n",
        "\n",
        "ax[1].imshow( clustered.astype(np.uint8) )\n",
        "ax[1].set_title(\"Imagen agrupada con K-means\")\n",
        "ax[1].axis(\"off\")\n",
        "\n",
        "plt.show()\n"
      ],
      "metadata": {
        "id": "KB1NH7Pe4S0-"
      },
      "execution_count": null,
      "outputs": []
    },
    {
      "cell_type": "markdown",
      "source": [
        "# Ejemplo 2 - Clustering MNIST\n",
        "\n",
        "Vamos a aplicar clustering para agrupar los dígitos de la base de datos [MNIST](https://en.wikipedia.org/wiki/MNIST_database) según su apariencia.\n",
        "\n",
        "<br>\n",
        "\n",
        "Empezamos por cargar los datos y mostrar un dígito de ejemplo:"
      ],
      "metadata": {
        "id": "MLJeMaTJgDz1"
      }
    },
    {
      "cell_type": "code",
      "source": [
        "import pandas as pd\n",
        "import numpy as np\n",
        "\n",
        "# Importamos la base de datos MNIST que viene con Colab de ejemplo.\n",
        "# Para esto usamos Pandas:\n",
        "\n",
        "data = pd.read_csv('/content/sample_data/mnist_test.csv', header=None)\n",
        "\n",
        "\n",
        "# Guardamos los atributos de los datos en X y transformamos a Numpy.\n",
        "# Importante: NO guardamos las clases (que estarían en data.loc[:,0])\n",
        "\n",
        "X = np.asarray( data.loc[:,1:] )\n",
        "\n",
        "print('\\nDimensiones de los datos:', X.shape)\n",
        "\n",
        "# Mostramos un dígito de ejemplo:\n",
        "\n",
        "# Restaurar la forma original de la imagen\n",
        "ejemplo = X[0].reshape(28, 28, 1)\n",
        "\n",
        "plt.axis(\"off\")\n",
        "plt.title(\"Dígito de ejemplo\")\n",
        "plt.imshow(ejemplo)\n",
        "plt.show()"
      ],
      "metadata": {
        "id": "VbFkOYa2gFqA"
      },
      "execution_count": null,
      "outputs": []
    },
    {
      "cell_type": "markdown",
      "source": [
        "<br>\n",
        "\n",
        "A continuación ejecutamos el algoritmo k-means con k=10\n",
        "\n",
        "<br>"
      ],
      "metadata": {
        "id": "XPIKkKootgXL"
      }
    },
    {
      "cell_type": "code",
      "source": [
        "# Importamos k-means\n",
        "\n",
        "from sklearn.cluster import KMeans\n",
        "\n",
        "\n",
        "#Inicializamos el algoritmo\n",
        "\n",
        "kmeans = KMeans(n_clusters=10, init='k-means++', n_init='auto', random_state=20)\n",
        "\n",
        "\n",
        "# Realizamos el proceso de clustering sobre los datos X\n",
        "\n",
        "clustering = kmeans.fit(X)\n",
        "\n",
        "\n",
        "print(\"\\n¡Clustering finalizado!\")\n"
      ],
      "metadata": {
        "id": "yyW7vcJPga2F"
      },
      "execution_count": null,
      "outputs": []
    },
    {
      "cell_type": "markdown",
      "source": [
        "<br>\n",
        "\n",
        "Y por último comprobamos los resultados:\n",
        "\n",
        "<br>"
      ],
      "metadata": {
        "id": "Df7wedW_iD-Z"
      }
    },
    {
      "cell_type": "code",
      "source": [
        "\n",
        "# Número de clusters:\n",
        "\n",
        "print(\"El número de clusters es:\", clustering.n_clusters)\n",
        "\n",
        "\n",
        "# Vamos a mostrar los números asignados a cada cluster\n",
        "# Para esto primero recuperamos las etiquetas originales\n",
        "\n",
        "Y = np.asarray( data.loc[:,0] )\n",
        "\n",
        "\n",
        "# Almacenamos las etiquetas por cluster\n",
        "\n",
        "from collections import defaultdict\n",
        "results = defaultdict(list)\n",
        "\n",
        "for i in range(len(X)):\n",
        "  results[ clustering.labels_[i] ].append( Y[i] )\n",
        "\n",
        "\n",
        "# Y mostramos un histograma de cada cluster con los dígitos asignados\n",
        "\n",
        "for c in range(10):\n",
        "  print(\"\\n\\nContenido del cluster {}:\".format(c))\n",
        "  plt.figure(figsize=(3,2))\n",
        "  plt.hist(results[c], bins=10)\n",
        "  plt.xticks(range(10))\n",
        "  plt.show()"
      ],
      "metadata": {
        "id": "STmKQEVegmXE"
      },
      "execution_count": null,
      "outputs": []
    },
    {
      "cell_type": "markdown",
      "source": [
        "# Ejemplo 3 - PCA\n",
        "\n",
        "Vamos ahora a reducir la dimensionalidad de los datos de MNIST usando el algoritmo [PCA de Sklearn](https://scikit-learn.org/stable/modules/generated/sklearn.decomposition.PCA.html).\n",
        "\n",
        "<br>\n",
        "\n",
        "En este caso simplemente estudiaremos cómo aplicar este algoritmo para reducir cada dígito, compuesto por 784 características, a solamente 2 características.\n",
        "\n",
        "\n",
        "<br>\n",
        "\n",
        "Empezamos por inicializar el algoritmo PCA y procesar los datos de MNIST:"
      ],
      "metadata": {
        "id": "_1AOxqGsycQK"
      }
    },
    {
      "cell_type": "code",
      "source": [
        "#Importamos la librería\n",
        "from sklearn.decomposition import PCA\n",
        "\n",
        "# Inicializamos el método PCA y establecemos que nos devuelva elementos de 2 dimensiones\n",
        "PCA_Mapping = PCA(n_components=2, random_state=2)\n",
        "\n",
        "# Ajustamos el método con los datos X de MNIST\n",
        "PCA_Mapping = PCA_Mapping.fit(X)\n",
        "\n",
        "# Mapeamos los datos:\n",
        "X_clust_PCA = PCA_Mapping.transform(X)\n",
        "\n",
        "\n",
        "#Mostramos los resultados:\n",
        "print(\"Antes de PCA tenemos {} elementos con {} características cada uno\".format(X.shape[0], X.shape[1]))\n",
        "\n",
        "print(\"Tras PCA tenemos {} elementos con {} características cada uno\".format(X_clust_PCA.shape[0], X_clust_PCA.shape[1]))"
      ],
      "metadata": {
        "id": "bXQlqbNhyeQJ"
      },
      "execution_count": null,
      "outputs": []
    },
    {
      "cell_type": "markdown",
      "source": [
        "<br>\n",
        "\n",
        "Por último representamos en una gráfica los dígitos utilizando la nueva representación con 2 dimensiones obtenida mediante PCA:\n",
        "\n",
        "<br>"
      ],
      "metadata": {
        "id": "PN8byxdK5LAo"
      }
    },
    {
      "cell_type": "code",
      "source": [
        "# Reducimos el número elementos a mostrar para crear una gráfica más clara\n",
        "num_elementos = 5000\n",
        "\n",
        "plt.scatter(X_clust_PCA[:num_elementos, 0],\n",
        "            X_clust_PCA[:num_elementos, 1],\n",
        "            c=Y[:num_elementos],\n",
        "            cmap=plt.cm.Set1, edgecolor=\"k\")\n",
        "plt.show()"
      ],
      "metadata": {
        "id": "4qE7FWheze27"
      },
      "execution_count": null,
      "outputs": []
    }
  ]
}